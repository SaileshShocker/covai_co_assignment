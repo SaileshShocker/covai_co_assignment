{
 "cells": [
  {
   "cell_type": "code",
   "execution_count": 143,
   "metadata": {},
   "outputs": [],
   "source": [
    "from bs4 import BeautifulSoup\n",
    "import requests\n",
    "import pandas as pd\n",
    "\n",
    "url = \"https://www.knowledgeowl.com/\"\n",
    "headers = {\n",
    "            'User-Agent': 'Mozilla/5.0 (Windows NT 10.0; Win64; x64) AppleWebKit/537.36 (KHTML, like Gecko) Chrome/91.0.4472.124 Safari/537.36'\n",
    "        }\n",
    "\n",
    "r = requests.get(url, headers=headers)\n",
    "\n",
    "soup = BeautifulSoup(r.content, \"html.parser\")\n",
    "customers = soup.find_all('div',class_=\"framer-dt4c16-container\")"
   ]
  },
  {
   "cell_type": "code",
   "execution_count": 144,
   "metadata": {},
   "outputs": [],
   "source": [
    "# Initializing a list to store img src urls\n",
    "customer_logos_for_knowledgeowl = []"
   ]
  },
  {
   "cell_type": "code",
   "execution_count": 145,
   "metadata": {},
   "outputs": [],
   "source": [
    "# Looping through each li tag inside the first framer-dt4c16-container\n",
    "for li_tag in customers[0].section.find_all('li'):\n",
    "    img_tag = li_tag.find('img')\n",
    "    if img_tag:\n",
    "        img_src = img_tag.get('src')\n",
    "        customer_logos_for_knowledgeowl.append(img_src)"
   ]
  },
  {
   "cell_type": "code",
   "execution_count": 146,
   "metadata": {},
   "outputs": [
    {
     "data": {
      "text/plain": [
       "['https://framerusercontent.com/images/0PrE9bWdWx5Xsk076bpeRxZm1E.png',\n",
       " 'https://framerusercontent.com/images/6Vwa3mmfKYsSekqw8hZyBSZxHMc.png',\n",
       " 'https://framerusercontent.com/images/zm1Mw1PZnM5sJZUt1E2PdFAJ9k.png',\n",
       " 'https://framerusercontent.com/images/eRtigCiWb0Jyz5vEkhkZrpyQ.png',\n",
       " 'https://framerusercontent.com/images/kkhqfVOsfwsyUDztPci0vQasXc.png',\n",
       " 'https://framerusercontent.com/images/spu8BxLiJFcR87AGmZU8E275tSU.png']"
      ]
     },
     "execution_count": 146,
     "metadata": {},
     "output_type": "execute_result"
    }
   ],
   "source": [
    "customer_logos_for_knowledgeowl"
   ]
  },
  {
   "cell_type": "code",
   "execution_count": 147,
   "metadata": {},
   "outputs": [],
   "source": [
    "# Creating a folder named \"knowledgeowl_logos\"\n",
    "import os\n",
    "from urllib.parse import urljoin\n",
    "\n",
    "folder_name = \"knowledgeowl_logos\"\n",
    "os.makedirs(folder_name, exist_ok=True)"
   ]
  },
  {
   "cell_type": "code",
   "execution_count": 149,
   "metadata": {},
   "outputs": [
    {
     "name": "stdout",
     "output_type": "stream",
     "text": [
      "Image saved: knowledgeowl_logos\\customer1.png\n",
      "Image saved: knowledgeowl_logos\\customer2.png\n",
      "Image saved: knowledgeowl_logos\\customer3.png\n",
      "Image saved: knowledgeowl_logos\\customer4.png\n",
      "Image saved: knowledgeowl_logos\\customer5.png\n",
      "Image saved: knowledgeowl_logos\\customer6.png\n"
     ]
    }
   ],
   "source": [
    "for index, src in enumerate(customer_logos_for_knowledgeowl, start=1):\n",
    "    # Getting the image content\n",
    "    response = requests.get(src)\n",
    "    \n",
    "    # Extracting the image file name from the URL\n",
    "    img_name = os.path.join(folder_name, f\"customer{index}.png\")\n",
    "\n",
    "    # Saving the image to the folder\n",
    "    with open(img_name, 'wb') as img_file:\n",
    "        img_file.write(response.content)\n",
    "\n",
    "    print(f\"Image saved: {img_name}\")"
   ]
  },
  {
   "cell_type": "code",
   "execution_count": null,
   "metadata": {},
   "outputs": [],
   "source": []
  }
 ],
 "metadata": {
  "kernelspec": {
   "display_name": "analysis",
   "language": "python",
   "name": "python3"
  },
  "language_info": {
   "codemirror_mode": {
    "name": "ipython",
    "version": 3
   },
   "file_extension": ".py",
   "mimetype": "text/x-python",
   "name": "python",
   "nbconvert_exporter": "python",
   "pygments_lexer": "ipython3",
   "version": "3.10.5"
  }
 },
 "nbformat": 4,
 "nbformat_minor": 2
}
