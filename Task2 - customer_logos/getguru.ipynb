{
 "cells": [
  {
   "cell_type": "code",
   "execution_count": 64,
   "metadata": {},
   "outputs": [],
   "source": [
    "from bs4 import BeautifulSoup\n",
    "import requests\n",
    "import pandas as pd\n",
    "\n",
    "url = \"https://www.getguru.com/customers\"\n",
    "headers = {\n",
    "            'User-Agent': 'Mozilla/5.0 (Windows NT 10.0; Win64; x64) AppleWebKit/537.36 (KHTML, like Gecko) Chrome/91.0.4472.124 Safari/537.36'\n",
    "        }\n",
    "\n",
    "r = requests.get(url, headers=headers)\n",
    "\n",
    "soup = BeautifulSoup(r.content, \"html.parser\")\n",
    "customers = soup.find_all('div',class_='resources-list w-dyn-items')"
   ]
  },
  {
   "cell_type": "code",
   "execution_count": 65,
   "metadata": {},
   "outputs": [],
   "source": [
    "getguru_logos = soup.find_all('img',class_=\"alternative-card-logo on-card\")"
   ]
  },
  {
   "cell_type": "code",
   "execution_count": 66,
   "metadata": {},
   "outputs": [
    {
     "data": {
      "text/plain": [
       "[<img alt=\"\" class=\"alternative-card-logo on-card\" src=\"https://assets-global.website-files.com/5da60b8bfc98fdf11111b791/5e333eaa7f2c2f594137ee54_5dbb40e9285ec25023596427_Shopify.svg\"/>,\n",
       " <img alt=\"\" class=\"alternative-card-logo on-card\" src=\"https://assets-global.website-files.com/5da60b8bfc98fdf11111b791/5e2224599e6c4963577e70cd_Intercom-black.svg\"/>,\n",
       " <img alt=\"\" class=\"alternative-card-logo on-card\" sizes=\"180px\" src=\"https://assets-global.website-files.com/5da60b8bfc98fdf11111b791/60664251ceefb07b6127b17d_favor-delivery-logo.png\" srcset=\"https://assets-global.website-files.com/5da60b8bfc98fdf11111b791/60664251ceefb07b6127b17d_favor-delivery-logo-p-500.png 500w, https://assets-global.website-files.com/5da60b8bfc98fdf11111b791/60664251ceefb07b6127b17d_favor-delivery-logo-p-800.png 800w, https://assets-global.website-files.com/5da60b8bfc98fdf11111b791/60664251ceefb07b6127b17d_favor-delivery-logo.png 823w\"/>,\n",
       " <img alt=\"\" class=\"alternative-card-logo on-card\" src=\"https://assets-global.website-files.com/5da60b8bfc98fdf11111b791/5e220c6238a4a9c7111ad911_bitly_logo.svg\"/>,\n",
       " <img alt=\"\" class=\"alternative-card-logo on-card\" src=\"https://assets-global.website-files.com/5da60b8bfc98fdf11111b791/5e2217d7bd16c0c8dc3f934d_5dbc8d02d2d6264107c951ff_Glint%20logo%402x.png\"/>,\n",
       " <img alt=\"\" class=\"alternative-card-logo on-card\" src=\"https://assets-global.website-files.com/5da60b8bfc98fdf11111b791/5e345dcad4897dc3607cffc3_4e3.splash-black-90.png\"/>,\n",
       " <img alt=\"\" class=\"alternative-card-logo on-card\" src=\"https://assets-global.website-files.com/5da60b8bfc98fdf11111b791/5f062a70d53da9976ccedec6_via-transpo-logo.png\"/>,\n",
       " <img alt=\"\" class=\"alternative-card-logo on-card\" src=\"https://assets-global.website-files.com/5da60b8bfc98fdf11111b791/5e332791fabe78388409d907_stickermule.svg\"/>,\n",
       " <img alt=\"\" class=\"alternative-card-logo on-card\" src=\"https://assets-global.website-files.com/5da60b8bfc98fdf11111b791/64b5847138572e5313ff6a51_emma.png\"/>,\n",
       " <img alt=\"\" class=\"alternative-card-logo on-card\" sizes=\"180px\" src=\"https://assets-global.website-files.com/5da60b8bfc98fdf11111b791/5ff8bb42b9e2327c8fc21e6b_Wrike-logo_color_black_RGB.png\" srcset=\"https://assets-global.website-files.com/5da60b8bfc98fdf11111b791/5ff8bb42b9e2327c8fc21e6b_Wrike-logo_color_black_RGB-p-500.png 500w, https://assets-global.website-files.com/5da60b8bfc98fdf11111b791/5ff8bb42b9e2327c8fc21e6b_Wrike-logo_color_black_RGB-p-800.png 800w, https://assets-global.website-files.com/5da60b8bfc98fdf11111b791/5ff8bb42b9e2327c8fc21e6b_Wrike-logo_color_black_RGB-p-1080.png 1080w, https://assets-global.website-files.com/5da60b8bfc98fdf11111b791/5ff8bb42b9e2327c8fc21e6b_Wrike-logo_color_black_RGB.png 1501w\"/>,\n",
       " <img alt=\"\" class=\"alternative-card-logo on-card\" src=\"https://assets-global.website-files.com/5da60b8bfc98fdf11111b791/5e345441a7e40a57e852dc2e_conductor-logo.svg\"/>,\n",
       " <img alt=\"\" class=\"alternative-card-logo on-card\" src=\"https://assets-global.website-files.com/5da60b8bfc98fdf11111b791/62227f5ec46f56a297836b3b_noom-logo-updated.png\"/>,\n",
       " <img alt=\"\" class=\"alternative-card-logo on-card\" src=\"https://assets-global.website-files.com/5da60b8bfc98fdf11111b791/5e332917c4d84322aa793939_wordmark_2x.png\"/>,\n",
       " <img alt=\"\" class=\"alternative-card-logo on-card\" sizes=\"180px\" src=\"https://assets-global.website-files.com/5da60b8bfc98fdf11111b791/5f6d054dff5d389f9a6d9330_5f6bdb1aa0a135439bf2c48f_logo-dark2.png\" srcset=\"https://assets-global.website-files.com/5da60b8bfc98fdf11111b791/5f6d054dff5d389f9a6d9330_5f6bdb1aa0a135439bf2c48f_logo-dark2-p-500.png 500w, https://assets-global.website-files.com/5da60b8bfc98fdf11111b791/5f6d054dff5d389f9a6d9330_5f6bdb1aa0a135439bf2c48f_logo-dark2-p-800.png 800w, https://assets-global.website-files.com/5da60b8bfc98fdf11111b791/5f6d054dff5d389f9a6d9330_5f6bdb1aa0a135439bf2c48f_logo-dark2-p-1080.png 1080w, https://assets-global.website-files.com/5da60b8bfc98fdf11111b791/5f6d054dff5d389f9a6d9330_5f6bdb1aa0a135439bf2c48f_logo-dark2.png 1491w\"/>,\n",
       " <img alt=\"\" class=\"alternative-card-logo on-card\" sizes=\"180px\" src=\"https://assets-global.website-files.com/5da60b8bfc98fdf11111b791/5e345eb939b1d26c140d7e28_VnKmryy7SQSEr37MITRq.png\" srcset=\"https://assets-global.website-files.com/5da60b8bfc98fdf11111b791/5e345eb939b1d26c140d7e28_VnKmryy7SQSEr37MITRq-p-500.png 500w, https://assets-global.website-files.com/5da60b8bfc98fdf11111b791/5e345eb939b1d26c140d7e28_VnKmryy7SQSEr37MITRq.png 747w\"/>,\n",
       " <img alt=\"\" class=\"alternative-card-logo on-card\" src=\"https://assets-global.website-files.com/5da60b8bfc98fdf11111b791/5e2217d7bd16c0c8dc3f934d_5dbc8d02d2d6264107c951ff_Glint%20logo%402x.png\"/>,\n",
       " <img alt=\"\" class=\"alternative-card-logo on-card\" src=\"https://assets-global.website-files.com/5da60b8bfc98fdf11111b791/5e345dcad4897dc3607cffc3_4e3.splash-black-90.png\"/>,\n",
       " <img alt=\"\" class=\"alternative-card-logo on-card\" src=\"https://assets-global.website-files.com/5da60b8bfc98fdf11111b791/5e345441a7e40a57e852dc2e_conductor-logo.svg\"/>,\n",
       " <img alt=\"\" class=\"alternative-card-logo on-card\" sizes=\"180px\" src=\"https://assets-global.website-files.com/5da60b8bfc98fdf11111b791/5f6d054dff5d389f9a6d9330_5f6bdb1aa0a135439bf2c48f_logo-dark2.png\" srcset=\"https://assets-global.website-files.com/5da60b8bfc98fdf11111b791/5f6d054dff5d389f9a6d9330_5f6bdb1aa0a135439bf2c48f_logo-dark2-p-500.png 500w, https://assets-global.website-files.com/5da60b8bfc98fdf11111b791/5f6d054dff5d389f9a6d9330_5f6bdb1aa0a135439bf2c48f_logo-dark2-p-800.png 800w, https://assets-global.website-files.com/5da60b8bfc98fdf11111b791/5f6d054dff5d389f9a6d9330_5f6bdb1aa0a135439bf2c48f_logo-dark2-p-1080.png 1080w, https://assets-global.website-files.com/5da60b8bfc98fdf11111b791/5f6d054dff5d389f9a6d9330_5f6bdb1aa0a135439bf2c48f_logo-dark2.png 1491w\"/>,\n",
       " <img alt=\"\" class=\"alternative-card-logo on-card\" src=\"https://assets-global.website-files.com/5da60b8bfc98fdf11111b791/5e333eaa7f2c2f594137ee54_5dbb40e9285ec25023596427_Shopify.svg\"/>,\n",
       " <img alt=\"\" class=\"alternative-card-logo on-card\" src=\"https://assets-global.website-files.com/5da60b8bfc98fdf11111b791/5e2224599e6c4963577e70cd_Intercom-black.svg\"/>,\n",
       " <img alt=\"\" class=\"alternative-card-logo on-card\" src=\"https://assets-global.website-files.com/5da60b8bfc98fdf11111b791/5f062a70d53da9976ccedec6_via-transpo-logo.png\"/>,\n",
       " <img alt=\"\" class=\"alternative-card-logo on-card\" src=\"https://assets-global.website-files.com/5da60b8bfc98fdf11111b791/5e332791fabe78388409d907_stickermule.svg\"/>,\n",
       " <img alt=\"\" class=\"alternative-card-logo on-card\" src=\"https://assets-global.website-files.com/5da60b8bfc98fdf11111b791/64b5847138572e5313ff6a51_emma.png\"/>,\n",
       " <img alt=\"\" class=\"alternative-card-logo on-card\" src=\"https://assets-global.website-files.com/5da60b8bfc98fdf11111b791/62227f5ec46f56a297836b3b_noom-logo-updated.png\"/>,\n",
       " <img alt=\"\" class=\"alternative-card-logo on-card\" sizes=\"180px\" src=\"https://assets-global.website-files.com/5da60b8bfc98fdf11111b791/5f6d054dff5d389f9a6d9330_5f6bdb1aa0a135439bf2c48f_logo-dark2.png\" srcset=\"https://assets-global.website-files.com/5da60b8bfc98fdf11111b791/5f6d054dff5d389f9a6d9330_5f6bdb1aa0a135439bf2c48f_logo-dark2-p-500.png 500w, https://assets-global.website-files.com/5da60b8bfc98fdf11111b791/5f6d054dff5d389f9a6d9330_5f6bdb1aa0a135439bf2c48f_logo-dark2-p-800.png 800w, https://assets-global.website-files.com/5da60b8bfc98fdf11111b791/5f6d054dff5d389f9a6d9330_5f6bdb1aa0a135439bf2c48f_logo-dark2-p-1080.png 1080w, https://assets-global.website-files.com/5da60b8bfc98fdf11111b791/5f6d054dff5d389f9a6d9330_5f6bdb1aa0a135439bf2c48f_logo-dark2.png 1491w\"/>,\n",
       " <img alt=\"\" class=\"alternative-card-logo on-card\" sizes=\"180px\" src=\"https://assets-global.website-files.com/5da60b8bfc98fdf11111b791/5e345eb939b1d26c140d7e28_VnKmryy7SQSEr37MITRq.png\" srcset=\"https://assets-global.website-files.com/5da60b8bfc98fdf11111b791/5e345eb939b1d26c140d7e28_VnKmryy7SQSEr37MITRq-p-500.png 500w, https://assets-global.website-files.com/5da60b8bfc98fdf11111b791/5e345eb939b1d26c140d7e28_VnKmryy7SQSEr37MITRq.png 747w\"/>,\n",
       " <img alt=\"\" class=\"alternative-card-logo on-card\" sizes=\"180px\" src=\"https://assets-global.website-files.com/5da60b8bfc98fdf11111b791/60664251ceefb07b6127b17d_favor-delivery-logo.png\" srcset=\"https://assets-global.website-files.com/5da60b8bfc98fdf11111b791/60664251ceefb07b6127b17d_favor-delivery-logo-p-500.png 500w, https://assets-global.website-files.com/5da60b8bfc98fdf11111b791/60664251ceefb07b6127b17d_favor-delivery-logo-p-800.png 800w, https://assets-global.website-files.com/5da60b8bfc98fdf11111b791/60664251ceefb07b6127b17d_favor-delivery-logo.png 823w\"/>,\n",
       " <img alt=\"\" class=\"alternative-card-logo on-card\" src=\"https://assets-global.website-files.com/5da60b8bfc98fdf11111b791/5e220c6238a4a9c7111ad911_bitly_logo.svg\"/>,\n",
       " <img alt=\"\" class=\"alternative-card-logo on-card\" src=\"https://assets-global.website-files.com/5da60b8bfc98fdf11111b791/5e2217d7bd16c0c8dc3f934d_5dbc8d02d2d6264107c951ff_Glint%20logo%402x.png\"/>,\n",
       " <img alt=\"\" class=\"alternative-card-logo on-card\" src=\"https://assets-global.website-files.com/5da60b8bfc98fdf11111b791/5e332791fabe78388409d907_stickermule.svg\"/>,\n",
       " <img alt=\"\" class=\"alternative-card-logo on-card\" sizes=\"180px\" src=\"https://assets-global.website-files.com/5da60b8bfc98fdf11111b791/5ff8bb42b9e2327c8fc21e6b_Wrike-logo_color_black_RGB.png\" srcset=\"https://assets-global.website-files.com/5da60b8bfc98fdf11111b791/5ff8bb42b9e2327c8fc21e6b_Wrike-logo_color_black_RGB-p-500.png 500w, https://assets-global.website-files.com/5da60b8bfc98fdf11111b791/5ff8bb42b9e2327c8fc21e6b_Wrike-logo_color_black_RGB-p-800.png 800w, https://assets-global.website-files.com/5da60b8bfc98fdf11111b791/5ff8bb42b9e2327c8fc21e6b_Wrike-logo_color_black_RGB-p-1080.png 1080w, https://assets-global.website-files.com/5da60b8bfc98fdf11111b791/5ff8bb42b9e2327c8fc21e6b_Wrike-logo_color_black_RGB.png 1501w\"/>,\n",
       " <img alt=\"\" class=\"alternative-card-logo on-card\" src=\"https://assets-global.website-files.com/5da60b8bfc98fdf11111b791/5e332917c4d84322aa793939_wordmark_2x.png\"/>,\n",
       " <img alt=\"\" class=\"alternative-card-logo on-card\" sizes=\"180px\" src=\"https://assets-global.website-files.com/5da60b8bfc98fdf11111b791/5f6d054dff5d389f9a6d9330_5f6bdb1aa0a135439bf2c48f_logo-dark2.png\" srcset=\"https://assets-global.website-files.com/5da60b8bfc98fdf11111b791/5f6d054dff5d389f9a6d9330_5f6bdb1aa0a135439bf2c48f_logo-dark2-p-500.png 500w, https://assets-global.website-files.com/5da60b8bfc98fdf11111b791/5f6d054dff5d389f9a6d9330_5f6bdb1aa0a135439bf2c48f_logo-dark2-p-800.png 800w, https://assets-global.website-files.com/5da60b8bfc98fdf11111b791/5f6d054dff5d389f9a6d9330_5f6bdb1aa0a135439bf2c48f_logo-dark2-p-1080.png 1080w, https://assets-global.website-files.com/5da60b8bfc98fdf11111b791/5f6d054dff5d389f9a6d9330_5f6bdb1aa0a135439bf2c48f_logo-dark2.png 1491w\"/>]"
      ]
     },
     "execution_count": 66,
     "metadata": {},
     "output_type": "execute_result"
    }
   ],
   "source": [
    "getguru_logos"
   ]
  },
  {
   "cell_type": "code",
   "execution_count": 67,
   "metadata": {},
   "outputs": [
    {
     "name": "stdout",
     "output_type": "stream",
     "text": [
      "https://assets-global.website-files.com/5da60b8bfc98fdf11111b791/5e2217d7bd16c0c8dc3f934d_5dbc8d02d2d6264107c951ff_Glint%20logo%402x.png\n",
      "https://assets-global.website-files.com/5da60b8bfc98fdf11111b791/5e220c6238a4a9c7111ad911_bitly_logo.svg\n",
      "https://assets-global.website-files.com/5da60b8bfc98fdf11111b791/60664251ceefb07b6127b17d_favor-delivery-logo.png\n",
      "https://assets-global.website-files.com/5da60b8bfc98fdf11111b791/5f062a70d53da9976ccedec6_via-transpo-logo.png\n",
      "https://assets-global.website-files.com/5da60b8bfc98fdf11111b791/5e333eaa7f2c2f594137ee54_5dbb40e9285ec25023596427_Shopify.svg\n",
      "https://assets-global.website-files.com/5da60b8bfc98fdf11111b791/5f6d054dff5d389f9a6d9330_5f6bdb1aa0a135439bf2c48f_logo-dark2.png\n",
      "https://assets-global.website-files.com/5da60b8bfc98fdf11111b791/5e345441a7e40a57e852dc2e_conductor-logo.svg\n",
      "https://assets-global.website-files.com/5da60b8bfc98fdf11111b791/5e345eb939b1d26c140d7e28_VnKmryy7SQSEr37MITRq.png\n",
      "https://assets-global.website-files.com/5da60b8bfc98fdf11111b791/64b5847138572e5313ff6a51_emma.png\n",
      "https://assets-global.website-files.com/5da60b8bfc98fdf11111b791/5e332791fabe78388409d907_stickermule.svg\n",
      "https://assets-global.website-files.com/5da60b8bfc98fdf11111b791/5ff8bb42b9e2327c8fc21e6b_Wrike-logo_color_black_RGB.png\n",
      "https://assets-global.website-files.com/5da60b8bfc98fdf11111b791/5e2224599e6c4963577e70cd_Intercom-black.svg\n",
      "https://assets-global.website-files.com/5da60b8bfc98fdf11111b791/62227f5ec46f56a297836b3b_noom-logo-updated.png\n",
      "https://assets-global.website-files.com/5da60b8bfc98fdf11111b791/5e345dcad4897dc3607cffc3_4e3.splash-black-90.png\n",
      "https://assets-global.website-files.com/5da60b8bfc98fdf11111b791/5e332917c4d84322aa793939_wordmark_2x.png\n"
     ]
    }
   ],
   "source": [
    "# Extract img src URLs and store in a list\n",
    "getguru_customer_logos = list(set([img['src'] for img in getguru_logos]))\n",
    "\n",
    "# Print the result\n",
    "for url in getguru_customer_logos:\n",
    "    print(url)"
   ]
  },
  {
   "cell_type": "code",
   "execution_count": 68,
   "metadata": {},
   "outputs": [
    {
     "data": {
      "text/plain": [
       "['https://assets-global.website-files.com/5da60b8bfc98fdf11111b791/5e2217d7bd16c0c8dc3f934d_5dbc8d02d2d6264107c951ff_Glint%20logo%402x.png',\n",
       " 'https://assets-global.website-files.com/5da60b8bfc98fdf11111b791/5e220c6238a4a9c7111ad911_bitly_logo.svg',\n",
       " 'https://assets-global.website-files.com/5da60b8bfc98fdf11111b791/60664251ceefb07b6127b17d_favor-delivery-logo.png',\n",
       " 'https://assets-global.website-files.com/5da60b8bfc98fdf11111b791/5f062a70d53da9976ccedec6_via-transpo-logo.png',\n",
       " 'https://assets-global.website-files.com/5da60b8bfc98fdf11111b791/5e333eaa7f2c2f594137ee54_5dbb40e9285ec25023596427_Shopify.svg',\n",
       " 'https://assets-global.website-files.com/5da60b8bfc98fdf11111b791/5f6d054dff5d389f9a6d9330_5f6bdb1aa0a135439bf2c48f_logo-dark2.png',\n",
       " 'https://assets-global.website-files.com/5da60b8bfc98fdf11111b791/5e345441a7e40a57e852dc2e_conductor-logo.svg',\n",
       " 'https://assets-global.website-files.com/5da60b8bfc98fdf11111b791/5e345eb939b1d26c140d7e28_VnKmryy7SQSEr37MITRq.png',\n",
       " 'https://assets-global.website-files.com/5da60b8bfc98fdf11111b791/64b5847138572e5313ff6a51_emma.png',\n",
       " 'https://assets-global.website-files.com/5da60b8bfc98fdf11111b791/5e332791fabe78388409d907_stickermule.svg',\n",
       " 'https://assets-global.website-files.com/5da60b8bfc98fdf11111b791/5ff8bb42b9e2327c8fc21e6b_Wrike-logo_color_black_RGB.png',\n",
       " 'https://assets-global.website-files.com/5da60b8bfc98fdf11111b791/5e2224599e6c4963577e70cd_Intercom-black.svg',\n",
       " 'https://assets-global.website-files.com/5da60b8bfc98fdf11111b791/62227f5ec46f56a297836b3b_noom-logo-updated.png',\n",
       " 'https://assets-global.website-files.com/5da60b8bfc98fdf11111b791/5e345dcad4897dc3607cffc3_4e3.splash-black-90.png',\n",
       " 'https://assets-global.website-files.com/5da60b8bfc98fdf11111b791/5e332917c4d84322aa793939_wordmark_2x.png']"
      ]
     },
     "execution_count": 68,
     "metadata": {},
     "output_type": "execute_result"
    }
   ],
   "source": [
    "getguru_customer_logos"
   ]
  },
  {
   "cell_type": "code",
   "execution_count": 69,
   "metadata": {},
   "outputs": [],
   "source": [
    "# Creating a folder named \"getguru\"\n",
    "import os\n",
    "from urllib.parse import urljoin\n",
    "\n",
    "folder_name = \"getguru\"\n",
    "os.makedirs(folder_name, exist_ok=True)"
   ]
  },
  {
   "cell_type": "code",
   "execution_count": 70,
   "metadata": {},
   "outputs": [
    {
     "name": "stdout",
     "output_type": "stream",
     "text": [
      "Image saved: getguru\\customer1.png\n",
      "Image saved: getguru\\customer2.svg\n",
      "Image saved: getguru\\customer3.png\n",
      "Image saved: getguru\\customer4.png\n",
      "Image saved: getguru\\customer5.svg\n",
      "Image saved: getguru\\customer6.png\n",
      "Image saved: getguru\\customer7.svg\n",
      "Image saved: getguru\\customer8.png\n",
      "Image saved: getguru\\customer9.png\n",
      "Image saved: getguru\\customer10.svg\n",
      "Image saved: getguru\\customer11.png\n",
      "Image saved: getguru\\customer12.svg\n",
      "Image saved: getguru\\customer13.png\n",
      "Image saved: getguru\\customer14.png\n",
      "Image saved: getguru\\customer15.png\n"
     ]
    }
   ],
   "source": [
    "for index, src in enumerate(getguru_customer_logos, start=1):\n",
    "    # Getting the image content\n",
    "    response = requests.get(src)\n",
    "\n",
    "    # Extracting the image file name from the URL\n",
    "    if src.endswith('.svg'):\n",
    "        img_name = os.path.join(folder_name, f\"customer{index}.svg\")\n",
    "    elif src.endswith('.png'):\n",
    "        img_name = os.path.join(folder_name, f\"customer{index}.png\")\n",
    "    else:\n",
    "        # Handle other image formats if needed\n",
    "        continue\n",
    "\n",
    "    # Saving the image to the folder\n",
    "    with open(img_name, 'wb') as img_file:\n",
    "        img_file.write(response.content)\n",
    "\n",
    "    print(f\"Image saved: {img_name}\")"
   ]
  },
  {
   "cell_type": "code",
   "execution_count": null,
   "metadata": {},
   "outputs": [],
   "source": []
  },
  {
   "cell_type": "code",
   "execution_count": null,
   "metadata": {},
   "outputs": [],
   "source": []
  }
 ],
 "metadata": {
  "kernelspec": {
   "display_name": "analysis",
   "language": "python",
   "name": "python3"
  },
  "language_info": {
   "codemirror_mode": {
    "name": "ipython",
    "version": 3
   },
   "file_extension": ".py",
   "mimetype": "text/x-python",
   "name": "python",
   "nbconvert_exporter": "python",
   "pygments_lexer": "ipython3",
   "version": "3.10.5"
  }
 },
 "nbformat": 4,
 "nbformat_minor": 2
}
