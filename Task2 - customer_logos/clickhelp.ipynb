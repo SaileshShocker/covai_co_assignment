{
 "cells": [
  {
   "cell_type": "code",
   "execution_count": 35,
   "metadata": {},
   "outputs": [],
   "source": [
    "from bs4 import BeautifulSoup\n",
    "import requests\n",
    "import pandas as pd\n",
    "\n",
    "url = \"https://clickhelp.com/customers/\"\n",
    "headers = {\n",
    "            'User-Agent': 'Mozilla/5.0 (Windows NT 10.0; Win64; x64) AppleWebKit/537.36 (KHTML, like Gecko) Chrome/91.0.4472.124 Safari/537.36'\n",
    "        }\n",
    "\n",
    "r = requests.get(url, headers=headers)\n",
    "\n",
    "soup = BeautifulSoup(r.content, \"html.parser\")\n",
    "customers = soup.find_all('div',class_='CustomerLogosDetailed_item resp4ColWidth')\n",
    "\n",
    "    \n",
    "\n",
    "    \n",
    "    \n"
   ]
  },
  {
   "cell_type": "code",
   "execution_count": 36,
   "metadata": {},
   "outputs": [
    {
     "data": {
      "text/plain": [
       "['https://clickhelp.com/Images/Customers/Logos/1cloudendure.png',\n",
       " 'https://clickhelp.com/Images/Customers/Logos/2ibm.png',\n",
       " 'https://clickhelp.com/Images/Customers/Logos/3sap.png',\n",
       " 'https://clickhelp.com/Images/Customers/Logos/4aditro.png',\n",
       " 'https://clickhelp.com/Images/Customers/Logos/adconstituo.png',\n",
       " 'https://clickhelp.com/Images/Customers/Logos/atomic.png',\n",
       " 'https://clickhelp.com/Images/Customers/Logos/bmtsmart.png',\n",
       " 'https://clickhelp.com/Images/Customers/Logos/btc.png',\n",
       " 'https://clickhelp.com/Images/Customers/Logos/civiltech.png',\n",
       " 'https://clickhelp.com/Images/Customers/Logos/greenestep.png',\n",
       " 'https://clickhelp.com/Images/Customers/Logos/inovx.png',\n",
       " 'https://clickhelp.com/Images/Customers/Logos/jump-technology.gif',\n",
       " 'https://clickhelp.com/Images/Customers/Logos/prosteps.png',\n",
       " 'https://clickhelp.com/Images/Customers/Logos/recordlion.png',\n",
       " 'https://clickhelp.com/Images/Customers/Logos/relyence.png',\n",
       " 'https://clickhelp.com/Images/Customers/Logos/skyword.png']"
      ]
     },
     "execution_count": 36,
     "metadata": {},
     "output_type": "execute_result"
    }
   ],
   "source": [
    "# Extract img src URLs, add base URL, and store in a list\n",
    "base_url = \"https://clickhelp.com\"\n",
    "clickhelp_customers = [base_url + img.find('img')['src'] for img in customers]\n",
    "\n",
    "# Print the result\n",
    "clickhelp_customers"
   ]
  },
  {
   "cell_type": "code",
   "execution_count": 37,
   "metadata": {},
   "outputs": [],
   "source": [
    "# Creating a folder named \"clickhelp_customers_logo\"\n",
    "import os\n",
    "from urllib.parse import urljoin\n",
    "\n",
    "folder_name = \"clickhelp_customer_logos\"\n",
    "os.makedirs(folder_name, exist_ok=True)"
   ]
  },
  {
   "cell_type": "code",
   "execution_count": 38,
   "metadata": {},
   "outputs": [
    {
     "name": "stdout",
     "output_type": "stream",
     "text": [
      "Image saved: clickhelp_customer_logos\\1cloudendure.png\n",
      "Image saved: clickhelp_customer_logos\\2ibm.png\n",
      "Image saved: clickhelp_customer_logos\\3sap.png\n",
      "Image saved: clickhelp_customer_logos\\4aditro.png\n",
      "Image saved: clickhelp_customer_logos\\adconstituo.png\n",
      "Image saved: clickhelp_customer_logos\\atomic.png\n",
      "Image saved: clickhelp_customer_logos\\bmtsmart.png\n",
      "Image saved: clickhelp_customer_logos\\btc.png\n",
      "Image saved: clickhelp_customer_logos\\civiltech.png\n",
      "Image saved: clickhelp_customer_logos\\greenestep.png\n",
      "Image saved: clickhelp_customer_logos\\inovx.png\n",
      "Image saved: clickhelp_customer_logos\\jump-technology.gif\n",
      "Image saved: clickhelp_customer_logos\\prosteps.png\n",
      "Image saved: clickhelp_customer_logos\\recordlion.png\n",
      "Image saved: clickhelp_customer_logos\\relyence.png\n",
      "Image saved: clickhelp_customer_logos\\skyword.png\n"
     ]
    }
   ],
   "source": [
    "for src in clickhelp_customers:\n",
    "    # Getting the image content\n",
    "    response = requests.get(src)\n",
    "    \n",
    "    # Extracting the image file name from the URL\n",
    "    img_name = os.path.join(folder_name, os.path.basename(src))\n",
    "\n",
    "    # Saving the image to the folder\n",
    "    with open(img_name, 'wb') as img_file:\n",
    "        img_file.write(response.content)\n",
    "\n",
    "    print(f\"Image saved: {img_name}\")"
   ]
  },
  {
   "cell_type": "code",
   "execution_count": null,
   "metadata": {},
   "outputs": [],
   "source": []
  }
 ],
 "metadata": {
  "kernelspec": {
   "display_name": "analysis",
   "language": "python",
   "name": "python3"
  },
  "language_info": {
   "codemirror_mode": {
    "name": "ipython",
    "version": 3
   },
   "file_extension": ".py",
   "mimetype": "text/x-python",
   "name": "python",
   "nbconvert_exporter": "python",
   "pygments_lexer": "ipython3",
   "version": "3.10.5"
  }
 },
 "nbformat": 4,
 "nbformat_minor": 2
}
