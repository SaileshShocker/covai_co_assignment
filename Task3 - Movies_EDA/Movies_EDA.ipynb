{
 "cells": [
  {
   "cell_type": "markdown",
   "metadata": {},
   "source": [
    "# Exploratory Data Analysis (EDA) On Movies Dataset"
   ]
  },
  {
   "cell_type": "markdown",
   "metadata": {},
   "source": [
    "Exploratory Data Analysis (EDA) on the movies dataset.\n"
   ]
  },
  {
   "cell_type": "code",
   "execution_count": 2,
   "metadata": {},
   "outputs": [
    {
     "data": {
      "text/html": [
       "<div>\n",
       "<style scoped>\n",
       "    .dataframe tbody tr th:only-of-type {\n",
       "        vertical-align: middle;\n",
       "    }\n",
       "\n",
       "    .dataframe tbody tr th {\n",
       "        vertical-align: top;\n",
       "    }\n",
       "\n",
       "    .dataframe thead th {\n",
       "        text-align: right;\n",
       "    }\n",
       "</style>\n",
       "<table border=\"1\" class=\"dataframe\">\n",
       "  <thead>\n",
       "    <tr style=\"text-align: right;\">\n",
       "      <th></th>\n",
       "      <th>id</th>\n",
       "      <th>title</th>\n",
       "      <th>genres</th>\n",
       "      <th>original_language</th>\n",
       "      <th>overview</th>\n",
       "      <th>popularity</th>\n",
       "      <th>production_companies</th>\n",
       "      <th>release_date</th>\n",
       "      <th>budget</th>\n",
       "      <th>revenue</th>\n",
       "      <th>runtime</th>\n",
       "      <th>status</th>\n",
       "      <th>tagline</th>\n",
       "      <th>vote_average</th>\n",
       "      <th>vote_count</th>\n",
       "      <th>credits</th>\n",
       "      <th>keywords</th>\n",
       "    </tr>\n",
       "  </thead>\n",
       "  <tbody>\n",
       "    <tr>\n",
       "      <th>0</th>\n",
       "      <td>675353</td>\n",
       "      <td>Sonic the Hedgehog 2</td>\n",
       "      <td>Action-Science Fiction-Comedy-Family-Adventure</td>\n",
       "      <td>en</td>\n",
       "      <td>After settling in Green Hills Sonic is eager t...</td>\n",
       "      <td>6852.303</td>\n",
       "      <td>SEGA-Original Film-Blur Studios-Marza Animatio...</td>\n",
       "      <td>30-03-2022</td>\n",
       "      <td>110000000</td>\n",
       "      <td>355200000</td>\n",
       "      <td>122.0</td>\n",
       "      <td>Released</td>\n",
       "      <td>Welcome to the next level.</td>\n",
       "      <td>7.7</td>\n",
       "      <td>1465</td>\n",
       "      <td>Ben Schwartz-Idris Elba-Colleen O'Shaughnessey...</td>\n",
       "      <td>sequel-based on video game-hedgehog-live actio...</td>\n",
       "    </tr>\n",
       "    <tr>\n",
       "      <th>1</th>\n",
       "      <td>752623</td>\n",
       "      <td>The Lost City</td>\n",
       "      <td>Action-Adventure-Comedy-Romance</td>\n",
       "      <td>en</td>\n",
       "      <td>A reclusive romance novelist who was sure noth...</td>\n",
       "      <td>5805.799</td>\n",
       "      <td>Paramount-Fortis Films-3dot Productions-Exhibi...</td>\n",
       "      <td>24-03-2022</td>\n",
       "      <td>74000000</td>\n",
       "      <td>164289828</td>\n",
       "      <td>112.0</td>\n",
       "      <td>Released</td>\n",
       "      <td>The adventure is real. The heroes are not.</td>\n",
       "      <td>6.7</td>\n",
       "      <td>604</td>\n",
       "      <td>Sandra Bullock-Channing Tatum-Daniel Radcliffe...</td>\n",
       "      <td>duringcreditsstinger</td>\n",
       "    </tr>\n",
       "    <tr>\n",
       "      <th>2</th>\n",
       "      <td>335787</td>\n",
       "      <td>Uncharted</td>\n",
       "      <td>Action-Adventure</td>\n",
       "      <td>en</td>\n",
       "      <td>A young street-smart Nathan Drake and his wise...</td>\n",
       "      <td>3581.549</td>\n",
       "      <td>Columbia Pictures-Atlas Entertainment-PlayStat...</td>\n",
       "      <td>10-02-2022</td>\n",
       "      <td>120000000</td>\n",
       "      <td>395124202</td>\n",
       "      <td>116.0</td>\n",
       "      <td>Released</td>\n",
       "      <td>Fortune favors the bold.</td>\n",
       "      <td>7.2</td>\n",
       "      <td>1981</td>\n",
       "      <td>Tom Holland-Mark Wahlberg-Sophia Ali-Tati Gabr...</td>\n",
       "      <td>treasure-treasure hunt-based on video game</td>\n",
       "    </tr>\n",
       "    <tr>\n",
       "      <th>3</th>\n",
       "      <td>639933</td>\n",
       "      <td>The Northman</td>\n",
       "      <td>Action-Adventure-Drama-Fantasy-Thriller</td>\n",
       "      <td>en</td>\n",
       "      <td>Prince Amleth is on the verge of becoming a ma...</td>\n",
       "      <td>3451.658</td>\n",
       "      <td>New Regency Pictures-Focus Features-Perfect Wo...</td>\n",
       "      <td>07-04-2022</td>\n",
       "      <td>70000000</td>\n",
       "      <td>58120000</td>\n",
       "      <td>137.0</td>\n",
       "      <td>Released</td>\n",
       "      <td>Conquer your fate.</td>\n",
       "      <td>7.6</td>\n",
       "      <td>926</td>\n",
       "      <td>Alexander Skarsgård-Nicole Kidman-Claes Bang-E...</td>\n",
       "      <td>sword-father murder-prince-iceland-viking-nort...</td>\n",
       "    </tr>\n",
       "    <tr>\n",
       "      <th>4</th>\n",
       "      <td>414906</td>\n",
       "      <td>The Batman</td>\n",
       "      <td>Crime-Mystery-Thriller</td>\n",
       "      <td>en</td>\n",
       "      <td>In his second year of fighting crime Batman un...</td>\n",
       "      <td>3419.546</td>\n",
       "      <td>6th &amp; Idaho-Dylan Clark Productions-DC Films-W...</td>\n",
       "      <td>01-03-2022</td>\n",
       "      <td>185000000</td>\n",
       "      <td>768442517</td>\n",
       "      <td>176.0</td>\n",
       "      <td>Released</td>\n",
       "      <td>Unmask the truth.</td>\n",
       "      <td>7.8</td>\n",
       "      <td>4637</td>\n",
       "      <td>Robert Pattinson-Zoë Kravitz-Paul Dano-Jeffrey...</td>\n",
       "      <td>crime fighter-secret identity-nightclub-politi...</td>\n",
       "    </tr>\n",
       "  </tbody>\n",
       "</table>\n",
       "</div>"
      ],
      "text/plain": [
       "       id                 title  \\\n",
       "0  675353  Sonic the Hedgehog 2   \n",
       "1  752623         The Lost City   \n",
       "2  335787             Uncharted   \n",
       "3  639933          The Northman   \n",
       "4  414906            The Batman   \n",
       "\n",
       "                                           genres original_language  \\\n",
       "0  Action-Science Fiction-Comedy-Family-Adventure                en   \n",
       "1                 Action-Adventure-Comedy-Romance                en   \n",
       "2                                Action-Adventure                en   \n",
       "3         Action-Adventure-Drama-Fantasy-Thriller                en   \n",
       "4                          Crime-Mystery-Thriller                en   \n",
       "\n",
       "                                            overview  popularity  \\\n",
       "0  After settling in Green Hills Sonic is eager t...    6852.303   \n",
       "1  A reclusive romance novelist who was sure noth...    5805.799   \n",
       "2  A young street-smart Nathan Drake and his wise...    3581.549   \n",
       "3  Prince Amleth is on the verge of becoming a ma...    3451.658   \n",
       "4  In his second year of fighting crime Batman un...    3419.546   \n",
       "\n",
       "                                production_companies release_date     budget  \\\n",
       "0  SEGA-Original Film-Blur Studios-Marza Animatio...   30-03-2022  110000000   \n",
       "1  Paramount-Fortis Films-3dot Productions-Exhibi...   24-03-2022   74000000   \n",
       "2  Columbia Pictures-Atlas Entertainment-PlayStat...   10-02-2022  120000000   \n",
       "3  New Regency Pictures-Focus Features-Perfect Wo...   07-04-2022   70000000   \n",
       "4  6th & Idaho-Dylan Clark Productions-DC Films-W...   01-03-2022  185000000   \n",
       "\n",
       "     revenue  runtime    status                                     tagline  \\\n",
       "0  355200000    122.0  Released                  Welcome to the next level.   \n",
       "1  164289828    112.0  Released  The adventure is real. The heroes are not.   \n",
       "2  395124202    116.0  Released                    Fortune favors the bold.   \n",
       "3   58120000    137.0  Released                          Conquer your fate.   \n",
       "4  768442517    176.0  Released                           Unmask the truth.   \n",
       "\n",
       "   vote_average  vote_count  \\\n",
       "0           7.7        1465   \n",
       "1           6.7         604   \n",
       "2           7.2        1981   \n",
       "3           7.6         926   \n",
       "4           7.8        4637   \n",
       "\n",
       "                                             credits  \\\n",
       "0  Ben Schwartz-Idris Elba-Colleen O'Shaughnessey...   \n",
       "1  Sandra Bullock-Channing Tatum-Daniel Radcliffe...   \n",
       "2  Tom Holland-Mark Wahlberg-Sophia Ali-Tati Gabr...   \n",
       "3  Alexander Skarsgård-Nicole Kidman-Claes Bang-E...   \n",
       "4  Robert Pattinson-Zoë Kravitz-Paul Dano-Jeffrey...   \n",
       "\n",
       "                                            keywords  \n",
       "0  sequel-based on video game-hedgehog-live actio...  \n",
       "1                               duringcreditsstinger  \n",
       "2         treasure-treasure hunt-based on video game  \n",
       "3  sword-father murder-prince-iceland-viking-nort...  \n",
       "4  crime fighter-secret identity-nightclub-politi...  "
      ]
     },
     "execution_count": 2,
     "metadata": {},
     "output_type": "execute_result"
    }
   ],
   "source": [
    "\n",
    "import pandas as pd\n",
    "import matplotlib.pyplot as plt\n",
    "import seaborn as sns\n",
    "\n",
    "df = pd.read_csv('movies.csv')\n",
    "df.head()"
   ]
  },
  {
   "cell_type": "code",
   "execution_count": 3,
   "metadata": {},
   "outputs": [],
   "source": [
    "import warnings\n",
    "warnings.filterwarnings(\"ignore\")"
   ]
  },
  {
   "cell_type": "code",
   "execution_count": 4,
   "metadata": {},
   "outputs": [
    {
     "data": {
      "text/plain": [
       "(780113, 17)"
      ]
     },
     "execution_count": 4,
     "metadata": {},
     "output_type": "execute_result"
    }
   ],
   "source": [
    "df.shape"
   ]
  },
  {
   "cell_type": "code",
   "execution_count": 5,
   "metadata": {},
   "outputs": [
    {
     "data": {
      "text/plain": [
       "Index(['id', 'title', 'genres', 'original_language', 'overview', 'popularity',\n",
       "       'production_companies', 'release_date', 'budget', 'revenue', 'runtime',\n",
       "       'status', 'tagline', 'vote_average', 'vote_count', 'credits',\n",
       "       'keywords'],\n",
       "      dtype='object')"
      ]
     },
     "execution_count": 5,
     "metadata": {},
     "output_type": "execute_result"
    }
   ],
   "source": [
    "df.columns"
   ]
  },
  {
   "cell_type": "code",
   "execution_count": 6,
   "metadata": {},
   "outputs": [
    {
     "name": "stdout",
     "output_type": "stream",
     "text": [
      "<class 'pandas.core.frame.DataFrame'>\n",
      "RangeIndex: 780113 entries, 0 to 780112\n",
      "Data columns (total 17 columns):\n",
      " #   Column                Non-Null Count   Dtype  \n",
      "---  ------                --------------   -----  \n",
      " 0   id                    780113 non-null  int64  \n",
      " 1   title                 780107 non-null  object \n",
      " 2   genres                549671 non-null  object \n",
      " 3   original_language     780113 non-null  object \n",
      " 4   overview              653411 non-null  object \n",
      " 5   popularity            780113 non-null  float64\n",
      " 6   production_companies  364964 non-null  object \n",
      " 7   release_date          717304 non-null  object \n",
      " 8   budget                780113 non-null  int64  \n",
      " 9   revenue               780113 non-null  int64  \n",
      " 10  runtime               738484 non-null  float64\n",
      " 11  status                780113 non-null  object \n",
      " 12  tagline               116967 non-null  object \n",
      " 13  vote_average          780113 non-null  float64\n",
      " 14  vote_count            780113 non-null  int64  \n",
      " 15  credits               542214 non-null  object \n",
      " 16  keywords              228104 non-null  object \n",
      "dtypes: float64(3), int64(4), object(10)\n",
      "memory usage: 101.2+ MB\n",
      "None\n"
     ]
    }
   ],
   "source": [
    "# Display basic information about the dataset\n",
    "print(df.info())"
   ]
  },
  {
   "cell_type": "code",
   "execution_count": 7,
   "metadata": {},
   "outputs": [
    {
     "data": {
      "text/html": [
       "<div>\n",
       "<style scoped>\n",
       "    .dataframe tbody tr th:only-of-type {\n",
       "        vertical-align: middle;\n",
       "    }\n",
       "\n",
       "    .dataframe tbody tr th {\n",
       "        vertical-align: top;\n",
       "    }\n",
       "\n",
       "    .dataframe thead th {\n",
       "        text-align: right;\n",
       "    }\n",
       "</style>\n",
       "<table border=\"1\" class=\"dataframe\">\n",
       "  <thead>\n",
       "    <tr style=\"text-align: right;\">\n",
       "      <th></th>\n",
       "      <th>id</th>\n",
       "      <th>popularity</th>\n",
       "      <th>budget</th>\n",
       "      <th>revenue</th>\n",
       "      <th>runtime</th>\n",
       "      <th>vote_average</th>\n",
       "      <th>vote_count</th>\n",
       "    </tr>\n",
       "  </thead>\n",
       "  <tbody>\n",
       "    <tr>\n",
       "      <th>count</th>\n",
       "      <td>780113.000000</td>\n",
       "      <td>780113.000000</td>\n",
       "      <td>7.801130e+05</td>\n",
       "      <td>7.801130e+05</td>\n",
       "      <td>7.384840e+05</td>\n",
       "      <td>780113.000000</td>\n",
       "      <td>780113.000000</td>\n",
       "    </tr>\n",
       "    <tr>\n",
       "      <th>mean</th>\n",
       "      <td>526307.431716</td>\n",
       "      <td>1.919162</td>\n",
       "      <td>3.901217e+05</td>\n",
       "      <td>9.673702e+05</td>\n",
       "      <td>1.905858e+02</td>\n",
       "      <td>2.547586</td>\n",
       "      <td>27.111506</td>\n",
       "    </tr>\n",
       "    <tr>\n",
       "      <th>std</th>\n",
       "      <td>249784.101051</td>\n",
       "      <td>18.615032</td>\n",
       "      <td>7.869790e+06</td>\n",
       "      <td>1.974239e+07</td>\n",
       "      <td>8.285542e+04</td>\n",
       "      <td>3.194000</td>\n",
       "      <td>355.028453</td>\n",
       "    </tr>\n",
       "    <tr>\n",
       "      <th>min</th>\n",
       "      <td>2.000000</td>\n",
       "      <td>0.600000</td>\n",
       "      <td>0.000000e+00</td>\n",
       "      <td>-1.200000e+01</td>\n",
       "      <td>0.000000e+00</td>\n",
       "      <td>0.000000</td>\n",
       "      <td>0.000000</td>\n",
       "    </tr>\n",
       "    <tr>\n",
       "      <th>25%</th>\n",
       "      <td>331905.000000</td>\n",
       "      <td>0.600000</td>\n",
       "      <td>0.000000e+00</td>\n",
       "      <td>0.000000e+00</td>\n",
       "      <td>6.000000e+00</td>\n",
       "      <td>0.000000</td>\n",
       "      <td>0.000000</td>\n",
       "    </tr>\n",
       "    <tr>\n",
       "      <th>50%</th>\n",
       "      <td>533865.000000</td>\n",
       "      <td>0.600000</td>\n",
       "      <td>0.000000e+00</td>\n",
       "      <td>0.000000e+00</td>\n",
       "      <td>5.400000e+01</td>\n",
       "      <td>0.000000</td>\n",
       "      <td>0.000000</td>\n",
       "    </tr>\n",
       "    <tr>\n",
       "      <th>75%</th>\n",
       "      <td>732343.000000</td>\n",
       "      <td>1.341000</td>\n",
       "      <td>0.000000e+00</td>\n",
       "      <td>0.000000e+00</td>\n",
       "      <td>9.000000e+01</td>\n",
       "      <td>5.700000</td>\n",
       "      <td>2.000000</td>\n",
       "    </tr>\n",
       "    <tr>\n",
       "      <th>max</th>\n",
       "      <td>968161.000000</td>\n",
       "      <td>6852.303000</td>\n",
       "      <td>5.000000e+09</td>\n",
       "      <td>2.847246e+09</td>\n",
       "      <td>5.050505e+07</td>\n",
       "      <td>10.000000</td>\n",
       "      <td>31506.000000</td>\n",
       "    </tr>\n",
       "  </tbody>\n",
       "</table>\n",
       "</div>"
      ],
      "text/plain": [
       "                  id     popularity        budget       revenue       runtime  \\\n",
       "count  780113.000000  780113.000000  7.801130e+05  7.801130e+05  7.384840e+05   \n",
       "mean   526307.431716       1.919162  3.901217e+05  9.673702e+05  1.905858e+02   \n",
       "std    249784.101051      18.615032  7.869790e+06  1.974239e+07  8.285542e+04   \n",
       "min         2.000000       0.600000  0.000000e+00 -1.200000e+01  0.000000e+00   \n",
       "25%    331905.000000       0.600000  0.000000e+00  0.000000e+00  6.000000e+00   \n",
       "50%    533865.000000       0.600000  0.000000e+00  0.000000e+00  5.400000e+01   \n",
       "75%    732343.000000       1.341000  0.000000e+00  0.000000e+00  9.000000e+01   \n",
       "max    968161.000000    6852.303000  5.000000e+09  2.847246e+09  5.050505e+07   \n",
       "\n",
       "        vote_average     vote_count  \n",
       "count  780113.000000  780113.000000  \n",
       "mean        2.547586      27.111506  \n",
       "std         3.194000     355.028453  \n",
       "min         0.000000       0.000000  \n",
       "25%         0.000000       0.000000  \n",
       "50%         0.000000       0.000000  \n",
       "75%         5.700000       2.000000  \n",
       "max        10.000000   31506.000000  "
      ]
     },
     "execution_count": 7,
     "metadata": {},
     "output_type": "execute_result"
    }
   ],
   "source": [
    "# Display summary statistics for numerical columns\n",
    "df.describe()"
   ]
  },
  {
   "cell_type": "markdown",
   "metadata": {},
   "source": [
    "## Handling Missing Values"
   ]
  },
  {
   "cell_type": "code",
   "execution_count": 8,
   "metadata": {},
   "outputs": [
    {
     "data": {
      "text/plain": [
       "id                           0\n",
       "title                        6\n",
       "genres                  230442\n",
       "original_language            0\n",
       "overview                126702\n",
       "popularity                   0\n",
       "production_companies    415149\n",
       "release_date             62809\n",
       "budget                       0\n",
       "revenue                      0\n",
       "runtime                  41629\n",
       "status                       0\n",
       "tagline                 663146\n",
       "vote_average                 0\n",
       "vote_count                   0\n",
       "credits                 237899\n",
       "keywords                552009\n",
       "dtype: int64"
      ]
     },
     "execution_count": 8,
     "metadata": {},
     "output_type": "execute_result"
    }
   ],
   "source": [
    "df.isna().sum()"
   ]
  },
  {
   "cell_type": "code",
   "execution_count": 9,
   "metadata": {},
   "outputs": [
    {
     "data": {
      "text/plain": [
       "tagline                 85.006403\n",
       "keywords                70.760133\n",
       "production_companies    53.216521\n",
       "credits                 30.495454\n",
       "genres                  29.539567\n",
       "overview                16.241493\n",
       "release_date             8.051269\n",
       "runtime                  5.336278\n",
       "title                    0.000769\n",
       "vote_count               0.000000\n",
       "vote_average             0.000000\n",
       "id                       0.000000\n",
       "status                   0.000000\n",
       "revenue                  0.000000\n",
       "popularity               0.000000\n",
       "original_language        0.000000\n",
       "budget                   0.000000\n",
       "dtype: float64"
      ]
     },
     "execution_count": 9,
     "metadata": {},
     "output_type": "execute_result"
    }
   ],
   "source": [
    "# Display the percentage of missing values in each column\n",
    "missing_percentage = (df.isnull().sum() / len(df)) * 100\n",
    "missing_percentage.sort_values(ascending=False)"
   ]
  },
  {
   "cell_type": "markdown",
   "metadata": {},
   "source": [
    "- The columns with a high percentage of missing values (e.g., 'tagline', 'keywords').\n",
    "- we can consider imputing or dropping rows for columns like 'genres', 'overview', and 'production_companies' based on the specific analysis or modeling needs."
   ]
  },
  {
   "cell_type": "markdown",
   "metadata": {},
   "source": [
    "### Drop Duplicate Rows"
   ]
  },
  {
   "cell_type": "code",
   "execution_count": 10,
   "metadata": {},
   "outputs": [],
   "source": [
    "# Drop duplicate rows\n",
    "df.drop_duplicates(inplace=True)"
   ]
  },
  {
   "cell_type": "code",
   "execution_count": 11,
   "metadata": {},
   "outputs": [],
   "source": [
    "# Fill missing values in object columns with \"Not Available\"\n",
    "object_columns = df.select_dtypes(include='object').columns\n",
    "df[object_columns] = df[object_columns].fillna('Not Available')\n"
   ]
  },
  {
   "cell_type": "code",
   "execution_count": 12,
   "metadata": {},
   "outputs": [],
   "source": [
    "# Calculate the mean of the 'runtime' column\n",
    "mean_runtime = df['runtime'].mean()\n",
    "\n",
    "# Replace missing values in 'runtime' with the mean\n",
    "df['runtime'].fillna(mean_runtime, inplace=True)\n"
   ]
  },
  {
   "cell_type": "markdown",
   "metadata": {},
   "source": [
    "## Correlation Analysis"
   ]
  },
  {
   "cell_type": "code",
   "execution_count": 13,
   "metadata": {},
   "outputs": [
    {
     "data": {
      "image/png": "[encoded data removed]",
      "text/plain": [
       "<Figure size 1000x800 with 2 Axes>"
      ]
     },
     "metadata": {},
     "output_type": "display_data"
    }
   ],
   "source": [
    "# Selecting only numeric columns for correlation analysis\n",
    "numeric_columns = df.select_dtypes(include=['float64', 'int64']).columns\n",
    "\n",
    "# Correlation matrix\n",
    "correlation_matrix = df[numeric_columns].corr()\n",
    "\n",
    "# Plot the correlation heatmap\n",
    "plt.figure(figsize=(10, 8))\n",
    "sns.heatmap(correlation_matrix, annot=True, cmap='coolwarm', fmt='.2f', linewidths=0.5)\n",
    "plt.title('Correlation Heatmap')\n",
    "plt.show()\n"
   ]
  },
  {
   "cell_type": "markdown",
   "metadata": {},
   "source": [
    "- Popularity has a positive correlation with both budget and revenue, which means that more popular movies tend to have higher budgets and make more money.\n",
    "- popularity is a more important factor in determining a movie's financial success.\n",
    "\n",
    "- Budget also has a positive correlation with revenue\n",
    "\n",
    "- Runtime has a negative correlation with both popularity and revenue. This means that longer movies tend to be less popular and make less money than shorter movies.\n",
    "\n",
    "- Vote_average has a positive correlation with both popularity and revenue. This suggests that movies with higher average ratings from viewers tend to be more popular\n",
    "\n",
    "- There is a strong positive correlation (0.76) between 'vote_count' and 'budget, revenue, profit'. Movies with higher revenues, budget, and profit tend to attract more votes, suggesting that financial success may be associated with increased viewer engagement.\n",
    "\n"
   ]
  },
  {
   "cell_type": "markdown",
   "metadata": {},
   "source": [
    "## Checking Outliers"
   ]
  },
  {
   "cell_type": "code",
   "execution_count": 14,
   "metadata": {},
   "outputs": [
    {
     "data": {
      "image/png": "[encoded data removed]",
      "text/plain": [
       "<Figure size 1600x800 with 1 Axes>"
      ]
     },
     "metadata": {},
     "output_type": "display_data"
    }
   ],
   "source": [
    "import matplotlib.pyplot as plt\n",
    "import seaborn as sns\n",
    "\n",
    "# Select numerical columns for box plot\n",
    "numerical_columns = ['budget', 'revenue', 'runtime', 'popularity', 'vote_average', 'vote_count']\n",
    "\n",
    "# Create box plots for numerical columns\n",
    "plt.figure(figsize=(16, 8))\n",
    "sns.boxplot(data=df[numerical_columns])\n",
    "plt.title('Box Plots for Numerical Columns')\n",
    "plt.xticks(rotation=45)\n",
    "plt.show()\n"
   ]
  },
  {
   "cell_type": "markdown",
   "metadata": {},
   "source": [
    "The box plots suggest that there is a lot of variability in the values of the six numerical columns in the dataset. There are a few outliers in the budget, revenue, runtime, and popularity columns, but the vote average and vote count columns are more consistent."
   ]
  },
  {
   "cell_type": "code",
   "execution_count": 15,
   "metadata": {},
   "outputs": [
    {
     "name": "stdout",
     "output_type": "stream",
     "text": [
      "Count of Outliers for Each Numerical Column:\n",
      "budget          3471\n",
      "revenue         2768\n",
      "runtime            2\n",
      "popularity      1726\n",
      "vote_average       0\n",
      "vote_count      3606\n",
      "dtype: int64\n"
     ]
    }
   ],
   "source": [
    "from scipy.stats import zscore\n",
    "\n",
    "# Calculate Z-scores for numerical columns\n",
    "z_scores = zscore(df[numerical_columns])\n",
    "\n",
    "# Identify outliers based on a threshold (e.g., Z-score > 3 or < -3)\n",
    "outliers = (z_scores > 3) | (z_scores < -3)\n",
    "\n",
    "# Display the count of outliers for each numerical column\n",
    "print(\"Count of Outliers for Each Numerical Column:\")\n",
    "print(pd.DataFrame(outliers, columns=numerical_columns).sum())\n"
   ]
  },
  {
   "cell_type": "markdown",
   "metadata": {},
   "source": [
    "Checking outliers for runtime column"
   ]
  },
  {
   "cell_type": "code",
   "execution_count": 16,
   "metadata": {},
   "outputs": [
    {
     "data": {
      "text/plain": [
       "695505    50505050.0\n",
       "694365    50189181.0\n",
       "47404        51420.0\n",
       "Name: runtime, dtype: float64"
      ]
     },
     "execution_count": 16,
     "metadata": {},
     "output_type": "execute_result"
    }
   ],
   "source": [
    "longest_runtime = df['runtime']\n",
    "longest_runtime = longest_runtime.nlargest(3)\n",
    "longest_runtime"
   ]
  },
  {
   "cell_type": "code",
   "execution_count": 17,
   "metadata": {},
   "outputs": [
    {
     "data": {
      "text/html": [
       "<div>\n",
       "<style scoped>\n",
       "    .dataframe tbody tr th:only-of-type {\n",
       "        vertical-align: middle;\n",
       "    }\n",
       "\n",
       "    .dataframe tbody tr th {\n",
       "        vertical-align: top;\n",
       "    }\n",
       "\n",
       "    .dataframe thead th {\n",
       "        text-align: right;\n",
       "    }\n",
       "</style>\n",
       "<table border=\"1\" class=\"dataframe\">\n",
       "  <thead>\n",
       "    <tr style=\"text-align: right;\">\n",
       "      <th></th>\n",
       "      <th>id</th>\n",
       "      <th>title</th>\n",
       "      <th>genres</th>\n",
       "      <th>original_language</th>\n",
       "      <th>overview</th>\n",
       "      <th>popularity</th>\n",
       "      <th>production_companies</th>\n",
       "      <th>release_date</th>\n",
       "      <th>budget</th>\n",
       "      <th>revenue</th>\n",
       "      <th>runtime</th>\n",
       "      <th>status</th>\n",
       "      <th>tagline</th>\n",
       "      <th>vote_average</th>\n",
       "      <th>vote_count</th>\n",
       "      <th>credits</th>\n",
       "      <th>keywords</th>\n",
       "    </tr>\n",
       "  </thead>\n",
       "  <tbody>\n",
       "    <tr>\n",
       "      <th>47404</th>\n",
       "      <td>421017</td>\n",
       "      <td>Logistics</td>\n",
       "      <td>Documentary</td>\n",
       "      <td>en</td>\n",
       "      <td>Logistics or Logistics Art Project is a 2012 e...</td>\n",
       "      <td>4.422</td>\n",
       "      <td>Not Available</td>\n",
       "      <td>01-12-2012</td>\n",
       "      <td>0</td>\n",
       "      <td>0</td>\n",
       "      <td>51420.0</td>\n",
       "      <td>Released</td>\n",
       "      <td>Not Available</td>\n",
       "      <td>10.0</td>\n",
       "      <td>2</td>\n",
       "      <td>Not Available</td>\n",
       "      <td>Not Available</td>\n",
       "    </tr>\n",
       "    <tr>\n",
       "      <th>67477</th>\n",
       "      <td>421017</td>\n",
       "      <td>Logistics</td>\n",
       "      <td>Documentary</td>\n",
       "      <td>en</td>\n",
       "      <td>Logistics or Logistics Art Project is a 2012 e...</td>\n",
       "      <td>3.277</td>\n",
       "      <td>Not Available</td>\n",
       "      <td>01-12-2012</td>\n",
       "      <td>0</td>\n",
       "      <td>0</td>\n",
       "      <td>51420.0</td>\n",
       "      <td>Released</td>\n",
       "      <td>Not Available</td>\n",
       "      <td>10.0</td>\n",
       "      <td>2</td>\n",
       "      <td>Not Available</td>\n",
       "      <td>Not Available</td>\n",
       "    </tr>\n",
       "    <tr>\n",
       "      <th>694365</th>\n",
       "      <td>660969</td>\n",
       "      <td>Mr Marcus FriendBoop Facebook Adventures</td>\n",
       "      <td>Not Available</td>\n",
       "      <td>en</td>\n",
       "      <td>Part 2 of 3</td>\n",
       "      <td>0.600</td>\n",
       "      <td>Not Available</td>\n",
       "      <td>Not Available</td>\n",
       "      <td>0</td>\n",
       "      <td>0</td>\n",
       "      <td>50189181.0</td>\n",
       "      <td>Released</td>\n",
       "      <td>Funny Mark Boy Zuckerberg Forcefield Guy Funny...</td>\n",
       "      <td>0.0</td>\n",
       "      <td>0</td>\n",
       "      <td>Not Available</td>\n",
       "      <td>Not Available</td>\n",
       "    </tr>\n",
       "    <tr>\n",
       "      <th>695505</th>\n",
       "      <td>660968</td>\n",
       "      <td>Mr Marcus FriendPop Facebook Adventures</td>\n",
       "      <td>Not Available</td>\n",
       "      <td>en</td>\n",
       "      <td>Part 1 of 3</td>\n",
       "      <td>0.600</td>\n",
       "      <td>Not Available</td>\n",
       "      <td>Not Available</td>\n",
       "      <td>0</td>\n",
       "      <td>0</td>\n",
       "      <td>50505050.0</td>\n",
       "      <td>Released</td>\n",
       "      <td>Funny Mark Boy Zuckerberg Forcefield Guy Funny...</td>\n",
       "      <td>0.0</td>\n",
       "      <td>0</td>\n",
       "      <td>Not Available</td>\n",
       "      <td>Not Available</td>\n",
       "    </tr>\n",
       "  </tbody>\n",
       "</table>\n",
       "</div>"
      ],
      "text/plain": [
       "            id                                     title         genres  \\\n",
       "47404   421017                                 Logistics    Documentary   \n",
       "67477   421017                                 Logistics    Documentary   \n",
       "694365  660969  Mr Marcus FriendBoop Facebook Adventures  Not Available   \n",
       "695505  660968   Mr Marcus FriendPop Facebook Adventures  Not Available   \n",
       "\n",
       "       original_language                                           overview  \\\n",
       "47404                 en  Logistics or Logistics Art Project is a 2012 e...   \n",
       "67477                 en  Logistics or Logistics Art Project is a 2012 e...   \n",
       "694365                en                                        Part 2 of 3   \n",
       "695505                en                                        Part 1 of 3   \n",
       "\n",
       "        popularity production_companies   release_date  budget  revenue  \\\n",
       "47404        4.422        Not Available     01-12-2012       0        0   \n",
       "67477        3.277        Not Available     01-12-2012       0        0   \n",
       "694365       0.600        Not Available  Not Available       0        0   \n",
       "695505       0.600        Not Available  Not Available       0        0   \n",
       "\n",
       "           runtime    status  \\\n",
       "47404      51420.0  Released   \n",
       "67477      51420.0  Released   \n",
       "694365  50189181.0  Released   \n",
       "695505  50505050.0  Released   \n",
       "\n",
       "                                                  tagline  vote_average  \\\n",
       "47404                                       Not Available          10.0   \n",
       "67477                                       Not Available          10.0   \n",
       "694365  Funny Mark Boy Zuckerberg Forcefield Guy Funny...           0.0   \n",
       "695505  Funny Mark Boy Zuckerberg Forcefield Guy Funny...           0.0   \n",
       "\n",
       "        vote_count        credits       keywords  \n",
       "47404            2  Not Available  Not Available  \n",
       "67477            2  Not Available  Not Available  \n",
       "694365           0  Not Available  Not Available  \n",
       "695505           0  Not Available  Not Available  "
      ]
     },
     "execution_count": 17,
     "metadata": {},
     "output_type": "execute_result"
    }
   ],
   "source": [
    "# Filter the DataFrame for specific runtime values\n",
    "df[(df['runtime'] == 50505050.0) | (df['runtime'] == 50189181.0) | (df['runtime'] == 51420.0)]\n"
   ]
  },
  {
   "cell_type": "markdown",
   "metadata": {},
   "source": [
    "All these runtime data are meaningful, these are documentary films and it has a long watch time. hence removing it may result in a loss of important information."
   ]
  },
  {
   "cell_type": "code",
   "execution_count": 18,
   "metadata": {},
   "outputs": [
    {
     "name": "stdout",
     "output_type": "stream",
     "text": [
      "DataFrame with Outliers:\n"
     ]
    },
    {
     "data": {
      "text/html": [
       "<div>\n",
       "<style scoped>\n",
       "    .dataframe tbody tr th:only-of-type {\n",
       "        vertical-align: middle;\n",
       "    }\n",
       "\n",
       "    .dataframe tbody tr th {\n",
       "        vertical-align: top;\n",
       "    }\n",
       "\n",
       "    .dataframe thead th {\n",
       "        text-align: right;\n",
       "    }\n",
       "</style>\n",
       "<table border=\"1\" class=\"dataframe\">\n",
       "  <thead>\n",
       "    <tr style=\"text-align: right;\">\n",
       "      <th></th>\n",
       "      <th>id</th>\n",
       "      <th>title</th>\n",
       "      <th>genres</th>\n",
       "      <th>original_language</th>\n",
       "      <th>overview</th>\n",
       "      <th>popularity</th>\n",
       "      <th>production_companies</th>\n",
       "      <th>release_date</th>\n",
       "      <th>budget</th>\n",
       "      <th>revenue</th>\n",
       "      <th>runtime</th>\n",
       "      <th>status</th>\n",
       "      <th>tagline</th>\n",
       "      <th>vote_average</th>\n",
       "      <th>vote_count</th>\n",
       "      <th>credits</th>\n",
       "      <th>keywords</th>\n",
       "    </tr>\n",
       "  </thead>\n",
       "  <tbody>\n",
       "    <tr>\n",
       "      <th>0</th>\n",
       "      <td>NaN</td>\n",
       "      <td>NaN</td>\n",
       "      <td>NaN</td>\n",
       "      <td>NaN</td>\n",
       "      <td>NaN</td>\n",
       "      <td>6852.303</td>\n",
       "      <td>NaN</td>\n",
       "      <td>NaN</td>\n",
       "      <td>110000000.0</td>\n",
       "      <td>355200000.0</td>\n",
       "      <td>NaN</td>\n",
       "      <td>NaN</td>\n",
       "      <td>NaN</td>\n",
       "      <td>NaN</td>\n",
       "      <td>1465.0</td>\n",
       "      <td>NaN</td>\n",
       "      <td>NaN</td>\n",
       "    </tr>\n",
       "    <tr>\n",
       "      <th>1</th>\n",
       "      <td>NaN</td>\n",
       "      <td>NaN</td>\n",
       "      <td>NaN</td>\n",
       "      <td>NaN</td>\n",
       "      <td>NaN</td>\n",
       "      <td>5805.799</td>\n",
       "      <td>NaN</td>\n",
       "      <td>NaN</td>\n",
       "      <td>74000000.0</td>\n",
       "      <td>164289828.0</td>\n",
       "      <td>NaN</td>\n",
       "      <td>NaN</td>\n",
       "      <td>NaN</td>\n",
       "      <td>NaN</td>\n",
       "      <td>NaN</td>\n",
       "      <td>NaN</td>\n",
       "      <td>NaN</td>\n",
       "    </tr>\n",
       "    <tr>\n",
       "      <th>2</th>\n",
       "      <td>NaN</td>\n",
       "      <td>NaN</td>\n",
       "      <td>NaN</td>\n",
       "      <td>NaN</td>\n",
       "      <td>NaN</td>\n",
       "      <td>3581.549</td>\n",
       "      <td>NaN</td>\n",
       "      <td>NaN</td>\n",
       "      <td>120000000.0</td>\n",
       "      <td>395124202.0</td>\n",
       "      <td>NaN</td>\n",
       "      <td>NaN</td>\n",
       "      <td>NaN</td>\n",
       "      <td>NaN</td>\n",
       "      <td>1981.0</td>\n",
       "      <td>NaN</td>\n",
       "      <td>NaN</td>\n",
       "    </tr>\n",
       "    <tr>\n",
       "      <th>3</th>\n",
       "      <td>NaN</td>\n",
       "      <td>NaN</td>\n",
       "      <td>NaN</td>\n",
       "      <td>NaN</td>\n",
       "      <td>NaN</td>\n",
       "      <td>3451.658</td>\n",
       "      <td>NaN</td>\n",
       "      <td>NaN</td>\n",
       "      <td>70000000.0</td>\n",
       "      <td>NaN</td>\n",
       "      <td>NaN</td>\n",
       "      <td>NaN</td>\n",
       "      <td>NaN</td>\n",
       "      <td>NaN</td>\n",
       "      <td>NaN</td>\n",
       "      <td>NaN</td>\n",
       "      <td>NaN</td>\n",
       "    </tr>\n",
       "    <tr>\n",
       "      <th>4</th>\n",
       "      <td>NaN</td>\n",
       "      <td>NaN</td>\n",
       "      <td>NaN</td>\n",
       "      <td>NaN</td>\n",
       "      <td>NaN</td>\n",
       "      <td>3419.546</td>\n",
       "      <td>NaN</td>\n",
       "      <td>NaN</td>\n",
       "      <td>185000000.0</td>\n",
       "      <td>768442517.0</td>\n",
       "      <td>NaN</td>\n",
       "      <td>NaN</td>\n",
       "      <td>NaN</td>\n",
       "      <td>NaN</td>\n",
       "      <td>4637.0</td>\n",
       "      <td>NaN</td>\n",
       "      <td>NaN</td>\n",
       "    </tr>\n",
       "    <tr>\n",
       "      <th>...</th>\n",
       "      <td>...</td>\n",
       "      <td>...</td>\n",
       "      <td>...</td>\n",
       "      <td>...</td>\n",
       "      <td>...</td>\n",
       "      <td>...</td>\n",
       "      <td>...</td>\n",
       "      <td>...</td>\n",
       "      <td>...</td>\n",
       "      <td>...</td>\n",
       "      <td>...</td>\n",
       "      <td>...</td>\n",
       "      <td>...</td>\n",
       "      <td>...</td>\n",
       "      <td>...</td>\n",
       "      <td>...</td>\n",
       "      <td>...</td>\n",
       "    </tr>\n",
       "    <tr>\n",
       "      <th>780108</th>\n",
       "      <td>NaN</td>\n",
       "      <td>NaN</td>\n",
       "      <td>NaN</td>\n",
       "      <td>NaN</td>\n",
       "      <td>NaN</td>\n",
       "      <td>NaN</td>\n",
       "      <td>NaN</td>\n",
       "      <td>NaN</td>\n",
       "      <td>NaN</td>\n",
       "      <td>NaN</td>\n",
       "      <td>NaN</td>\n",
       "      <td>NaN</td>\n",
       "      <td>NaN</td>\n",
       "      <td>NaN</td>\n",
       "      <td>NaN</td>\n",
       "      <td>NaN</td>\n",
       "      <td>NaN</td>\n",
       "    </tr>\n",
       "    <tr>\n",
       "      <th>780109</th>\n",
       "      <td>NaN</td>\n",
       "      <td>NaN</td>\n",
       "      <td>NaN</td>\n",
       "      <td>NaN</td>\n",
       "      <td>NaN</td>\n",
       "      <td>NaN</td>\n",
       "      <td>NaN</td>\n",
       "      <td>NaN</td>\n",
       "      <td>NaN</td>\n",
       "      <td>NaN</td>\n",
       "      <td>NaN</td>\n",
       "      <td>NaN</td>\n",
       "      <td>NaN</td>\n",
       "      <td>NaN</td>\n",
       "      <td>NaN</td>\n",
       "      <td>NaN</td>\n",
       "      <td>NaN</td>\n",
       "    </tr>\n",
       "    <tr>\n",
       "      <th>780110</th>\n",
       "      <td>NaN</td>\n",
       "      <td>NaN</td>\n",
       "      <td>NaN</td>\n",
       "      <td>NaN</td>\n",
       "      <td>NaN</td>\n",
       "      <td>NaN</td>\n",
       "      <td>NaN</td>\n",
       "      <td>NaN</td>\n",
       "      <td>NaN</td>\n",
       "      <td>NaN</td>\n",
       "      <td>NaN</td>\n",
       "      <td>NaN</td>\n",
       "      <td>NaN</td>\n",
       "      <td>NaN</td>\n",
       "      <td>NaN</td>\n",
       "      <td>NaN</td>\n",
       "      <td>NaN</td>\n",
       "    </tr>\n",
       "    <tr>\n",
       "      <th>780111</th>\n",
       "      <td>NaN</td>\n",
       "      <td>NaN</td>\n",
       "      <td>NaN</td>\n",
       "      <td>NaN</td>\n",
       "      <td>NaN</td>\n",
       "      <td>NaN</td>\n",
       "      <td>NaN</td>\n",
       "      <td>NaN</td>\n",
       "      <td>NaN</td>\n",
       "      <td>NaN</td>\n",
       "      <td>NaN</td>\n",
       "      <td>NaN</td>\n",
       "      <td>NaN</td>\n",
       "      <td>NaN</td>\n",
       "      <td>NaN</td>\n",
       "      <td>NaN</td>\n",
       "      <td>NaN</td>\n",
       "    </tr>\n",
       "    <tr>\n",
       "      <th>780112</th>\n",
       "      <td>NaN</td>\n",
       "      <td>NaN</td>\n",
       "      <td>NaN</td>\n",
       "      <td>NaN</td>\n",
       "      <td>NaN</td>\n",
       "      <td>NaN</td>\n",
       "      <td>NaN</td>\n",
       "      <td>NaN</td>\n",
       "      <td>NaN</td>\n",
       "      <td>NaN</td>\n",
       "      <td>NaN</td>\n",
       "      <td>NaN</td>\n",
       "      <td>NaN</td>\n",
       "      <td>NaN</td>\n",
       "      <td>NaN</td>\n",
       "      <td>NaN</td>\n",
       "      <td>NaN</td>\n",
       "    </tr>\n",
       "  </tbody>\n",
       "</table>\n",
       "<p>779727 rows × 17 columns</p>\n",
       "</div>"
      ],
      "text/plain": [
       "        id title genres original_language overview  popularity  \\\n",
       "0      NaN   NaN    NaN               NaN      NaN    6852.303   \n",
       "1      NaN   NaN    NaN               NaN      NaN    5805.799   \n",
       "2      NaN   NaN    NaN               NaN      NaN    3581.549   \n",
       "3      NaN   NaN    NaN               NaN      NaN    3451.658   \n",
       "4      NaN   NaN    NaN               NaN      NaN    3419.546   \n",
       "...     ..   ...    ...               ...      ...         ...   \n",
       "780108 NaN   NaN    NaN               NaN      NaN         NaN   \n",
       "780109 NaN   NaN    NaN               NaN      NaN         NaN   \n",
       "780110 NaN   NaN    NaN               NaN      NaN         NaN   \n",
       "780111 NaN   NaN    NaN               NaN      NaN         NaN   \n",
       "780112 NaN   NaN    NaN               NaN      NaN         NaN   \n",
       "\n",
       "       production_companies release_date       budget      revenue  runtime  \\\n",
       "0                       NaN          NaN  110000000.0  355200000.0      NaN   \n",
       "1                       NaN          NaN   74000000.0  164289828.0      NaN   \n",
       "2                       NaN          NaN  120000000.0  395124202.0      NaN   \n",
       "3                       NaN          NaN   70000000.0          NaN      NaN   \n",
       "4                       NaN          NaN  185000000.0  768442517.0      NaN   \n",
       "...                     ...          ...          ...          ...      ...   \n",
       "780108                  NaN          NaN          NaN          NaN      NaN   \n",
       "780109                  NaN          NaN          NaN          NaN      NaN   \n",
       "780110                  NaN          NaN          NaN          NaN      NaN   \n",
       "780111                  NaN          NaN          NaN          NaN      NaN   \n",
       "780112                  NaN          NaN          NaN          NaN      NaN   \n",
       "\n",
       "       status tagline  vote_average  vote_count credits keywords  \n",
       "0         NaN     NaN           NaN      1465.0     NaN      NaN  \n",
       "1         NaN     NaN           NaN         NaN     NaN      NaN  \n",
       "2         NaN     NaN           NaN      1981.0     NaN      NaN  \n",
       "3         NaN     NaN           NaN         NaN     NaN      NaN  \n",
       "4         NaN     NaN           NaN      4637.0     NaN      NaN  \n",
       "...       ...     ...           ...         ...     ...      ...  \n",
       "780108    NaN     NaN           NaN         NaN     NaN      NaN  \n",
       "780109    NaN     NaN           NaN         NaN     NaN      NaN  \n",
       "780110    NaN     NaN           NaN         NaN     NaN      NaN  \n",
       "780111    NaN     NaN           NaN         NaN     NaN      NaN  \n",
       "780112    NaN     NaN           NaN         NaN     NaN      NaN  \n",
       "\n",
       "[779727 rows x 17 columns]"
      ]
     },
     "execution_count": 18,
     "metadata": {},
     "output_type": "execute_result"
    }
   ],
   "source": [
    "outliers_df = df[outliers]\n",
    "print(\"DataFrame with Outliers:\")\n",
    "outliers_df"
   ]
  },
  {
   "cell_type": "markdown",
   "metadata": {},
   "source": [
    "These outliers represent valid and meaningful data points, removing them may result in a loss of important information."
   ]
  },
  {
   "cell_type": "code",
   "execution_count": 19,
   "metadata": {},
   "outputs": [
    {
     "data": {
      "text/html": [
       "<div>\n",
       "<style scoped>\n",
       "    .dataframe tbody tr th:only-of-type {\n",
       "        vertical-align: middle;\n",
       "    }\n",
       "\n",
       "    .dataframe tbody tr th {\n",
       "        vertical-align: top;\n",
       "    }\n",
       "\n",
       "    .dataframe thead th {\n",
       "        text-align: right;\n",
       "    }\n",
       "</style>\n",
       "<table border=\"1\" class=\"dataframe\">\n",
       "  <thead>\n",
       "    <tr style=\"text-align: right;\">\n",
       "      <th></th>\n",
       "      <th>id</th>\n",
       "      <th>title</th>\n",
       "      <th>genres</th>\n",
       "      <th>original_language</th>\n",
       "      <th>overview</th>\n",
       "      <th>popularity</th>\n",
       "      <th>production_companies</th>\n",
       "      <th>release_date</th>\n",
       "      <th>budget</th>\n",
       "      <th>revenue</th>\n",
       "      <th>runtime</th>\n",
       "      <th>status</th>\n",
       "      <th>tagline</th>\n",
       "      <th>vote_average</th>\n",
       "      <th>vote_count</th>\n",
       "      <th>credits</th>\n",
       "      <th>keywords</th>\n",
       "    </tr>\n",
       "  </thead>\n",
       "  <tbody>\n",
       "    <tr>\n",
       "      <th>0</th>\n",
       "      <td>675353</td>\n",
       "      <td>Sonic the Hedgehog 2</td>\n",
       "      <td>Action-Science Fiction-Comedy-Family-Adventure</td>\n",
       "      <td>en</td>\n",
       "      <td>After settling in Green Hills Sonic is eager t...</td>\n",
       "      <td>6852.303</td>\n",
       "      <td>SEGA-Original Film-Blur Studios-Marza Animatio...</td>\n",
       "      <td>30-03-2022</td>\n",
       "      <td>110000000</td>\n",
       "      <td>355200000</td>\n",
       "      <td>122.0</td>\n",
       "      <td>Released</td>\n",
       "      <td>Welcome to the next level.</td>\n",
       "      <td>7.7</td>\n",
       "      <td>1465</td>\n",
       "      <td>Ben Schwartz-Idris Elba-Colleen O'Shaughnessey...</td>\n",
       "      <td>sequel-based on video game-hedgehog-live actio...</td>\n",
       "    </tr>\n",
       "    <tr>\n",
       "      <th>1</th>\n",
       "      <td>752623</td>\n",
       "      <td>The Lost City</td>\n",
       "      <td>Action-Adventure-Comedy-Romance</td>\n",
       "      <td>en</td>\n",
       "      <td>A reclusive romance novelist who was sure noth...</td>\n",
       "      <td>5805.799</td>\n",
       "      <td>Paramount-Fortis Films-3dot Productions-Exhibi...</td>\n",
       "      <td>24-03-2022</td>\n",
       "      <td>74000000</td>\n",
       "      <td>164289828</td>\n",
       "      <td>112.0</td>\n",
       "      <td>Released</td>\n",
       "      <td>The adventure is real. The heroes are not.</td>\n",
       "      <td>6.7</td>\n",
       "      <td>604</td>\n",
       "      <td>Sandra Bullock-Channing Tatum-Daniel Radcliffe...</td>\n",
       "      <td>duringcreditsstinger</td>\n",
       "    </tr>\n",
       "  </tbody>\n",
       "</table>\n",
       "</div>"
      ],
      "text/plain": [
       "       id                 title  \\\n",
       "0  675353  Sonic the Hedgehog 2   \n",
       "1  752623         The Lost City   \n",
       "\n",
       "                                           genres original_language  \\\n",
       "0  Action-Science Fiction-Comedy-Family-Adventure                en   \n",
       "1                 Action-Adventure-Comedy-Romance                en   \n",
       "\n",
       "                                            overview  popularity  \\\n",
       "0  After settling in Green Hills Sonic is eager t...    6852.303   \n",
       "1  A reclusive romance novelist who was sure noth...    5805.799   \n",
       "\n",
       "                                production_companies release_date     budget  \\\n",
       "0  SEGA-Original Film-Blur Studios-Marza Animatio...   30-03-2022  110000000   \n",
       "1  Paramount-Fortis Films-3dot Productions-Exhibi...   24-03-2022   74000000   \n",
       "\n",
       "     revenue  runtime    status                                     tagline  \\\n",
       "0  355200000    122.0  Released                  Welcome to the next level.   \n",
       "1  164289828    112.0  Released  The adventure is real. The heroes are not.   \n",
       "\n",
       "   vote_average  vote_count  \\\n",
       "0           7.7        1465   \n",
       "1           6.7         604   \n",
       "\n",
       "                                             credits  \\\n",
       "0  Ben Schwartz-Idris Elba-Colleen O'Shaughnessey...   \n",
       "1  Sandra Bullock-Channing Tatum-Daniel Radcliffe...   \n",
       "\n",
       "                                            keywords  \n",
       "0  sequel-based on video game-hedgehog-live actio...  \n",
       "1                               duringcreditsstinger  "
      ]
     },
     "execution_count": 19,
     "metadata": {},
     "output_type": "execute_result"
    }
   ],
   "source": [
    "df.head(2)"
   ]
  },
  {
   "cell_type": "markdown",
   "metadata": {},
   "source": [
    "## Converting release date to Datetime Object"
   ]
  },
  {
   "cell_type": "code",
   "execution_count": 20,
   "metadata": {},
   "outputs": [],
   "source": [
    "# Convert 'release_date' to datetime\n",
    "df['release_date'] = pd.to_datetime(df['release_date'], errors='coerce')"
   ]
  },
  {
   "cell_type": "markdown",
   "metadata": {},
   "source": [
    "## Top 10 Movie Titles by Popularity:"
   ]
  },
  {
   "cell_type": "code",
   "execution_count": 21,
   "metadata": {},
   "outputs": [
    {
     "name": "stdout",
     "output_type": "stream",
     "text": [
      "                                         title  popularity original_language\n",
      "0                         Sonic the Hedgehog 2    6852.303                en\n",
      "1                                The Lost City    5805.799                en\n",
      "2                                    Uncharted    3581.549                en\n",
      "3                                 The Northman    3451.658                en\n",
      "4                                   The Batman    3419.546                en\n",
      "5                          The Exorcism of God    3409.916                en\n",
      "6                                      Morbius    3226.513                en\n",
      "7                      Spider-Man: No Way Home    3000.059                en\n",
      "8  Doctor Strange in the Multiverse of Madness    2910.581                en\n",
      "9                                 The Bad Guys    2784.167                en\n"
     ]
    }
   ],
   "source": [
    "# Display top 10 movie titles by popularity\n",
    "top_titles = df.nlargest(10, 'popularity')[['title', 'popularity','original_language']]\n",
    "print(top_titles)\n"
   ]
  },
  {
   "cell_type": "code",
   "execution_count": 22,
   "metadata": {},
   "outputs": [
    {
     "data": {
      "text/html": [
       "<div>\n",
       "<style scoped>\n",
       "    .dataframe tbody tr th:only-of-type {\n",
       "        vertical-align: middle;\n",
       "    }\n",
       "\n",
       "    .dataframe tbody tr th {\n",
       "        vertical-align: top;\n",
       "    }\n",
       "\n",
       "    .dataframe thead th {\n",
       "        text-align: right;\n",
       "    }\n",
       "</style>\n",
       "<table border=\"1\" class=\"dataframe\">\n",
       "  <thead>\n",
       "    <tr style=\"text-align: right;\">\n",
       "      <th></th>\n",
       "      <th>id</th>\n",
       "      <th>title</th>\n",
       "      <th>genres</th>\n",
       "      <th>original_language</th>\n",
       "      <th>overview</th>\n",
       "      <th>popularity</th>\n",
       "      <th>production_companies</th>\n",
       "      <th>release_date</th>\n",
       "      <th>budget</th>\n",
       "      <th>revenue</th>\n",
       "      <th>runtime</th>\n",
       "      <th>status</th>\n",
       "      <th>tagline</th>\n",
       "      <th>vote_average</th>\n",
       "      <th>vote_count</th>\n",
       "      <th>credits</th>\n",
       "      <th>keywords</th>\n",
       "    </tr>\n",
       "  </thead>\n",
       "  <tbody>\n",
       "    <tr>\n",
       "      <th>0</th>\n",
       "      <td>675353</td>\n",
       "      <td>Sonic the Hedgehog 2</td>\n",
       "      <td>Action-Science Fiction-Comedy-Family-Adventure</td>\n",
       "      <td>en</td>\n",
       "      <td>After settling in Green Hills Sonic is eager t...</td>\n",
       "      <td>6852.303</td>\n",
       "      <td>SEGA-Original Film-Blur Studios-Marza Animatio...</td>\n",
       "      <td>2022-03-30</td>\n",
       "      <td>110000000</td>\n",
       "      <td>355200000</td>\n",
       "      <td>122.0</td>\n",
       "      <td>Released</td>\n",
       "      <td>Welcome to the next level.</td>\n",
       "      <td>7.7</td>\n",
       "      <td>1465</td>\n",
       "      <td>Ben Schwartz-Idris Elba-Colleen O'Shaughnessey...</td>\n",
       "      <td>sequel-based on video game-hedgehog-live actio...</td>\n",
       "    </tr>\n",
       "    <tr>\n",
       "      <th>1</th>\n",
       "      <td>752623</td>\n",
       "      <td>The Lost City</td>\n",
       "      <td>Action-Adventure-Comedy-Romance</td>\n",
       "      <td>en</td>\n",
       "      <td>A reclusive romance novelist who was sure noth...</td>\n",
       "      <td>5805.799</td>\n",
       "      <td>Paramount-Fortis Films-3dot Productions-Exhibi...</td>\n",
       "      <td>2022-03-24</td>\n",
       "      <td>74000000</td>\n",
       "      <td>164289828</td>\n",
       "      <td>112.0</td>\n",
       "      <td>Released</td>\n",
       "      <td>The adventure is real. The heroes are not.</td>\n",
       "      <td>6.7</td>\n",
       "      <td>604</td>\n",
       "      <td>Sandra Bullock-Channing Tatum-Daniel Radcliffe...</td>\n",
       "      <td>duringcreditsstinger</td>\n",
       "    </tr>\n",
       "  </tbody>\n",
       "</table>\n",
       "</div>"
      ],
      "text/plain": [
       "       id                 title  \\\n",
       "0  675353  Sonic the Hedgehog 2   \n",
       "1  752623         The Lost City   \n",
       "\n",
       "                                           genres original_language  \\\n",
       "0  Action-Science Fiction-Comedy-Family-Adventure                en   \n",
       "1                 Action-Adventure-Comedy-Romance                en   \n",
       "\n",
       "                                            overview  popularity  \\\n",
       "0  After settling in Green Hills Sonic is eager t...    6852.303   \n",
       "1  A reclusive romance novelist who was sure noth...    5805.799   \n",
       "\n",
       "                                production_companies release_date     budget  \\\n",
       "0  SEGA-Original Film-Blur Studios-Marza Animatio...   2022-03-30  110000000   \n",
       "1  Paramount-Fortis Films-3dot Productions-Exhibi...   2022-03-24   74000000   \n",
       "\n",
       "     revenue  runtime    status                                     tagline  \\\n",
       "0  355200000    122.0  Released                  Welcome to the next level.   \n",
       "1  164289828    112.0  Released  The adventure is real. The heroes are not.   \n",
       "\n",
       "   vote_average  vote_count  \\\n",
       "0           7.7        1465   \n",
       "1           6.7         604   \n",
       "\n",
       "                                             credits  \\\n",
       "0  Ben Schwartz-Idris Elba-Colleen O'Shaughnessey...   \n",
       "1  Sandra Bullock-Channing Tatum-Daniel Radcliffe...   \n",
       "\n",
       "                                            keywords  \n",
       "0  sequel-based on video game-hedgehog-live actio...  \n",
       "1                               duringcreditsstinger  "
      ]
     },
     "execution_count": 22,
     "metadata": {},
     "output_type": "execute_result"
    }
   ],
   "source": [
    "df.head(2)"
   ]
  },
  {
   "cell_type": "markdown",
   "metadata": {},
   "source": [
    "## Count of Movies for Each Language:"
   ]
  },
  {
   "cell_type": "markdown",
   "metadata": {},
   "source": [
    "### checking the unique languages"
   ]
  },
  {
   "cell_type": "code",
   "execution_count": 23,
   "metadata": {},
   "outputs": [
    {
     "name": "stdout",
     "output_type": "stream",
     "text": [
      "Total unique languages:  165\n"
     ]
    }
   ],
   "source": [
    "print('Total unique languages: ',df['original_language'].nunique())"
   ]
  },
  {
   "cell_type": "code",
   "execution_count": 24,
   "metadata": {},
   "outputs": [
    {
     "name": "stdout",
     "output_type": "stream",
     "text": [
      "All unique languages: \n",
      " ['en' 'fr' 'la' 'es' 'ko' 'ja' 'sv' 'ru' 'hi' 'it' 'no' 'th' 'de' 'cn'\n",
      " 'zh' 'pl' 'pt' 'te' 'id' 'tr' 'tl' 'ml' 'fi' 'da' 'nl' 'kn' 'xx' 'el'\n",
      " 'sr' 'ro' 'lv' 'fa' 'is' 'bn' 'ms' 'sk' 'ar' 'ca' 'uk' 'he' 'eu' 'cs'\n",
      " 'nb' 'ka' 'hu' 'mk' 'ta' 'ga' 'ur' 'pa' 'vi' 'ne' 'lt' 'bs' 'sh' 'dz'\n",
      " 'bg' 'hy' 'kk' 'et' 'gl' 'af' 'eo' 'sw' 'bo' 'mr' 'mi' 'hr' 'wo' 'lo'\n",
      " 'mn' 'as' 'km' 'mt' 'ku' 'ps' 'yi' 'st' 'uz' 'sl' 'iu' 'rw' 'bm' 'si'\n",
      " 'se' 'os' 'zu' 'ak' 'am' 'cy' 'qu' 'sq' 'my' 'xh' 'yo' 'ff' 'gu' 'ay'\n",
      " 'az' 'gd' 'lb' 'jv' 'tw' 'ky' 'or' 'ln' 'tg' 'be' 'ig' 'rm' 'ie' 'sm'\n",
      " 'lg' 'sa' 'fy' 'sn' 'ti' 'so' 'ht' 'kl' 'ba' 'mg' 'ha' 'ss' 'dv' 'tt'\n",
      " 'cr' 'tk' 'mo' 'ny' 'mh' 'ce' 'ab' 'bi' 'gn' 'fo' 'nn' 'ii' 'co' 'ks'\n",
      " 'oj' 'ug' 'su' 'fj' 'tn' 'to' 'oc' 'sg' 'nv' 'ch' 'sd' 'sc' 'li' 'av'\n",
      " 'ty' 'za' 'kw' 'ts' 'gv' 'pi' 'kg' 'om' 'ki' 'rn' 'an']\n"
     ]
    }
   ],
   "source": [
    "print('All unique languages: \\n',df['original_language'].unique())"
   ]
  },
  {
   "cell_type": "code",
   "execution_count": 25,
   "metadata": {},
   "outputs": [
    {
     "data": {
      "text/plain": [
       "original_language\n",
       "en    414295\n",
       "fr     47750\n",
       "es     44769\n",
       "de     38629\n",
       "ja     30797\n",
       "       ...  \n",
       "ty         1\n",
       "ch         1\n",
       "tn         1\n",
       "fj         1\n",
       "an         1\n",
       "Name: count, Length: 165, dtype: int64"
      ]
     },
     "execution_count": 25,
     "metadata": {},
     "output_type": "execute_result"
    }
   ],
   "source": [
    "# Count of movies for each language\n",
    "language_counts = df['original_language'].value_counts()\n",
    "language_counts\n"
   ]
  },
  {
   "cell_type": "markdown",
   "metadata": {},
   "source": [
    "### Dominant Language:\n",
    "\n",
    "English (en) is the dominant language in the dataset, with a significantly higher count than other languages. This is common in many global datasets, as English is widely used in the international film industry.\n",
    "### Top Non-English Languages:\n",
    "\n",
    "After English, the top non-English languages include French (fr), Spanish (es), German (de), and Japanese (ja). These languages have a substantial number of movies represented in the dataset."
   ]
  },
  {
   "cell_type": "markdown",
   "metadata": {},
   "source": [
    " ## Genre Distribution"
   ]
  },
  {
   "cell_type": "code",
   "execution_count": 26,
   "metadata": {},
   "outputs": [
    {
     "name": "stdout",
     "output_type": "stream",
     "text": [
      "Count of movies for each genre: \n",
      " genres\n",
      "Not Available      230408\n",
      "Drama              190626\n",
      "Documentary        121518\n",
      "Comedy             119997\n",
      "Romance             46489\n",
      "Animation           44005\n",
      "Thriller            41949\n",
      "Action              40678\n",
      "Horror              39904\n",
      "Music               37353\n",
      "Crime               29534\n",
      "Family              25222\n",
      "Adventure           21807\n",
      "TV Movie            21466\n",
      "Science Fiction     18665\n",
      "Fantasy             18496\n",
      "Mystery             16738\n",
      "History             14378\n",
      "War                  9668\n",
      "Western              8541\n",
      "Name: count, dtype: int64\n"
     ]
    },
    {
     "data": {
      "image/png": "[encoded data removed]",
      "text/plain": [
       "<Figure size 1400x800 with 1 Axes>"
      ]
     },
     "metadata": {},
     "output_type": "display_data"
    }
   ],
   "source": [
    "# Count of movies for each genre\n",
    "genres_counts = df['genres'].str.split('-').explode().value_counts()\n",
    "print('Count of movies for each genre: \\n',genres_counts)\n",
    "\n",
    "# Plotting count of movies for each genre\n",
    "plt.figure(figsize=(14, 8))\n",
    "sns.barplot(x=genres_counts.index, y=genres_counts.values, palette='pastel')\n",
    "plt.title('Genre Distribution')\n",
    "plt.xlabel('Genre')\n",
    "plt.ylabel('Number of Movies')\n",
    "plt.xticks(rotation=45)\n",
    "plt.show()"
   ]
  },
  {
   "cell_type": "markdown",
   "metadata": {},
   "source": [
    "### Not Available Genres:\n",
    "\n",
    "A significant number of movies (230,408) have an undefined or missing genre.\n",
    "### Top Genres:\n",
    "\n",
    "The most common genres include Drama (190,626), Documentary (121,518), and Comedy (119,997). These genres are often popular and cover a broad range of themes.\n",
    "### Specialized Genres:\n",
    "\n",
    "Genres like Animation (44,005), Science Fiction (18,665), Fantasy (18,496), and Mystery (16,738) indicate the presence of movies with specific themes, appealing to audiences interested in those genres.\n",
    "### Mainstream Genres:\n",
    "\n",
    "Genres like Action (40,678), Thriller (41,949), Romance (46,489), and Horror (39,904) are popular mainstream genres, suggesting a broad audience interest in these categories.\n",
    "### Niche Genres:\n",
    "\n",
    "Genres with lower counts, such as War (9,668), Western (8,541), and History (14,378), represent more niche categories with a potentially more focused audience.\n",
    "### TV Movies:\n",
    "\n",
    "The count of movies labeled as \"TV Movie\" (21,466) suggests the presence of content specifically produced for television.\n",
    "\n",
    "**These are some valuable insights from the genres.**"
   ]
  },
  {
   "cell_type": "code",
   "execution_count": null,
   "metadata": {},
   "outputs": [],
   "source": []
  },
  {
   "cell_type": "code",
   "execution_count": 27,
   "metadata": {},
   "outputs": [
    {
     "name": "stdout",
     "output_type": "stream",
     "text": [
      "Average popularity for each genre: \n",
      " genres\n",
      "Action-Science Fiction-Comedy-Family-Adventure    6852.303000\n",
      "Animation-Comedy-Action-Family-Crime              2784.167000\n",
      "Action-Adventure-Drama-Fantasy-Thriller           1726.129000\n",
      "Animation-Family-Fantasy-Comedy-Adventure          965.425000\n",
      "Action-Adventure-Comedy-Romance                    649.949333\n",
      "                                                     ...     \n",
      "Fantasy-Music-Horror-Comedy                          0.600000\n",
      "Science Fiction-Drama-Mystery-Fantasy                0.600000\n",
      "Fantasy-Music-Mystery                                0.600000\n",
      "Adventure-Crime-Drama-Western                        0.600000\n",
      "Music-Animation-Drama-Romance-Mystery                0.600000\n",
      "Name: popularity, Length: 10620, dtype: float64\n"
     ]
    }
   ],
   "source": [
    "# Average popularity for each genre\n",
    "avg_popularity_by_genre = df.groupby('genres')['popularity'].mean().sort_values(ascending=False)\n",
    "print('Average popularity for each genre: \\n',avg_popularity_by_genre)\n"
   ]
  },
  {
   "cell_type": "markdown",
   "metadata": {},
   "source": [
    "### Action-Science Fiction-Comedy-Family-Adventure are the most popular ones"
   ]
  },
  {
   "cell_type": "markdown",
   "metadata": {},
   "source": [
    "## Word Cloud for Movie Overviews:"
   ]
  },
  {
   "cell_type": "code",
   "execution_count": 28,
   "metadata": {},
   "outputs": [],
   "source": [
    "# from wordcloud import WordCloud\n",
    "# # Generate word cloud for movie overviews\n",
    "# wordcloud = WordCloud(width=800, height=400, max_words=200, background_color='white').generate(' '.join(df['overview'].dropna()))\n",
    "\n",
    "# # Display the word cloud\n",
    "# plt.figure(figsize=(12, 6))\n",
    "# plt.imshow(wordcloud, interpolation='bilinear')\n",
    "# plt.axis('off')\n",
    "# plt.title('Word Cloud for Movie Overviews')\n",
    "# plt.show()"
   ]
  },
  {
   "cell_type": "markdown",
   "metadata": {},
   "source": [
    "## Adding a profit column"
   ]
  },
  {
   "cell_type": "code",
   "execution_count": 29,
   "metadata": {},
   "outputs": [],
   "source": [
    "# Create a new column 'profit' by subtracting 'budget' from 'revenue'\n",
    "df['profit'] = df['revenue'] - df['budget']"
   ]
  },
  {
   "cell_type": "code",
   "execution_count": 30,
   "metadata": {},
   "outputs": [
    {
     "data": {
      "text/html": [
       "<div>\n",
       "<style scoped>\n",
       "    .dataframe tbody tr th:only-of-type {\n",
       "        vertical-align: middle;\n",
       "    }\n",
       "\n",
       "    .dataframe tbody tr th {\n",
       "        vertical-align: top;\n",
       "    }\n",
       "\n",
       "    .dataframe thead th {\n",
       "        text-align: right;\n",
       "    }\n",
       "</style>\n",
       "<table border=\"1\" class=\"dataframe\">\n",
       "  <thead>\n",
       "    <tr style=\"text-align: right;\">\n",
       "      <th></th>\n",
       "      <th>id</th>\n",
       "      <th>title</th>\n",
       "      <th>genres</th>\n",
       "      <th>original_language</th>\n",
       "      <th>overview</th>\n",
       "      <th>popularity</th>\n",
       "      <th>production_companies</th>\n",
       "      <th>release_date</th>\n",
       "      <th>budget</th>\n",
       "      <th>revenue</th>\n",
       "      <th>runtime</th>\n",
       "      <th>status</th>\n",
       "      <th>tagline</th>\n",
       "      <th>vote_average</th>\n",
       "      <th>vote_count</th>\n",
       "      <th>credits</th>\n",
       "      <th>keywords</th>\n",
       "      <th>profit</th>\n",
       "    </tr>\n",
       "  </thead>\n",
       "  <tbody>\n",
       "    <tr>\n",
       "      <th>0</th>\n",
       "      <td>675353</td>\n",
       "      <td>Sonic the Hedgehog 2</td>\n",
       "      <td>Action-Science Fiction-Comedy-Family-Adventure</td>\n",
       "      <td>en</td>\n",
       "      <td>After settling in Green Hills Sonic is eager t...</td>\n",
       "      <td>6852.303</td>\n",
       "      <td>SEGA-Original Film-Blur Studios-Marza Animatio...</td>\n",
       "      <td>2022-03-30</td>\n",
       "      <td>110000000</td>\n",
       "      <td>355200000</td>\n",
       "      <td>122.0</td>\n",
       "      <td>Released</td>\n",
       "      <td>Welcome to the next level.</td>\n",
       "      <td>7.7</td>\n",
       "      <td>1465</td>\n",
       "      <td>Ben Schwartz-Idris Elba-Colleen O'Shaughnessey...</td>\n",
       "      <td>sequel-based on video game-hedgehog-live actio...</td>\n",
       "      <td>245200000</td>\n",
       "    </tr>\n",
       "    <tr>\n",
       "      <th>1</th>\n",
       "      <td>752623</td>\n",
       "      <td>The Lost City</td>\n",
       "      <td>Action-Adventure-Comedy-Romance</td>\n",
       "      <td>en</td>\n",
       "      <td>A reclusive romance novelist who was sure noth...</td>\n",
       "      <td>5805.799</td>\n",
       "      <td>Paramount-Fortis Films-3dot Productions-Exhibi...</td>\n",
       "      <td>2022-03-24</td>\n",
       "      <td>74000000</td>\n",
       "      <td>164289828</td>\n",
       "      <td>112.0</td>\n",
       "      <td>Released</td>\n",
       "      <td>The adventure is real. The heroes are not.</td>\n",
       "      <td>6.7</td>\n",
       "      <td>604</td>\n",
       "      <td>Sandra Bullock-Channing Tatum-Daniel Radcliffe...</td>\n",
       "      <td>duringcreditsstinger</td>\n",
       "      <td>90289828</td>\n",
       "    </tr>\n",
       "  </tbody>\n",
       "</table>\n",
       "</div>"
      ],
      "text/plain": [
       "       id                 title  \\\n",
       "0  675353  Sonic the Hedgehog 2   \n",
       "1  752623         The Lost City   \n",
       "\n",
       "                                           genres original_language  \\\n",
       "0  Action-Science Fiction-Comedy-Family-Adventure                en   \n",
       "1                 Action-Adventure-Comedy-Romance                en   \n",
       "\n",
       "                                            overview  popularity  \\\n",
       "0  After settling in Green Hills Sonic is eager t...    6852.303   \n",
       "1  A reclusive romance novelist who was sure noth...    5805.799   \n",
       "\n",
       "                                production_companies release_date     budget  \\\n",
       "0  SEGA-Original Film-Blur Studios-Marza Animatio...   2022-03-30  110000000   \n",
       "1  Paramount-Fortis Films-3dot Productions-Exhibi...   2022-03-24   74000000   \n",
       "\n",
       "     revenue  runtime    status                                     tagline  \\\n",
       "0  355200000    122.0  Released                  Welcome to the next level.   \n",
       "1  164289828    112.0  Released  The adventure is real. The heroes are not.   \n",
       "\n",
       "   vote_average  vote_count  \\\n",
       "0           7.7        1465   \n",
       "1           6.7         604   \n",
       "\n",
       "                                             credits  \\\n",
       "0  Ben Schwartz-Idris Elba-Colleen O'Shaughnessey...   \n",
       "1  Sandra Bullock-Channing Tatum-Daniel Radcliffe...   \n",
       "\n",
       "                                            keywords     profit  \n",
       "0  sequel-based on video game-hedgehog-live actio...  245200000  \n",
       "1                               duringcreditsstinger   90289828  "
      ]
     },
     "execution_count": 30,
     "metadata": {},
     "output_type": "execute_result"
    }
   ],
   "source": [
    "df.head(2)"
   ]
  },
  {
   "cell_type": "markdown",
   "metadata": {},
   "source": [
    " ### Relationship between Budget and Revenue"
   ]
  },
  {
   "cell_type": "code",
   "execution_count": 31,
   "metadata": {},
   "outputs": [
    {
     "data": {
      "image/png": "[encoded data removed]",
      "text/plain": [
       "<Figure size 1000x600 with 1 Axes>"
      ]
     },
     "metadata": {},
     "output_type": "display_data"
    }
   ],
   "source": [
    "import matplotlib.pyplot as plt\n",
    "import seaborn as sns\n",
    "\n",
    "sns.set_style(\"whitegrid\")\n",
    "\n",
    "plt.figure(figsize=(10, 6))\n",
    "sns.scatterplot(x='budget', y='revenue', data=df, alpha=0.6)\n",
    "plt.xscale('log')\n",
    "plt.yscale('log')\n",
    "\n",
    "# Add labels and a title\n",
    "plt.title('Scatter Plot of Budget vs. Revenue')\n",
    "plt.xlabel('Budget (log scale)')\n",
    "plt.ylabel('Revenue (log scale)')\n",
    "plt.show()\n"
   ]
  },
  {
   "cell_type": "markdown",
   "metadata": {},
   "source": [
    "**Positive Correlation:** There's a clear positive correlation between budget and revenue. This means that as the budget increases, the revenue tends to increase as well.\n",
    "\n",
    "**Not Perfectly Linear:** The relationship isn't perfectly linear, as there's some scatter in the data points. This suggests that other factors beyond budget also influence revenue."
   ]
  },
  {
   "cell_type": "markdown",
   "metadata": {},
   "source": [
    "## Distribution, trends, and factors influencing movie profits"
   ]
  },
  {
   "cell_type": "code",
   "execution_count": 32,
   "metadata": {},
   "outputs": [
    {
     "data": {
      "image/png": "[encoded data removed]",
      "text/plain": [
       "<Figure size 1000x600 with 1 Axes>"
      ]
     },
     "metadata": {},
     "output_type": "display_data"
    },
    {
     "name": "stdout",
     "output_type": "stream",
     "text": [
      "count    7.797270e+05\n",
      "mean     5.764003e+05\n",
      "std      1.733860e+07\n",
      "min     -5.000000e+09\n",
      "25%      0.000000e+00\n",
      "50%      0.000000e+00\n",
      "75%      0.000000e+00\n",
      "max      2.610246e+09\n",
      "Name: profit, dtype: float64\n"
     ]
    }
   ],
   "source": [
    "import matplotlib.pyplot as plt\n",
    "import seaborn as sns\n",
    "\n",
    "# Descriptive statistics\n",
    "profit_stats = df['profit'].describe()\n",
    "\n",
    "# Histogram\n",
    "plt.figure(figsize=(10, 6))\n",
    "sns.histplot(df['profit'], bins=50, kde=True)\n",
    "plt.title('Distribution of Movie Profits')\n",
    "plt.xlabel('Profit')\n",
    "plt.ylabel('Frequency')\n",
    "plt.show()\n",
    "\n",
    "print(profit_stats)\n"
   ]
  },
  {
   "cell_type": "markdown",
   "metadata": {},
   "source": [
    "**Skewed:** The distribution is skewed to the left, indicating that most movies have lower profits, with fewer movies achieving exceptionally high profits.\n",
    "\n",
    "**Concentration:** The peak of the distribution is around -2 on the profit axis, suggesting that the most common profit range is slightly negative.\n",
    "\n",
    "**Tail:** The elongated tail to the right implies the presence of some high-grossing outliers.\n",
    "\n",
    "**Descriptive Statistics:**\n",
    "\n",
    "- Mean Profit: The average profit is likely negative, given the left skew.\n",
    "- Median Profit: The median profit, which is less affected by outliers, might be closer to the peak of the distribution (around -2).\n",
    "- Standard Deviation: A high standard deviation would indicate wide variability in profits, suggesting that success is unpredictable.\n",
    "- Minimum and Maximum: These values provide the range of profits, revealing the potential for both significant losses and substantial gains."
   ]
  },
  {
   "cell_type": "markdown",
   "metadata": {},
   "source": [
    "## Release Date Analysis:"
   ]
  },
  {
   "cell_type": "code",
   "execution_count": 33,
   "metadata": {},
   "outputs": [
    {
     "data": {
      "image/png": "[encoded data removed]",
      "text/plain": [
       "<Figure size 1200x600 with 1 Axes>"
      ]
     },
     "metadata": {},
     "output_type": "display_data"
    }
   ],
   "source": [
    "# Extract release year from release date\n",
    "df['release_year'] = df['release_date'].dt.year\n",
    "\n",
    "# Count of movies released each year\n",
    "movies_per_year = df['release_year'].value_counts().sort_index()\n",
    "\n",
    "# Plot number of movies released each year\n",
    "plt.figure(figsize=(12, 6))\n",
    "sns.lineplot(x=movies_per_year.index, y=movies_per_year.values, marker='o', color='orange')\n",
    "plt.title('Number of Movies Released Over Time')\n",
    "plt.xlabel('Release Year')\n",
    "plt.ylabel('Number of Movies Released')\n",
    "plt.show()\n"
   ]
  },
  {
   "cell_type": "markdown",
   "metadata": {},
   "source": [
    "### The number of movies released has generally increased over time, as evidenced by the upward trend of the line.\n",
    "\n",
    "**Early 20th Century:** Movie production was relatively low in the early 1900s, likely due to the nascent film industry.\n",
    "\n",
    "**Mid-Century Growth:** A significant increase in movie production occurred around the mid-20th century, potentially reflecting technological advancements, growing popularity of cinema, and wider cultural shifts.\n",
    "\n",
    "**Recent Decades:** The number of movies released has continued to rise in recent decades, indicating a thriving and expanding film industry.\n",
    "\n",
    "**Peak Around 1975:** The highest number of movies released occurred around 1975, suggesting a potential boom in film production during that period.\n",
    "**Decline After 1975:** The number of movies released has declined somewhat since the peak, but it still remains relatively high compared to earlier periods."
   ]
  },
  {
   "cell_type": "markdown",
   "metadata": {},
   "source": [
    "## Top 10 Production Companies by Number of Movies"
   ]
  },
  {
   "cell_type": "code",
   "execution_count": 34,
   "metadata": {},
   "outputs": [
    {
     "name": "stdout",
     "output_type": "stream",
     "text": [
      "production_companies\n",
      "Not Available            415044\n",
      "Warner Bros. Pictures      3599\n",
      "BBC                        3035\n",
      "Metro                      2985\n",
      "Goldwyn                    2966\n",
      "Mayer                      2938\n",
      "Columbia Pictures          2887\n",
      "Universal Pictures         2801\n",
      "Paramount                  2742\n",
      "Toei Company               2409\n",
      "Name: count, dtype: int64\n"
     ]
    }
   ],
   "source": [
    "# Display top 10 production companies by number of movies\n",
    "top_production_companies = df['production_companies'].str.split('-').explode().value_counts().nlargest(10)\n",
    "print(top_production_companies)\n"
   ]
  },
  {
   "cell_type": "markdown",
   "metadata": {},
   "source": [
    "These are the top most production companies all over the world. And most of the production companies nemas are missing and it is indicated by the category \"Not Available\"."
   ]
  },
  {
   "cell_type": "markdown",
   "metadata": {},
   "source": [
    "## Vote Average vs. Popularity"
   ]
  },
  {
   "cell_type": "code",
   "execution_count": 35,
   "metadata": {},
   "outputs": [
    {
     "data": {
      "image/png": "[encoded data removed]",
      "text/plain": [
       "<Figure size 1000x600 with 1 Axes>"
      ]
     },
     "metadata": {},
     "output_type": "display_data"
    }
   ],
   "source": [
    "# Scatter plot of vote average vs. popularity\n",
    "plt.figure(figsize=(10, 6))\n",
    "sns.scatterplot(x='vote_average', y='popularity', data=df, color='purple')\n",
    "plt.title('Vote Average vs. Popularity')\n",
    "plt.xlabel('Vote Average')\n",
    "plt.ylabel('Popularity')\n",
    "plt.show()\n"
   ]
  },
  {
   "cell_type": "markdown",
   "metadata": {},
   "source": [
    "## Release Month Analysis"
   ]
  },
  {
   "cell_type": "code",
   "execution_count": 36,
   "metadata": {},
   "outputs": [
    {
     "data": {
      "image/png": "[encoded data removed]",
      "text/plain": [
       "<Figure size 1200x600 with 1 Axes>"
      ]
     },
     "metadata": {},
     "output_type": "display_data"
    }
   ],
   "source": [
    "# Extract release month from release date\n",
    "df['release_month'] = df['release_date'].dt.month_name()\n",
    "\n",
    "# Plot number of movies released each month\n",
    "plt.figure(figsize=(12, 6))\n",
    "sns.countplot(x='release_month', data=df, order=df['release_month'].value_counts().index, palette='viridis')\n",
    "plt.title('Number of Movies Released Each Month')\n",
    "plt.xlabel('Month')\n",
    "plt.ylabel('Number of Movies Released')\n",
    "plt.xticks(rotation=45)\n",
    "plt.show()\n"
   ]
  },
  {
   "cell_type": "markdown",
   "metadata": {},
   "source": [
    "The most no of movies has been released on January."
   ]
  },
  {
   "cell_type": "code",
   "execution_count": 37,
   "metadata": {},
   "outputs": [
    {
     "data": {
      "text/html": [
       "<div>\n",
       "<style scoped>\n",
       "    .dataframe tbody tr th:only-of-type {\n",
       "        vertical-align: middle;\n",
       "    }\n",
       "\n",
       "    .dataframe tbody tr th {\n",
       "        vertical-align: top;\n",
       "    }\n",
       "\n",
       "    .dataframe thead th {\n",
       "        text-align: right;\n",
       "    }\n",
       "</style>\n",
       "<table border=\"1\" class=\"dataframe\">\n",
       "  <thead>\n",
       "    <tr style=\"text-align: right;\">\n",
       "      <th></th>\n",
       "      <th>id</th>\n",
       "      <th>title</th>\n",
       "      <th>genres</th>\n",
       "      <th>original_language</th>\n",
       "      <th>overview</th>\n",
       "      <th>popularity</th>\n",
       "      <th>production_companies</th>\n",
       "      <th>release_date</th>\n",
       "      <th>budget</th>\n",
       "      <th>revenue</th>\n",
       "      <th>runtime</th>\n",
       "      <th>status</th>\n",
       "      <th>tagline</th>\n",
       "      <th>vote_average</th>\n",
       "      <th>vote_count</th>\n",
       "      <th>credits</th>\n",
       "      <th>keywords</th>\n",
       "      <th>profit</th>\n",
       "      <th>release_year</th>\n",
       "      <th>release_month</th>\n",
       "    </tr>\n",
       "  </thead>\n",
       "  <tbody>\n",
       "    <tr>\n",
       "      <th>0</th>\n",
       "      <td>675353</td>\n",
       "      <td>Sonic the Hedgehog 2</td>\n",
       "      <td>Action-Science Fiction-Comedy-Family-Adventure</td>\n",
       "      <td>en</td>\n",
       "      <td>After settling in Green Hills Sonic is eager t...</td>\n",
       "      <td>6852.303</td>\n",
       "      <td>SEGA-Original Film-Blur Studios-Marza Animatio...</td>\n",
       "      <td>2022-03-30</td>\n",
       "      <td>110000000</td>\n",
       "      <td>355200000</td>\n",
       "      <td>122.0</td>\n",
       "      <td>Released</td>\n",
       "      <td>Welcome to the next level.</td>\n",
       "      <td>7.7</td>\n",
       "      <td>1465</td>\n",
       "      <td>Ben Schwartz-Idris Elba-Colleen O'Shaughnessey...</td>\n",
       "      <td>sequel-based on video game-hedgehog-live actio...</td>\n",
       "      <td>245200000</td>\n",
       "      <td>2022.0</td>\n",
       "      <td>March</td>\n",
       "    </tr>\n",
       "    <tr>\n",
       "      <th>1</th>\n",
       "      <td>752623</td>\n",
       "      <td>The Lost City</td>\n",
       "      <td>Action-Adventure-Comedy-Romance</td>\n",
       "      <td>en</td>\n",
       "      <td>A reclusive romance novelist who was sure noth...</td>\n",
       "      <td>5805.799</td>\n",
       "      <td>Paramount-Fortis Films-3dot Productions-Exhibi...</td>\n",
       "      <td>2022-03-24</td>\n",
       "      <td>74000000</td>\n",
       "      <td>164289828</td>\n",
       "      <td>112.0</td>\n",
       "      <td>Released</td>\n",
       "      <td>The adventure is real. The heroes are not.</td>\n",
       "      <td>6.7</td>\n",
       "      <td>604</td>\n",
       "      <td>Sandra Bullock-Channing Tatum-Daniel Radcliffe...</td>\n",
       "      <td>duringcreditsstinger</td>\n",
       "      <td>90289828</td>\n",
       "      <td>2022.0</td>\n",
       "      <td>March</td>\n",
       "    </tr>\n",
       "  </tbody>\n",
       "</table>\n",
       "</div>"
      ],
      "text/plain": [
       "       id                 title  \\\n",
       "0  675353  Sonic the Hedgehog 2   \n",
       "1  752623         The Lost City   \n",
       "\n",
       "                                           genres original_language  \\\n",
       "0  Action-Science Fiction-Comedy-Family-Adventure                en   \n",
       "1                 Action-Adventure-Comedy-Romance                en   \n",
       "\n",
       "                                            overview  popularity  \\\n",
       "0  After settling in Green Hills Sonic is eager t...    6852.303   \n",
       "1  A reclusive romance novelist who was sure noth...    5805.799   \n",
       "\n",
       "                                production_companies release_date     budget  \\\n",
       "0  SEGA-Original Film-Blur Studios-Marza Animatio...   2022-03-30  110000000   \n",
       "1  Paramount-Fortis Films-3dot Productions-Exhibi...   2022-03-24   74000000   \n",
       "\n",
       "     revenue  runtime    status                                     tagline  \\\n",
       "0  355200000    122.0  Released                  Welcome to the next level.   \n",
       "1  164289828    112.0  Released  The adventure is real. The heroes are not.   \n",
       "\n",
       "   vote_average  vote_count  \\\n",
       "0           7.7        1465   \n",
       "1           6.7         604   \n",
       "\n",
       "                                             credits  \\\n",
       "0  Ben Schwartz-Idris Elba-Colleen O'Shaughnessey...   \n",
       "1  Sandra Bullock-Channing Tatum-Daniel Radcliffe...   \n",
       "\n",
       "                                            keywords     profit  release_year  \\\n",
       "0  sequel-based on video game-hedgehog-live actio...  245200000        2022.0   \n",
       "1                               duringcreditsstinger   90289828        2022.0   \n",
       "\n",
       "  release_month  \n",
       "0         March  \n",
       "1         March  "
      ]
     },
     "execution_count": 37,
     "metadata": {},
     "output_type": "execute_result"
    }
   ],
   "source": [
    "df.head(2)"
   ]
  },
  {
   "cell_type": "markdown",
   "metadata": {},
   "source": [
    "## most awaited movie after 2024"
   ]
  },
  {
   "cell_type": "code",
   "execution_count": 38,
   "metadata": {},
   "outputs": [
    {
     "name": "stdout",
     "output_type": "stream",
     "text": [
      "Most Awaited upcoming movies\n"
     ]
    },
    {
     "data": {
      "text/html": [
       "<div>\n",
       "<style scoped>\n",
       "    .dataframe tbody tr th:only-of-type {\n",
       "        vertical-align: middle;\n",
       "    }\n",
       "\n",
       "    .dataframe tbody tr th {\n",
       "        vertical-align: top;\n",
       "    }\n",
       "\n",
       "    .dataframe thead th {\n",
       "        text-align: right;\n",
       "    }\n",
       "</style>\n",
       "<table border=\"1\" class=\"dataframe\">\n",
       "  <thead>\n",
       "    <tr style=\"text-align: right;\">\n",
       "      <th></th>\n",
       "      <th>title</th>\n",
       "      <th>release_date</th>\n",
       "      <th>budget</th>\n",
       "      <th>status</th>\n",
       "      <th>popularity</th>\n",
       "    </tr>\n",
       "  </thead>\n",
       "  <tbody>\n",
       "    <tr>\n",
       "      <th>661</th>\n",
       "      <td>Fantastic Beasts 4</td>\n",
       "      <td>2025-08-14</td>\n",
       "      <td>0</td>\n",
       "      <td>Planned</td>\n",
       "      <td>112.222</td>\n",
       "    </tr>\n",
       "    <tr>\n",
       "      <th>2084</th>\n",
       "      <td>Avatar 4</td>\n",
       "      <td>2026-12-16</td>\n",
       "      <td>250000000</td>\n",
       "      <td>In Production</td>\n",
       "      <td>50.057</td>\n",
       "    </tr>\n",
       "    <tr>\n",
       "      <th>2805</th>\n",
       "      <td>Avatar 5</td>\n",
       "      <td>2028-12-20</td>\n",
       "      <td>250000000</td>\n",
       "      <td>In Production</td>\n",
       "      <td>39.344</td>\n",
       "    </tr>\n",
       "    <tr>\n",
       "      <th>37426</th>\n",
       "      <td>Untitled Star Wars Film</td>\n",
       "      <td>2027-12-17</td>\n",
       "      <td>0</td>\n",
       "      <td>Planned</td>\n",
       "      <td>5.403</td>\n",
       "    </tr>\n",
       "    <tr>\n",
       "      <th>49202</th>\n",
       "      <td>Untitled Star Wars Film</td>\n",
       "      <td>2027-12-17</td>\n",
       "      <td>0</td>\n",
       "      <td>Planned</td>\n",
       "      <td>4.280</td>\n",
       "    </tr>\n",
       "    <tr>\n",
       "      <th>67677</th>\n",
       "      <td>Untitled Star Wars Film</td>\n",
       "      <td>2027-12-17</td>\n",
       "      <td>0</td>\n",
       "      <td>Planned</td>\n",
       "      <td>3.269</td>\n",
       "    </tr>\n",
       "    <tr>\n",
       "      <th>71015</th>\n",
       "      <td>Shanghai Dawn</td>\n",
       "      <td>2025-01-01</td>\n",
       "      <td>0</td>\n",
       "      <td>Planned</td>\n",
       "      <td>3.141</td>\n",
       "    </tr>\n",
       "    <tr>\n",
       "      <th>71841</th>\n",
       "      <td>Shanghai Dawn</td>\n",
       "      <td>2025-01-01</td>\n",
       "      <td>0</td>\n",
       "      <td>Planned</td>\n",
       "      <td>3.107</td>\n",
       "    </tr>\n",
       "    <tr>\n",
       "      <th>174176</th>\n",
       "      <td>Son Göktürk</td>\n",
       "      <td>2025-01-01</td>\n",
       "      <td>0</td>\n",
       "      <td>Planned</td>\n",
       "      <td>1.400</td>\n",
       "    </tr>\n",
       "    <tr>\n",
       "      <th>209056</th>\n",
       "      <td>100 Years</td>\n",
       "      <td>2099-11-18</td>\n",
       "      <td>0</td>\n",
       "      <td>Post Production</td>\n",
       "      <td>1.224</td>\n",
       "    </tr>\n",
       "  </tbody>\n",
       "</table>\n",
       "</div>"
      ],
      "text/plain": [
       "                          title release_date     budget           status  \\\n",
       "661          Fantastic Beasts 4   2025-08-14          0          Planned   \n",
       "2084                   Avatar 4   2026-12-16  250000000    In Production   \n",
       "2805                   Avatar 5   2028-12-20  250000000    In Production   \n",
       "37426   Untitled Star Wars Film   2027-12-17          0          Planned   \n",
       "49202   Untitled Star Wars Film   2027-12-17          0          Planned   \n",
       "67677   Untitled Star Wars Film   2027-12-17          0          Planned   \n",
       "71015             Shanghai Dawn   2025-01-01          0          Planned   \n",
       "71841             Shanghai Dawn   2025-01-01          0          Planned   \n",
       "174176              Son Göktürk   2025-01-01          0          Planned   \n",
       "209056                100 Years   2099-11-18          0  Post Production   \n",
       "\n",
       "        popularity  \n",
       "661        112.222  \n",
       "2084        50.057  \n",
       "2805        39.344  \n",
       "37426        5.403  \n",
       "49202        4.280  \n",
       "67677        3.269  \n",
       "71015        3.141  \n",
       "71841        3.107  \n",
       "174176       1.400  \n",
       "209056       1.224  "
      ]
     },
     "execution_count": 38,
     "metadata": {},
     "output_type": "execute_result"
    }
   ],
   "source": [
    "# Filter movies Awaited upcoming movies\n",
    "upcoming_movies = df[df['release_date'].dt.year > 2024]\n",
    "\n",
    "# Sort upcoming movies by popularity\n",
    "most_awaited_movie = upcoming_movies.nlargest(10, 'popularity')[['title', 'release_date', 'budget', 'status', 'popularity']]\n",
    "\n",
    "# Display the most awaited movie\n",
    "print(\"Most Awaited upcoming movies\")\n",
    "most_awaited_movie"
   ]
  },
  {
   "cell_type": "markdown",
   "metadata": {},
   "source": [
    "The top 10 most awaited upcoming movies"
   ]
  },
  {
   "cell_type": "markdown",
   "metadata": {},
   "source": [
    "## movies with the highest profit"
   ]
  },
  {
   "cell_type": "code",
   "execution_count": 39,
   "metadata": {},
   "outputs": [
    {
     "name": "stdout",
     "output_type": "stream",
     "text": [
      "Movies with the Highest Profit:\n"
     ]
    },
    {
     "data": {
      "text/html": [
       "<div>\n",
       "<style scoped>\n",
       "    .dataframe tbody tr th:only-of-type {\n",
       "        vertical-align: middle;\n",
       "    }\n",
       "\n",
       "    .dataframe tbody tr th {\n",
       "        vertical-align: top;\n",
       "    }\n",
       "\n",
       "    .dataframe thead th {\n",
       "        text-align: right;\n",
       "    }\n",
       "</style>\n",
       "<table border=\"1\" class=\"dataframe\">\n",
       "  <thead>\n",
       "    <tr style=\"text-align: right;\">\n",
       "      <th></th>\n",
       "      <th>title</th>\n",
       "      <th>budget</th>\n",
       "      <th>revenue</th>\n",
       "      <th>profit</th>\n",
       "      <th>release_date</th>\n",
       "      <th>release_year</th>\n",
       "    </tr>\n",
       "  </thead>\n",
       "  <tbody>\n",
       "    <tr>\n",
       "      <th>46</th>\n",
       "      <td>Avatar</td>\n",
       "      <td>237000000</td>\n",
       "      <td>2847246203</td>\n",
       "      <td>2610246203</td>\n",
       "      <td>2009-12-10</td>\n",
       "      <td>2009</td>\n",
       "    </tr>\n",
       "    <tr>\n",
       "      <th>162</th>\n",
       "      <td>Avengers: Endgame</td>\n",
       "      <td>356000000</td>\n",
       "      <td>2797800564</td>\n",
       "      <td>2441800564</td>\n",
       "      <td>2019-04-24</td>\n",
       "      <td>2019</td>\n",
       "    </tr>\n",
       "    <tr>\n",
       "      <th>297</th>\n",
       "      <td>Titanic</td>\n",
       "      <td>200000000</td>\n",
       "      <td>2187463944</td>\n",
       "      <td>1987463944</td>\n",
       "      <td>1997-11-18</td>\n",
       "      <td>1997</td>\n",
       "    </tr>\n",
       "    <tr>\n",
       "      <th>1332</th>\n",
       "      <td>Star Wars: The Force Awakens</td>\n",
       "      <td>245000000</td>\n",
       "      <td>2068223624</td>\n",
       "      <td>1823223624</td>\n",
       "      <td>2015-12-15</td>\n",
       "      <td>2015</td>\n",
       "    </tr>\n",
       "    <tr>\n",
       "      <th>87</th>\n",
       "      <td>Avengers: Infinity War</td>\n",
       "      <td>300000000</td>\n",
       "      <td>2046239637</td>\n",
       "      <td>1746239637</td>\n",
       "      <td>2018-04-25</td>\n",
       "      <td>2018</td>\n",
       "    </tr>\n",
       "    <tr>\n",
       "      <th>7</th>\n",
       "      <td>Spider-Man: No Way Home</td>\n",
       "      <td>200000000</td>\n",
       "      <td>1892000000</td>\n",
       "      <td>1692000000</td>\n",
       "      <td>2021-12-15</td>\n",
       "      <td>2021</td>\n",
       "    </tr>\n",
       "    <tr>\n",
       "      <th>494</th>\n",
       "      <td>Jurassic World</td>\n",
       "      <td>150000000</td>\n",
       "      <td>1671713208</td>\n",
       "      <td>1521713208</td>\n",
       "      <td>2015-06-06</td>\n",
       "      <td>2015</td>\n",
       "    </tr>\n",
       "    <tr>\n",
       "      <th>704</th>\n",
       "      <td>The Lion King</td>\n",
       "      <td>260000000</td>\n",
       "      <td>1667635327</td>\n",
       "      <td>1407635327</td>\n",
       "      <td>2019-07-12</td>\n",
       "      <td>2019</td>\n",
       "    </tr>\n",
       "    <tr>\n",
       "      <th>610</th>\n",
       "      <td>Furious 7</td>\n",
       "      <td>190000000</td>\n",
       "      <td>1515047671</td>\n",
       "      <td>1325047671</td>\n",
       "      <td>2015-04-01</td>\n",
       "      <td>2015</td>\n",
       "    </tr>\n",
       "    <tr>\n",
       "      <th>559</th>\n",
       "      <td>Frozen II</td>\n",
       "      <td>150000000</td>\n",
       "      <td>1450026933</td>\n",
       "      <td>1300026933</td>\n",
       "      <td>2019-11-20</td>\n",
       "      <td>2019</td>\n",
       "    </tr>\n",
       "  </tbody>\n",
       "</table>\n",
       "</div>"
      ],
      "text/plain": [
       "                             title     budget     revenue      profit  \\\n",
       "46                          Avatar  237000000  2847246203  2610246203   \n",
       "162              Avengers: Endgame  356000000  2797800564  2441800564   \n",
       "297                        Titanic  200000000  2187463944  1987463944   \n",
       "1332  Star Wars: The Force Awakens  245000000  2068223624  1823223624   \n",
       "87          Avengers: Infinity War  300000000  2046239637  1746239637   \n",
       "7          Spider-Man: No Way Home  200000000  1892000000  1692000000   \n",
       "494                 Jurassic World  150000000  1671713208  1521713208   \n",
       "704                  The Lion King  260000000  1667635327  1407635327   \n",
       "610                      Furious 7  190000000  1515047671  1325047671   \n",
       "559                      Frozen II  150000000  1450026933  1300026933   \n",
       "\n",
       "     release_date  release_year  \n",
       "46     2009-12-10          2009  \n",
       "162    2019-04-24          2019  \n",
       "297    1997-11-18          1997  \n",
       "1332   2015-12-15          2015  \n",
       "87     2018-04-25          2018  \n",
       "7      2021-12-15          2021  \n",
       "494    2015-06-06          2015  \n",
       "704    2019-07-12          2019  \n",
       "610    2015-04-01          2015  \n",
       "559    2019-11-20          2019  "
      ]
     },
     "execution_count": 39,
     "metadata": {},
     "output_type": "execute_result"
    }
   ],
   "source": [
    "# Convert 'release_year' to integer\n",
    "df['release_year'] = df['release_year'].astype('Int64')\n",
    "\n",
    "# Find the movies with the highest profit\n",
    "\n",
    "movies_highest_profit = df.nlargest(10, 'profit')[['title', 'budget', 'revenue', 'profit','release_date','release_year']]\n",
    "print(\"Movies with the Highest Profit:\")\n",
    "movies_highest_profit"
   ]
  },
  {
   "cell_type": "markdown",
   "metadata": {},
   "source": [
    "## popularity for each language"
   ]
  },
  {
   "cell_type": "code",
   "execution_count": 40,
   "metadata": {},
   "outputs": [
    {
     "name": "stdout",
     "output_type": "stream",
     "text": [
      "Most Popular Language:\n",
      "Language: la\n",
      "Average Popularity: 75.20887096774193\n"
     ]
    }
   ],
   "source": [
    "# Average popularity for each language\n",
    "avg_popularity_by_language = df.groupby('original_language')['popularity'].mean()\n",
    "\n",
    "# Find the language with the highest average popularity\n",
    "most_popular_language = avg_popularity_by_language.idxmax()\n",
    "\n",
    "# Display the most popular language and its average popularity\n",
    "print(\"Most Popular Language:\")\n",
    "print(\"Language:\", most_popular_language)\n",
    "print(\"Average Popularity:\", avg_popularity_by_language[most_popular_language])\n"
   ]
  },
  {
   "cell_type": "code",
   "execution_count": 41,
   "metadata": {},
   "outputs": [
    {
     "name": "stdout",
     "output_type": "stream",
     "text": [
      "Top 10 Languages by Average Popularity:\n",
      "original_language\n",
      "la    75.208871\n",
      "os     3.066500\n",
      "ja     2.562640\n",
      "ko     2.520892\n",
      "th     2.318335\n",
      "en     2.293021\n",
      "cn     2.114773\n",
      "hi     1.983517\n",
      "no     1.979616\n",
      "es     1.869480\n",
      "Name: popularity, dtype: float64\n"
     ]
    }
   ],
   "source": [
    "# Top 10 languages by average popularity\n",
    "top_10_languages = avg_popularity_by_language.nlargest(10)\n",
    "\n",
    "# Display the top 10 languages and their average popularity\n",
    "print(\"Top 10 Languages by Average Popularity:\")\n",
    "print(top_10_languages)\n"
   ]
  },
  {
   "cell_type": "markdown",
   "metadata": {},
   "source": [
    "The  most popular language is Latin(la)"
   ]
  },
  {
   "cell_type": "markdown",
   "metadata": {},
   "source": [
    "## Production companies with average popularity"
   ]
  },
  {
   "cell_type": "code",
   "execution_count": 42,
   "metadata": {},
   "outputs": [
    {
     "name": "stdout",
     "output_type": "stream",
     "text": [
      "Most Popular Production Company:\n",
      "Production Company: SEGA-Original Film-Blur Studios-Marza Animation Planet-Paramount\n",
      "Average Popularity: 6852.303\n"
     ]
    }
   ],
   "source": [
    "# Average popularity for each production company\n",
    "avg_popularity_by_company = df.groupby('production_companies')['popularity'].mean()\n",
    "\n",
    "# Find the production company with the highest average popularity\n",
    "most_popular_company = avg_popularity_by_company.idxmax()\n",
    "\n",
    "# Display the most popular production company and its average popularity\n",
    "print(\"Most Popular Production Company:\")\n",
    "print(\"Production Company:\", most_popular_company)\n",
    "print(\"Average Popularity:\", avg_popularity_by_company[most_popular_company])\n"
   ]
  },
  {
   "cell_type": "markdown",
   "metadata": {},
   "source": [
    "Top 10 production companies"
   ]
  },
  {
   "cell_type": "code",
   "execution_count": 43,
   "metadata": {},
   "outputs": [
    {
     "name": "stdout",
     "output_type": "stream",
     "text": [
      "Top 10 production companies by Average Popularity:\n",
      "production_companies\n",
      "SEGA-Original Film-Blur Studios-Marza Animation Planet-Paramount                                            6852.303\n",
      "Paramount-Fortis Films-3dot Productions-Exhibit A Film                                                      5805.799\n",
      "Columbia Pictures-Atlas Entertainment-PlayStation Productions-Arad Productions                              3581.549\n",
      "New Regency Pictures-Focus Features-Perfect World Pictures-Square Peg                                       3451.658\n",
      "6th & Idaho-Dylan Clark Productions-DC Films-Warner Bros. Pictures                                          3419.546\n",
      "Epica Pictures INC                                                                                          3409.916\n",
      "Marvel Studios-Pascal Pictures-Columbia Pictures                                                            3000.059\n",
      "Thunder Road-30WEST-STX Entertainment-Ingenious Media                                                       2558.025\n",
      "SDB Films-El Hombre Orquesta                                                                                2259.303\n",
      "Centropolis Entertainment-Huayi Tencent Entertainment Company-Street Entertainment-Lionsgate-AGC Studios    2003.107\n",
      "Name: popularity, dtype: float64\n"
     ]
    }
   ],
   "source": [
    "top_10_prod_companies = avg_popularity_by_company.nlargest(10)\n",
    "# Display the top 10 production companies and their average popularity\n",
    "print(\"Top 10 production companies by Average Popularity:\")\n",
    "print(top_10_prod_companies)"
   ]
  },
  {
   "cell_type": "markdown",
   "metadata": {},
   "source": [
    "These are the top 10 production companies with average popularity"
   ]
  },
  {
   "cell_type": "code",
   "execution_count": 44,
   "metadata": {},
   "outputs": [
    {
     "data": {
      "image/png": "[encoded data removed]",
      "text/plain": [
       "<Figure size 1800x600 with 1 Axes>"
      ]
     },
     "metadata": {},
     "output_type": "display_data"
    }
   ],
   "source": [
    "# Get the top 10 movies with highest vote counts\n",
    "top_voted_movies = df.sort_values(by='vote_count', ascending=False).head(10)\n",
    "\n",
    "# Plotting\n",
    "plt.figure(figsize=(18, 6))\n",
    "sns.barplot(x='vote_count', y='title', data=top_voted_movies, palette='viridis')\n",
    "plt.title('Top 10 Movies with Highest Vote Counts')\n",
    "plt.xlabel('Vote Count')\n",
    "plt.ylabel('Movie Title')\n",
    "plt.show()"
   ]
  },
  {
   "cell_type": "markdown",
   "metadata": {},
   "source": [
    "## movie with the highest vote average"
   ]
  },
  {
   "cell_type": "code",
   "execution_count": 45,
   "metadata": {},
   "outputs": [
    {
     "name": "stdout",
     "output_type": "stream",
     "text": [
      "Movie with the Highest Vote Average:\n",
      "Title: Breakfast at Ina's\n",
      "Vote Average: 10.0\n"
     ]
    }
   ],
   "source": [
    "highest_voted_movie = df.sort_values(by='vote_average',ascending=False).iloc[0]\n",
    "# Display information about the movie with the highest vote average\n",
    "print(\"Movie with the Highest Vote Average:\")\n",
    "print(\"Title:\", highest_voted_movie['title'])\n",
    "print(\"Vote Average:\", highest_voted_movie['vote_average'])\n"
   ]
  },
  {
   "cell_type": "markdown",
   "metadata": {},
   "source": [
    "The Movie with the Highest Vote is **Breakfast at Ina's** with the average vote of **10.0**"
   ]
  },
  {
   "cell_type": "code",
   "execution_count": 46,
   "metadata": {},
   "outputs": [
    {
     "data": {
      "text/html": [
       "<div>\n",
       "<style scoped>\n",
       "    .dataframe tbody tr th:only-of-type {\n",
       "        vertical-align: middle;\n",
       "    }\n",
       "\n",
       "    .dataframe tbody tr th {\n",
       "        vertical-align: top;\n",
       "    }\n",
       "\n",
       "    .dataframe thead th {\n",
       "        text-align: right;\n",
       "    }\n",
       "</style>\n",
       "<table border=\"1\" class=\"dataframe\">\n",
       "  <thead>\n",
       "    <tr style=\"text-align: right;\">\n",
       "      <th></th>\n",
       "      <th>id</th>\n",
       "      <th>title</th>\n",
       "      <th>genres</th>\n",
       "      <th>original_language</th>\n",
       "      <th>overview</th>\n",
       "      <th>popularity</th>\n",
       "      <th>production_companies</th>\n",
       "      <th>release_date</th>\n",
       "      <th>budget</th>\n",
       "      <th>revenue</th>\n",
       "      <th>runtime</th>\n",
       "      <th>status</th>\n",
       "      <th>tagline</th>\n",
       "      <th>vote_average</th>\n",
       "      <th>vote_count</th>\n",
       "      <th>credits</th>\n",
       "      <th>keywords</th>\n",
       "      <th>profit</th>\n",
       "      <th>release_year</th>\n",
       "      <th>release_month</th>\n",
       "    </tr>\n",
       "  </thead>\n",
       "  <tbody>\n",
       "    <tr>\n",
       "      <th>0</th>\n",
       "      <td>675353</td>\n",
       "      <td>Sonic the Hedgehog 2</td>\n",
       "      <td>Action-Science Fiction-Comedy-Family-Adventure</td>\n",
       "      <td>en</td>\n",
       "      <td>After settling in Green Hills Sonic is eager t...</td>\n",
       "      <td>6852.303</td>\n",
       "      <td>SEGA-Original Film-Blur Studios-Marza Animatio...</td>\n",
       "      <td>2022-03-30</td>\n",
       "      <td>110000000</td>\n",
       "      <td>355200000</td>\n",
       "      <td>122.0</td>\n",
       "      <td>Released</td>\n",
       "      <td>Welcome to the next level.</td>\n",
       "      <td>7.7</td>\n",
       "      <td>1465</td>\n",
       "      <td>Ben Schwartz-Idris Elba-Colleen O'Shaughnessey...</td>\n",
       "      <td>sequel-based on video game-hedgehog-live actio...</td>\n",
       "      <td>245200000</td>\n",
       "      <td>2022</td>\n",
       "      <td>March</td>\n",
       "    </tr>\n",
       "    <tr>\n",
       "      <th>1</th>\n",
       "      <td>752623</td>\n",
       "      <td>The Lost City</td>\n",
       "      <td>Action-Adventure-Comedy-Romance</td>\n",
       "      <td>en</td>\n",
       "      <td>A reclusive romance novelist who was sure noth...</td>\n",
       "      <td>5805.799</td>\n",
       "      <td>Paramount-Fortis Films-3dot Productions-Exhibi...</td>\n",
       "      <td>2022-03-24</td>\n",
       "      <td>74000000</td>\n",
       "      <td>164289828</td>\n",
       "      <td>112.0</td>\n",
       "      <td>Released</td>\n",
       "      <td>The adventure is real. The heroes are not.</td>\n",
       "      <td>6.7</td>\n",
       "      <td>604</td>\n",
       "      <td>Sandra Bullock-Channing Tatum-Daniel Radcliffe...</td>\n",
       "      <td>duringcreditsstinger</td>\n",
       "      <td>90289828</td>\n",
       "      <td>2022</td>\n",
       "      <td>March</td>\n",
       "    </tr>\n",
       "  </tbody>\n",
       "</table>\n",
       "</div>"
      ],
      "text/plain": [
       "       id                 title  \\\n",
       "0  675353  Sonic the Hedgehog 2   \n",
       "1  752623         The Lost City   \n",
       "\n",
       "                                           genres original_language  \\\n",
       "0  Action-Science Fiction-Comedy-Family-Adventure                en   \n",
       "1                 Action-Adventure-Comedy-Romance                en   \n",
       "\n",
       "                                            overview  popularity  \\\n",
       "0  After settling in Green Hills Sonic is eager t...    6852.303   \n",
       "1  A reclusive romance novelist who was sure noth...    5805.799   \n",
       "\n",
       "                                production_companies release_date     budget  \\\n",
       "0  SEGA-Original Film-Blur Studios-Marza Animatio...   2022-03-30  110000000   \n",
       "1  Paramount-Fortis Films-3dot Productions-Exhibi...   2022-03-24   74000000   \n",
       "\n",
       "     revenue  runtime    status                                     tagline  \\\n",
       "0  355200000    122.0  Released                  Welcome to the next level.   \n",
       "1  164289828    112.0  Released  The adventure is real. The heroes are not.   \n",
       "\n",
       "   vote_average  vote_count  \\\n",
       "0           7.7        1465   \n",
       "1           6.7         604   \n",
       "\n",
       "                                             credits  \\\n",
       "0  Ben Schwartz-Idris Elba-Colleen O'Shaughnessey...   \n",
       "1  Sandra Bullock-Channing Tatum-Daniel Radcliffe...   \n",
       "\n",
       "                                            keywords     profit  release_year  \\\n",
       "0  sequel-based on video game-hedgehog-live actio...  245200000          2022   \n",
       "1                               duringcreditsstinger   90289828          2022   \n",
       "\n",
       "  release_month  \n",
       "0         March  \n",
       "1         March  "
      ]
     },
     "execution_count": 46,
     "metadata": {},
     "output_type": "execute_result"
    }
   ],
   "source": [
    "df.head(2)"
   ]
  },
  {
   "cell_type": "markdown",
   "metadata": {},
   "source": [
    "Top  3 movies based on high profit, popularity, and votes"
   ]
  },
  {
   "cell_type": "code",
   "execution_count": 47,
   "metadata": {},
   "outputs": [
    {
     "name": "stdout",
     "output_type": "stream",
     "text": [
      "Top 3 Movies with High Profit:\n",
      "                 title      profit  popularity  vote_count\n",
      "46              Avatar  2610246203     669.168       25397\n",
      "162  Avengers: Endgame  2441800564     268.639       21018\n",
      "297            Titanic  1987463944     195.608       20986\n",
      "\n",
      "Top 3 Movies with High Popularity:\n",
      "                  title     profit  popularity  vote_count\n",
      "0  Sonic the Hedgehog 2  245200000    6852.303        1465\n",
      "1         The Lost City   90289828    5805.799         604\n",
      "2             Uncharted  275124202    3581.549        1981\n",
      "\n",
      "Top 3 Movies with High Votes:\n",
      "               title     profit  popularity  vote_count\n",
      "690        Inception  665532764     109.090       31506\n",
      "784     Interstellar  536729206     100.173       28455\n",
      "999  The Dark Knight  819558444      85.538       27544\n"
     ]
    }
   ],
   "source": [
    "# Sorting the DataFrame by profit, popularity, and votes in descending order\n",
    "df_sorted_profit = df.sort_values(by='profit', ascending=False).head(3)\n",
    "df_sorted_popularity = df.sort_values(by='popularity', ascending=False).head(3)\n",
    "df_sorted_votes = df.sort_values(by='vote_count', ascending=False).head(3)\n",
    "\n",
    "# Displaying the top 3 movies for each category\n",
    "print(\"Top 3 Movies with High Profit:\")\n",
    "print(df_sorted_profit[['title', 'profit', 'popularity', 'vote_count']])\n",
    "\n",
    "print(\"\\nTop 3 Movies with High Popularity:\")\n",
    "print(df_sorted_popularity[['title', 'profit', 'popularity', 'vote_count']])\n",
    "\n",
    "print(\"\\nTop 3 Movies with High Votes:\")\n",
    "print(df_sorted_votes[['title', 'profit', 'popularity', 'vote_count']])\n"
   ]
  },
  {
   "cell_type": "code",
   "execution_count": 48,
   "metadata": {},
   "outputs": [
    {
     "name": "stdout",
     "output_type": "stream",
     "text": [
      "Movies with Composite Scores - Profit:\n",
      "                 title  composite_score\n",
      "46              Avatar     1.044106e+09\n",
      "162  Avengers: Endgame     9.767266e+08\n",
      "297            Titanic     7.949919e+08\n",
      "\n",
      "Movies with Composite Scores - Popularity:\n",
      "                  title  composite_score\n",
      "2             Uncharted     1.100513e+08\n",
      "0  Sonic the Hedgehog 2     9.808250e+07\n",
      "1         The Lost City     3.611785e+07\n",
      "\n",
      "Movies with Composite Scores - Votes:\n",
      "               title  composite_score\n",
      "999  The Dark Knight     3.278317e+08\n",
      "690        Inception     2.662226e+08\n",
      "784     Interstellar     2.147002e+08\n"
     ]
    }
   ],
   "source": [
    "# Assigning weights to each category\n",
    "weight_profit = 0.4\n",
    "weight_popularity = 0.3\n",
    "weight_votes = 0.3\n",
    "\n",
    "# Creating a composite score for each movie\n",
    "df_sorted_profit['composite_score'] = (\n",
    "    weight_profit * df_sorted_profit['profit'] +\n",
    "    weight_popularity * df_sorted_profit['popularity'] +\n",
    "    weight_votes * df_sorted_profit['vote_count']\n",
    ")\n",
    "\n",
    "df_sorted_popularity['composite_score'] = (\n",
    "    weight_profit * df_sorted_popularity['profit'] +\n",
    "    weight_popularity * df_sorted_popularity['popularity'] +\n",
    "    weight_votes * df_sorted_popularity['vote_count']\n",
    ")\n",
    "\n",
    "df_sorted_votes['composite_score'] = (\n",
    "    weight_profit * df_sorted_votes['profit'] +\n",
    "    weight_popularity * df_sorted_votes['popularity'] +\n",
    "    weight_votes * df_sorted_votes['vote_count']\n",
    ")\n",
    "\n",
    "# Displaying the movies with their composite scores\n",
    "print(\"Movies with Composite Scores - Profit:\")\n",
    "print(df_sorted_profit[['title', 'composite_score']].sort_values(by='composite_score', ascending=False))\n",
    "\n",
    "print(\"\\nMovies with Composite Scores - Popularity:\")\n",
    "print(df_sorted_popularity[['title', 'composite_score']].sort_values(by='composite_score', ascending=False))\n",
    "\n",
    "print(\"\\nMovies with Composite Scores - Votes:\")\n",
    "print(df_sorted_votes[['title', 'composite_score']].sort_values(by='composite_score', ascending=False))\n"
   ]
  },
  {
   "cell_type": "markdown",
   "metadata": {},
   "source": [
    "### Top Movie by Profit:\n",
    "\n",
    "**Avatar** - Composite Score: 1.04 billion\n",
    "### Top Movie by Popularity:\n",
    "\n",
    "**Uncharted** - Composite Score: 110 million\n",
    "### Top Movie by Votes:\n",
    "\n",
    "**The Dark Knight** - Composite Score: 327 million\n",
    "\n",
    "\n",
    "Based on these, we will consider Avatar and Uncharted as the two best movies of all time."
   ]
  },
  {
   "cell_type": "markdown",
   "metadata": {},
   "source": [
    "## Total movies released in each year from 1990 to 2023"
   ]
  },
  {
   "cell_type": "code",
   "execution_count": 52,
   "metadata": {},
   "outputs": [
    {
     "data": {
      "application/vnd.plotly.v1+json": {
       "config": {
        "plotlyServerURL": "https://plot.ly"
       },
       "data": [
        {
         "alignmentgroup": "True",
         "hovertemplate": "Year=%{x}<br>Number of Movies=%{y}<br>color=%{marker.color}<extra></extra>",
         "legendgroup": "",
         "marker": {
          "color": [
           1990,
           1991,
           1992,
           1993,
           1994,
           1995,
           1996,
           1997,
           1998,
           1999,
           2000,
           2001,
           2002,
           2003,
           2004,
           2005,
           2006,
           2007,
           2008,
           2009,
           2010,
           2011,
           2012,
           2013,
           2014,
           2015,
           2016,
           2017,
           2018,
           2019,
           2020,
           2021,
           2022,
           2023
          ],
          "coloraxis": "coloraxis",
          "pattern": {
           "shape": ""
          }
         },
         "name": "",
         "offsetgroup": "",
         "orientation": "v",
         "showlegend": false,
         "textposition": "auto",
         "type": "bar",
         "x": [
          1990,
          1991,
          1992,
          1993,
          1994,
          1995,
          1996,
          1997,
          1998,
          1999,
          2000,
          2001,
          2002,
          2003,
          2004,
          2005,
          2006,
          2007,
          2008,
          2009,
          2010,
          2011,
          2012,
          2013,
          2014,
          2015,
          2016,
          2017,
          2018,
          2019,
          2020,
          2021,
          2022,
          2023
         ],
         "xaxis": "x",
         "y": [
          5514,
          5559,
          5407,
          5420,
          5453,
          5633,
          5672,
          5901,
          6085,
          6321,
          6786,
          7260,
          7901,
          9067,
          9859,
          10908,
          11743,
          11995,
          12238,
          12977,
          13824,
          15112,
          18407,
          22859,
          25202,
          27796,
          29286,
          33538,
          37645,
          41983,
          40638,
          36494,
          12032,
          268
         ],
         "yaxis": "y"
        }
       ],
       "layout": {
        "barmode": "relative",
        "coloraxis": {
         "colorbar": {
          "title": {
           "text": "color"
          }
         },
         "colorscale": [
          [
           0,
           "#440154"
          ],
          [
           0.1111111111111111,
           "#482878"
          ],
          [
           0.2222222222222222,
           "#3e4989"
          ],
          [
           0.3333333333333333,
           "#31688e"
          ],
          [
           0.4444444444444444,
           "#26828e"
          ],
          [
           0.5555555555555556,
           "#1f9e89"
          ],
          [
           0.6666666666666666,
           "#35b779"
          ],
          [
           0.7777777777777778,
           "#6ece58"
          ],
          [
           0.8888888888888888,
           "#b5de2b"
          ],
          [
           1,
           "#fde725"
          ]
         ]
        },
        "legend": {
         "tracegroupgap": 0
        },
        "template": {
         "data": {
          "bar": [
           {
            "error_x": {
             "color": "#2a3f5f"
            },
            "error_y": {
             "color": "#2a3f5f"
            },
            "marker": {
             "line": {
              "color": "#E5ECF6",
              "width": 0.5
             },
             "pattern": {
              "fillmode": "overlay",
              "size": 10,
              "solidity": 0.2
             }
            },
            "type": "bar"
           }
          ],
          "barpolar": [
           {
            "marker": {
             "line": {
              "color": "#E5ECF6",
              "width": 0.5
             },
             "pattern": {
              "fillmode": "overlay",
              "size": 10,
              "solidity": 0.2
             }
            },
            "type": "barpolar"
           }
          ],
          "carpet": [
           {
            "aaxis": {
             "endlinecolor": "#2a3f5f",
             "gridcolor": "white",
             "linecolor": "white",
             "minorgridcolor": "white",
             "startlinecolor": "#2a3f5f"
            },
            "baxis": {
             "endlinecolor": "#2a3f5f",
             "gridcolor": "white",
             "linecolor": "white",
             "minorgridcolor": "white",
             "startlinecolor": "#2a3f5f"
            },
            "type": "carpet"
           }
          ],
          "choropleth": [
           {
            "colorbar": {
             "outlinewidth": 0,
             "ticks": ""
            },
            "type": "choropleth"
           }
          ],
          "contour": [
           {
            "colorbar": {
             "outlinewidth": 0,
             "ticks": ""
            },
            "colorscale": [
             [
              0,
              "#0d0887"
             ],
             [
              0.1111111111111111,
              "#46039f"
             ],
             [
              0.2222222222222222,
              "#7201a8"
             ],
             [
              0.3333333333333333,
              "#9c179e"
             ],
             [
              0.4444444444444444,
              "#bd3786"
             ],
             [
              0.5555555555555556,
              "#d8576b"
             ],
             [
              0.6666666666666666,
              "#ed7953"
             ],
             [
              0.7777777777777778,
              "#fb9f3a"
             ],
             [
              0.8888888888888888,
              "#fdca26"
             ],
             [
              1,
              "#f0f921"
             ]
            ],
            "type": "contour"
           }
          ],
          "contourcarpet": [
           {
            "colorbar": {
             "outlinewidth": 0,
             "ticks": ""
            },
            "type": "contourcarpet"
           }
          ],
          "heatmap": [
           {
            "colorbar": {
             "outlinewidth": 0,
             "ticks": ""
            },
            "colorscale": [
             [
              0,
              "#0d0887"
             ],
             [
              0.1111111111111111,
              "#46039f"
             ],
             [
              0.2222222222222222,
              "#7201a8"
             ],
             [
              0.3333333333333333,
              "#9c179e"
             ],
             [
              0.4444444444444444,
              "#bd3786"
             ],
             [
              0.5555555555555556,
              "#d8576b"
             ],
             [
              0.6666666666666666,
              "#ed7953"
             ],
             [
              0.7777777777777778,
              "#fb9f3a"
             ],
             [
              0.8888888888888888,
              "#fdca26"
             ],
             [
              1,
              "#f0f921"
             ]
            ],
            "type": "heatmap"
           }
          ],
          "heatmapgl": [
           {
            "colorbar": {
             "outlinewidth": 0,
             "ticks": ""
            },
            "colorscale": [
             [
              0,
              "#0d0887"
             ],
             [
              0.1111111111111111,
              "#46039f"
             ],
             [
              0.2222222222222222,
              "#7201a8"
             ],
             [
              0.3333333333333333,
              "#9c179e"
             ],
             [
              0.4444444444444444,
              "#bd3786"
             ],
             [
              0.5555555555555556,
              "#d8576b"
             ],
             [
              0.6666666666666666,
              "#ed7953"
             ],
             [
              0.7777777777777778,
              "#fb9f3a"
             ],
             [
              0.8888888888888888,
              "#fdca26"
             ],
             [
              1,
              "#f0f921"
             ]
            ],
            "type": "heatmapgl"
           }
          ],
          "histogram": [
           {
            "marker": {
             "pattern": {
              "fillmode": "overlay",
              "size": 10,
              "solidity": 0.2
             }
            },
            "type": "histogram"
           }
          ],
          "histogram2d": [
           {
            "colorbar": {
             "outlinewidth": 0,
             "ticks": ""
            },
            "colorscale": [
             [
              0,
              "#0d0887"
             ],
             [
              0.1111111111111111,
              "#46039f"
             ],
             [
              0.2222222222222222,
              "#7201a8"
             ],
             [
              0.3333333333333333,
              "#9c179e"
             ],
             [
              0.4444444444444444,
              "#bd3786"
             ],
             [
              0.5555555555555556,
              "#d8576b"
             ],
             [
              0.6666666666666666,
              "#ed7953"
             ],
             [
              0.7777777777777778,
              "#fb9f3a"
             ],
             [
              0.8888888888888888,
              "#fdca26"
             ],
             [
              1,
              "#f0f921"
             ]
            ],
            "type": "histogram2d"
           }
          ],
          "histogram2dcontour": [
           {
            "colorbar": {
             "outlinewidth": 0,
             "ticks": ""
            },
            "colorscale": [
             [
              0,
              "#0d0887"
             ],
             [
              0.1111111111111111,
              "#46039f"
             ],
             [
              0.2222222222222222,
              "#7201a8"
             ],
             [
              0.3333333333333333,
              "#9c179e"
             ],
             [
              0.4444444444444444,
              "#bd3786"
             ],
             [
              0.5555555555555556,
              "#d8576b"
             ],
             [
              0.6666666666666666,
              "#ed7953"
             ],
             [
              0.7777777777777778,
              "#fb9f3a"
             ],
             [
              0.8888888888888888,
              "#fdca26"
             ],
             [
              1,
              "#f0f921"
             ]
            ],
            "type": "histogram2dcontour"
           }
          ],
          "mesh3d": [
           {
            "colorbar": {
             "outlinewidth": 0,
             "ticks": ""
            },
            "type": "mesh3d"
           }
          ],
          "parcoords": [
           {
            "line": {
             "colorbar": {
              "outlinewidth": 0,
              "ticks": ""
             }
            },
            "type": "parcoords"
           }
          ],
          "pie": [
           {
            "automargin": true,
            "type": "pie"
           }
          ],
          "scatter": [
           {
            "fillpattern": {
             "fillmode": "overlay",
             "size": 10,
             "solidity": 0.2
            },
            "type": "scatter"
           }
          ],
          "scatter3d": [
           {
            "line": {
             "colorbar": {
              "outlinewidth": 0,
              "ticks": ""
             }
            },
            "marker": {
             "colorbar": {
              "outlinewidth": 0,
              "ticks": ""
             }
            },
            "type": "scatter3d"
           }
          ],
          "scattercarpet": [
           {
            "marker": {
             "colorbar": {
              "outlinewidth": 0,
              "ticks": ""
             }
            },
            "type": "scattercarpet"
           }
          ],
          "scattergeo": [
           {
            "marker": {
             "colorbar": {
              "outlinewidth": 0,
              "ticks": ""
             }
            },
            "type": "scattergeo"
           }
          ],
          "scattergl": [
           {
            "marker": {
             "colorbar": {
              "outlinewidth": 0,
              "ticks": ""
             }
            },
            "type": "scattergl"
           }
          ],
          "scattermapbox": [
           {
            "marker": {
             "colorbar": {
              "outlinewidth": 0,
              "ticks": ""
             }
            },
            "type": "scattermapbox"
           }
          ],
          "scatterpolar": [
           {
            "marker": {
             "colorbar": {
              "outlinewidth": 0,
              "ticks": ""
             }
            },
            "type": "scatterpolar"
           }
          ],
          "scatterpolargl": [
           {
            "marker": {
             "colorbar": {
              "outlinewidth": 0,
              "ticks": ""
             }
            },
            "type": "scatterpolargl"
           }
          ],
          "scatterternary": [
           {
            "marker": {
             "colorbar": {
              "outlinewidth": 0,
              "ticks": ""
             }
            },
            "type": "scatterternary"
           }
          ],
          "surface": [
           {
            "colorbar": {
             "outlinewidth": 0,
             "ticks": ""
            },
            "colorscale": [
             [
              0,
              "#0d0887"
             ],
             [
              0.1111111111111111,
              "#46039f"
             ],
             [
              0.2222222222222222,
              "#7201a8"
             ],
             [
              0.3333333333333333,
              "#9c179e"
             ],
             [
              0.4444444444444444,
              "#bd3786"
             ],
             [
              0.5555555555555556,
              "#d8576b"
             ],
             [
              0.6666666666666666,
              "#ed7953"
             ],
             [
              0.7777777777777778,
              "#fb9f3a"
             ],
             [
              0.8888888888888888,
              "#fdca26"
             ],
             [
              1,
              "#f0f921"
             ]
            ],
            "type": "surface"
           }
          ],
          "table": [
           {
            "cells": {
             "fill": {
              "color": "#EBF0F8"
             },
             "line": {
              "color": "white"
             }
            },
            "header": {
             "fill": {
              "color": "#C8D4E3"
             },
             "line": {
              "color": "white"
             }
            },
            "type": "table"
           }
          ]
         },
         "layout": {
          "annotationdefaults": {
           "arrowcolor": "#2a3f5f",
           "arrowhead": 0,
           "arrowwidth": 1
          },
          "autotypenumbers": "strict",
          "coloraxis": {
           "colorbar": {
            "outlinewidth": 0,
            "ticks": ""
           }
          },
          "colorscale": {
           "diverging": [
            [
             0,
             "#8e0152"
            ],
            [
             0.1,
             "#c51b7d"
            ],
            [
             0.2,
             "#de77ae"
            ],
            [
             0.3,
             "#f1b6da"
            ],
            [
             0.4,
             "#fde0ef"
            ],
            [
             0.5,
             "#f7f7f7"
            ],
            [
             0.6,
             "#e6f5d0"
            ],
            [
             0.7,
             "#b8e186"
            ],
            [
             0.8,
             "#7fbc41"
            ],
            [
             0.9,
             "#4d9221"
            ],
            [
             1,
             "#276419"
            ]
           ],
           "sequential": [
            [
             0,
             "#0d0887"
            ],
            [
             0.1111111111111111,
             "#46039f"
            ],
            [
             0.2222222222222222,
             "#7201a8"
            ],
            [
             0.3333333333333333,
             "#9c179e"
            ],
            [
             0.4444444444444444,
             "#bd3786"
            ],
            [
             0.5555555555555556,
             "#d8576b"
            ],
            [
             0.6666666666666666,
             "#ed7953"
            ],
            [
             0.7777777777777778,
             "#fb9f3a"
            ],
            [
             0.8888888888888888,
             "#fdca26"
            ],
            [
             1,
             "#f0f921"
            ]
           ],
           "sequentialminus": [
            [
             0,
             "#0d0887"
            ],
            [
             0.1111111111111111,
             "#46039f"
            ],
            [
             0.2222222222222222,
             "#7201a8"
            ],
            [
             0.3333333333333333,
             "#9c179e"
            ],
            [
             0.4444444444444444,
             "#bd3786"
            ],
            [
             0.5555555555555556,
             "#d8576b"
            ],
            [
             0.6666666666666666,
             "#ed7953"
            ],
            [
             0.7777777777777778,
             "#fb9f3a"
            ],
            [
             0.8888888888888888,
             "#fdca26"
            ],
            [
             1,
             "#f0f921"
            ]
           ]
          },
          "colorway": [
           "#636efa",
           "#EF553B",
           "#00cc96",
           "#ab63fa",
           "#FFA15A",
           "#19d3f3",
           "#FF6692",
           "#B6E880",
           "#FF97FF",
           "#FECB52"
          ],
          "font": {
           "color": "#2a3f5f"
          },
          "geo": {
           "bgcolor": "white",
           "lakecolor": "white",
           "landcolor": "#E5ECF6",
           "showlakes": true,
           "showland": true,
           "subunitcolor": "white"
          },
          "hoverlabel": {
           "align": "left"
          },
          "hovermode": "closest",
          "mapbox": {
           "style": "light"
          },
          "paper_bgcolor": "white",
          "plot_bgcolor": "#E5ECF6",
          "polar": {
           "angularaxis": {
            "gridcolor": "white",
            "linecolor": "white",
            "ticks": ""
           },
           "bgcolor": "#E5ECF6",
           "radialaxis": {
            "gridcolor": "white",
            "linecolor": "white",
            "ticks": ""
           }
          },
          "scene": {
           "xaxis": {
            "backgroundcolor": "#E5ECF6",
            "gridcolor": "white",
            "gridwidth": 2,
            "linecolor": "white",
            "showbackground": true,
            "ticks": "",
            "zerolinecolor": "white"
           },
           "yaxis": {
            "backgroundcolor": "#E5ECF6",
            "gridcolor": "white",
            "gridwidth": 2,
            "linecolor": "white",
            "showbackground": true,
            "ticks": "",
            "zerolinecolor": "white"
           },
           "zaxis": {
            "backgroundcolor": "#E5ECF6",
            "gridcolor": "white",
            "gridwidth": 2,
            "linecolor": "white",
            "showbackground": true,
            "ticks": "",
            "zerolinecolor": "white"
           }
          },
          "shapedefaults": {
           "line": {
            "color": "#2a3f5f"
           }
          },
          "ternary": {
           "aaxis": {
            "gridcolor": "white",
            "linecolor": "white",
            "ticks": ""
           },
           "baxis": {
            "gridcolor": "white",
            "linecolor": "white",
            "ticks": ""
           },
           "bgcolor": "#E5ECF6",
           "caxis": {
            "gridcolor": "white",
            "linecolor": "white",
            "ticks": ""
           }
          },
          "title": {
           "x": 0.05
          },
          "xaxis": {
           "automargin": true,
           "gridcolor": "white",
           "linecolor": "white",
           "ticks": "",
           "title": {
            "standoff": 15
           },
           "zerolinecolor": "white",
           "zerolinewidth": 2
          },
          "yaxis": {
           "automargin": true,
           "gridcolor": "white",
           "linecolor": "white",
           "ticks": "",
           "title": {
            "standoff": 15
           },
           "zerolinecolor": "white",
           "zerolinewidth": 2
          }
         }
        },
        "title": {
         "text": "Number of Movies Released Each Year (1990-2023)"
        },
        "xaxis": {
         "anchor": "y",
         "domain": [
          0,
          1
         ],
         "title": {
          "text": "Year"
         }
        },
        "yaxis": {
         "anchor": "x",
         "domain": [
          0,
          1
         ],
         "title": {
          "text": "Number of Movies"
         }
        }
       }
      }
     },
     "metadata": {},
     "output_type": "display_data"
    }
   ],
   "source": [
    "import plotly.express as px\n",
    "\n",
    "\n",
    "# Filter movies released from 1990 to 2023\n",
    "filtered_df = df[(df['release_year'] >= 1990) & (df['release_year'] <= 2023)]\n",
    "\n",
    "# Count the number of movies released in each year\n",
    "movies_per_year = filtered_df['release_year'].value_counts().sort_index()\n",
    "\n",
    "# Create a Plotly bar plot\n",
    "fig = px.bar(x=movies_per_year.index, y=movies_per_year.values,\n",
    "             labels={'x': 'Year', 'y': 'Number of Movies'},\n",
    "             title='Number of Movies Released Each Year (1990-2023)',\n",
    "             color=movies_per_year.index,\n",
    "             color_continuous_scale='viridis')\n",
    "\n",
    "# Show the plot\n",
    "fig.show()"
   ]
  },
  {
   "cell_type": "markdown",
   "metadata": {},
   "source": [
    "We can see from 2015 - 2019 the movie releasing has been increased and from 2020 it has decreased."
   ]
  },
  {
   "cell_type": "markdown",
   "metadata": {},
   "source": [
    "## top 10 movies with highest revenue"
   ]
  },
  {
   "cell_type": "code",
   "execution_count": 58,
   "metadata": {},
   "outputs": [
    {
     "data": {
      "application/vnd.plotly.v1+json": {
       "config": {
        "plotlyServerURL": "https://plot.ly"
       },
       "data": [
        {
         "alignmentgroup": "True",
         "hovertemplate": "Revenue (in billions)=%{marker.color}<br>Movie Title=%{y}<extra></extra>",
         "legendgroup": "",
         "marker": {
          "color": [
           2847246203,
           2797800564,
           2187463944,
           2068223624,
           2046239637,
           1892000000,
           1671713208,
           1667635327,
           1518815515,
           1515047671
          ],
          "coloraxis": "coloraxis",
          "pattern": {
           "shape": ""
          }
         },
         "name": "",
         "offsetgroup": "",
         "orientation": "h",
         "showlegend": false,
         "textposition": "auto",
         "type": "bar",
         "x": [
          2847246203,
          2797800564,
          2187463944,
          2068223624,
          2046239637,
          1892000000,
          1671713208,
          1667635327,
          1518815515,
          1515047671
         ],
         "xaxis": "x",
         "y": [
          "Avatar",
          "Avengers: Endgame",
          "Titanic",
          "Star Wars: The Force Awakens",
          "Avengers: Infinity War",
          "Spider-Man: No Way Home",
          "Jurassic World",
          "The Lion King",
          "The Avengers",
          "Furious 7"
         ],
         "yaxis": "y"
        }
       ],
       "layout": {
        "barmode": "relative",
        "coloraxis": {
         "colorbar": {
          "title": {
           "text": "Revenue (in billions)"
          }
         },
         "colorscale": [
          [
           0,
           "#440154"
          ],
          [
           0.1111111111111111,
           "#482878"
          ],
          [
           0.2222222222222222,
           "#3e4989"
          ],
          [
           0.3333333333333333,
           "#31688e"
          ],
          [
           0.4444444444444444,
           "#26828e"
          ],
          [
           0.5555555555555556,
           "#1f9e89"
          ],
          [
           0.6666666666666666,
           "#35b779"
          ],
          [
           0.7777777777777778,
           "#6ece58"
          ],
          [
           0.8888888888888888,
           "#b5de2b"
          ],
          [
           1,
           "#fde725"
          ]
         ]
        },
        "legend": {
         "tracegroupgap": 0
        },
        "template": {
         "data": {
          "bar": [
           {
            "error_x": {
             "color": "#2a3f5f"
            },
            "error_y": {
             "color": "#2a3f5f"
            },
            "marker": {
             "line": {
              "color": "#E5ECF6",
              "width": 0.5
             },
             "pattern": {
              "fillmode": "overlay",
              "size": 10,
              "solidity": 0.2
             }
            },
            "type": "bar"
           }
          ],
          "barpolar": [
           {
            "marker": {
             "line": {
              "color": "#E5ECF6",
              "width": 0.5
             },
             "pattern": {
              "fillmode": "overlay",
              "size": 10,
              "solidity": 0.2
             }
            },
            "type": "barpolar"
           }
          ],
          "carpet": [
           {
            "aaxis": {
             "endlinecolor": "#2a3f5f",
             "gridcolor": "white",
             "linecolor": "white",
             "minorgridcolor": "white",
             "startlinecolor": "#2a3f5f"
            },
            "baxis": {
             "endlinecolor": "#2a3f5f",
             "gridcolor": "white",
             "linecolor": "white",
             "minorgridcolor": "white",
             "startlinecolor": "#2a3f5f"
            },
            "type": "carpet"
           }
          ],
          "choropleth": [
           {
            "colorbar": {
             "outlinewidth": 0,
             "ticks": ""
            },
            "type": "choropleth"
           }
          ],
          "contour": [
           {
            "colorbar": {
             "outlinewidth": 0,
             "ticks": ""
            },
            "colorscale": [
             [
              0,
              "#0d0887"
             ],
             [
              0.1111111111111111,
              "#46039f"
             ],
             [
              0.2222222222222222,
              "#7201a8"
             ],
             [
              0.3333333333333333,
              "#9c179e"
             ],
             [
              0.4444444444444444,
              "#bd3786"
             ],
             [
              0.5555555555555556,
              "#d8576b"
             ],
             [
              0.6666666666666666,
              "#ed7953"
             ],
             [
              0.7777777777777778,
              "#fb9f3a"
             ],
             [
              0.8888888888888888,
              "#fdca26"
             ],
             [
              1,
              "#f0f921"
             ]
            ],
            "type": "contour"
           }
          ],
          "contourcarpet": [
           {
            "colorbar": {
             "outlinewidth": 0,
             "ticks": ""
            },
            "type": "contourcarpet"
           }
          ],
          "heatmap": [
           {
            "colorbar": {
             "outlinewidth": 0,
             "ticks": ""
            },
            "colorscale": [
             [
              0,
              "#0d0887"
             ],
             [
              0.1111111111111111,
              "#46039f"
             ],
             [
              0.2222222222222222,
              "#7201a8"
             ],
             [
              0.3333333333333333,
              "#9c179e"
             ],
             [
              0.4444444444444444,
              "#bd3786"
             ],
             [
              0.5555555555555556,
              "#d8576b"
             ],
             [
              0.6666666666666666,
              "#ed7953"
             ],
             [
              0.7777777777777778,
              "#fb9f3a"
             ],
             [
              0.8888888888888888,
              "#fdca26"
             ],
             [
              1,
              "#f0f921"
             ]
            ],
            "type": "heatmap"
           }
          ],
          "heatmapgl": [
           {
            "colorbar": {
             "outlinewidth": 0,
             "ticks": ""
            },
            "colorscale": [
             [
              0,
              "#0d0887"
             ],
             [
              0.1111111111111111,
              "#46039f"
             ],
             [
              0.2222222222222222,
              "#7201a8"
             ],
             [
              0.3333333333333333,
              "#9c179e"
             ],
             [
              0.4444444444444444,
              "#bd3786"
             ],
             [
              0.5555555555555556,
              "#d8576b"
             ],
             [
              0.6666666666666666,
              "#ed7953"
             ],
             [
              0.7777777777777778,
              "#fb9f3a"
             ],
             [
              0.8888888888888888,
              "#fdca26"
             ],
             [
              1,
              "#f0f921"
             ]
            ],
            "type": "heatmapgl"
           }
          ],
          "histogram": [
           {
            "marker": {
             "pattern": {
              "fillmode": "overlay",
              "size": 10,
              "solidity": 0.2
             }
            },
            "type": "histogram"
           }
          ],
          "histogram2d": [
           {
            "colorbar": {
             "outlinewidth": 0,
             "ticks": ""
            },
            "colorscale": [
             [
              0,
              "#0d0887"
             ],
             [
              0.1111111111111111,
              "#46039f"
             ],
             [
              0.2222222222222222,
              "#7201a8"
             ],
             [
              0.3333333333333333,
              "#9c179e"
             ],
             [
              0.4444444444444444,
              "#bd3786"
             ],
             [
              0.5555555555555556,
              "#d8576b"
             ],
             [
              0.6666666666666666,
              "#ed7953"
             ],
             [
              0.7777777777777778,
              "#fb9f3a"
             ],
             [
              0.8888888888888888,
              "#fdca26"
             ],
             [
              1,
              "#f0f921"
             ]
            ],
            "type": "histogram2d"
           }
          ],
          "histogram2dcontour": [
           {
            "colorbar": {
             "outlinewidth": 0,
             "ticks": ""
            },
            "colorscale": [
             [
              0,
              "#0d0887"
             ],
             [
              0.1111111111111111,
              "#46039f"
             ],
             [
              0.2222222222222222,
              "#7201a8"
             ],
             [
              0.3333333333333333,
              "#9c179e"
             ],
             [
              0.4444444444444444,
              "#bd3786"
             ],
             [
              0.5555555555555556,
              "#d8576b"
             ],
             [
              0.6666666666666666,
              "#ed7953"
             ],
             [
              0.7777777777777778,
              "#fb9f3a"
             ],
             [
              0.8888888888888888,
              "#fdca26"
             ],
             [
              1,
              "#f0f921"
             ]
            ],
            "type": "histogram2dcontour"
           }
          ],
          "mesh3d": [
           {
            "colorbar": {
             "outlinewidth": 0,
             "ticks": ""
            },
            "type": "mesh3d"
           }
          ],
          "parcoords": [
           {
            "line": {
             "colorbar": {
              "outlinewidth": 0,
              "ticks": ""
             }
            },
            "type": "parcoords"
           }
          ],
          "pie": [
           {
            "automargin": true,
            "type": "pie"
           }
          ],
          "scatter": [
           {
            "fillpattern": {
             "fillmode": "overlay",
             "size": 10,
             "solidity": 0.2
            },
            "type": "scatter"
           }
          ],
          "scatter3d": [
           {
            "line": {
             "colorbar": {
              "outlinewidth": 0,
              "ticks": ""
             }
            },
            "marker": {
             "colorbar": {
              "outlinewidth": 0,
              "ticks": ""
             }
            },
            "type": "scatter3d"
           }
          ],
          "scattercarpet": [
           {
            "marker": {
             "colorbar": {
              "outlinewidth": 0,
              "ticks": ""
             }
            },
            "type": "scattercarpet"
           }
          ],
          "scattergeo": [
           {
            "marker": {
             "colorbar": {
              "outlinewidth": 0,
              "ticks": ""
             }
            },
            "type": "scattergeo"
           }
          ],
          "scattergl": [
           {
            "marker": {
             "colorbar": {
              "outlinewidth": 0,
              "ticks": ""
             }
            },
            "type": "scattergl"
           }
          ],
          "scattermapbox": [
           {
            "marker": {
             "colorbar": {
              "outlinewidth": 0,
              "ticks": ""
             }
            },
            "type": "scattermapbox"
           }
          ],
          "scatterpolar": [
           {
            "marker": {
             "colorbar": {
              "outlinewidth": 0,
              "ticks": ""
             }
            },
            "type": "scatterpolar"
           }
          ],
          "scatterpolargl": [
           {
            "marker": {
             "colorbar": {
              "outlinewidth": 0,
              "ticks": ""
             }
            },
            "type": "scatterpolargl"
           }
          ],
          "scatterternary": [
           {
            "marker": {
             "colorbar": {
              "outlinewidth": 0,
              "ticks": ""
             }
            },
            "type": "scatterternary"
           }
          ],
          "surface": [
           {
            "colorbar": {
             "outlinewidth": 0,
             "ticks": ""
            },
            "colorscale": [
             [
              0,
              "#0d0887"
             ],
             [
              0.1111111111111111,
              "#46039f"
             ],
             [
              0.2222222222222222,
              "#7201a8"
             ],
             [
              0.3333333333333333,
              "#9c179e"
             ],
             [
              0.4444444444444444,
              "#bd3786"
             ],
             [
              0.5555555555555556,
              "#d8576b"
             ],
             [
              0.6666666666666666,
              "#ed7953"
             ],
             [
              0.7777777777777778,
              "#fb9f3a"
             ],
             [
              0.8888888888888888,
              "#fdca26"
             ],
             [
              1,
              "#f0f921"
             ]
            ],
            "type": "surface"
           }
          ],
          "table": [
           {
            "cells": {
             "fill": {
              "color": "#EBF0F8"
             },
             "line": {
              "color": "white"
             }
            },
            "header": {
             "fill": {
              "color": "#C8D4E3"
             },
             "line": {
              "color": "white"
             }
            },
            "type": "table"
           }
          ]
         },
         "layout": {
          "annotationdefaults": {
           "arrowcolor": "#2a3f5f",
           "arrowhead": 0,
           "arrowwidth": 1
          },
          "autotypenumbers": "strict",
          "coloraxis": {
           "colorbar": {
            "outlinewidth": 0,
            "ticks": ""
           }
          },
          "colorscale": {
           "diverging": [
            [
             0,
             "#8e0152"
            ],
            [
             0.1,
             "#c51b7d"
            ],
            [
             0.2,
             "#de77ae"
            ],
            [
             0.3,
             "#f1b6da"
            ],
            [
             0.4,
             "#fde0ef"
            ],
            [
             0.5,
             "#f7f7f7"
            ],
            [
             0.6,
             "#e6f5d0"
            ],
            [
             0.7,
             "#b8e186"
            ],
            [
             0.8,
             "#7fbc41"
            ],
            [
             0.9,
             "#4d9221"
            ],
            [
             1,
             "#276419"
            ]
           ],
           "sequential": [
            [
             0,
             "#0d0887"
            ],
            [
             0.1111111111111111,
             "#46039f"
            ],
            [
             0.2222222222222222,
             "#7201a8"
            ],
            [
             0.3333333333333333,
             "#9c179e"
            ],
            [
             0.4444444444444444,
             "#bd3786"
            ],
            [
             0.5555555555555556,
             "#d8576b"
            ],
            [
             0.6666666666666666,
             "#ed7953"
            ],
            [
             0.7777777777777778,
             "#fb9f3a"
            ],
            [
             0.8888888888888888,
             "#fdca26"
            ],
            [
             1,
             "#f0f921"
            ]
           ],
           "sequentialminus": [
            [
             0,
             "#0d0887"
            ],
            [
             0.1111111111111111,
             "#46039f"
            ],
            [
             0.2222222222222222,
             "#7201a8"
            ],
            [
             0.3333333333333333,
             "#9c179e"
            ],
            [
             0.4444444444444444,
             "#bd3786"
            ],
            [
             0.5555555555555556,
             "#d8576b"
            ],
            [
             0.6666666666666666,
             "#ed7953"
            ],
            [
             0.7777777777777778,
             "#fb9f3a"
            ],
            [
             0.8888888888888888,
             "#fdca26"
            ],
            [
             1,
             "#f0f921"
            ]
           ]
          },
          "colorway": [
           "#636efa",
           "#EF553B",
           "#00cc96",
           "#ab63fa",
           "#FFA15A",
           "#19d3f3",
           "#FF6692",
           "#B6E880",
           "#FF97FF",
           "#FECB52"
          ],
          "font": {
           "color": "#2a3f5f"
          },
          "geo": {
           "bgcolor": "white",
           "lakecolor": "white",
           "landcolor": "#E5ECF6",
           "showlakes": true,
           "showland": true,
           "subunitcolor": "white"
          },
          "hoverlabel": {
           "align": "left"
          },
          "hovermode": "closest",
          "mapbox": {
           "style": "light"
          },
          "paper_bgcolor": "white",
          "plot_bgcolor": "#E5ECF6",
          "polar": {
           "angularaxis": {
            "gridcolor": "white",
            "linecolor": "white",
            "ticks": ""
           },
           "bgcolor": "#E5ECF6",
           "radialaxis": {
            "gridcolor": "white",
            "linecolor": "white",
            "ticks": ""
           }
          },
          "scene": {
           "xaxis": {
            "backgroundcolor": "#E5ECF6",
            "gridcolor": "white",
            "gridwidth": 2,
            "linecolor": "white",
            "showbackground": true,
            "ticks": "",
            "zerolinecolor": "white"
           },
           "yaxis": {
            "backgroundcolor": "#E5ECF6",
            "gridcolor": "white",
            "gridwidth": 2,
            "linecolor": "white",
            "showbackground": true,
            "ticks": "",
            "zerolinecolor": "white"
           },
           "zaxis": {
            "backgroundcolor": "#E5ECF6",
            "gridcolor": "white",
            "gridwidth": 2,
            "linecolor": "white",
            "showbackground": true,
            "ticks": "",
            "zerolinecolor": "white"
           }
          },
          "shapedefaults": {
           "line": {
            "color": "#2a3f5f"
           }
          },
          "ternary": {
           "aaxis": {
            "gridcolor": "white",
            "linecolor": "white",
            "ticks": ""
           },
           "baxis": {
            "gridcolor": "white",
            "linecolor": "white",
            "ticks": ""
           },
           "bgcolor": "#E5ECF6",
           "caxis": {
            "gridcolor": "white",
            "linecolor": "white",
            "ticks": ""
           }
          },
          "title": {
           "x": 0.05
          },
          "xaxis": {
           "automargin": true,
           "gridcolor": "white",
           "linecolor": "white",
           "ticks": "",
           "title": {
            "standoff": 15
           },
           "zerolinecolor": "white",
           "zerolinewidth": 2
          },
          "yaxis": {
           "automargin": true,
           "gridcolor": "white",
           "linecolor": "white",
           "ticks": "",
           "title": {
            "standoff": 15
           },
           "zerolinecolor": "white",
           "zerolinewidth": 2
          }
         }
        },
        "title": {
         "text": "Top 10 Movies with Highest Revenue"
        },
        "xaxis": {
         "anchor": "y",
         "domain": [
          0,
          1
         ],
         "title": {
          "text": "Revenue (in billions)"
         }
        },
        "yaxis": {
         "anchor": "x",
         "domain": [
          0,
          1
         ],
         "title": {
          "text": "Movie Title"
         }
        }
       }
      }
     },
     "metadata": {},
     "output_type": "display_data"
    }
   ],
   "source": [
    "import plotly.express as px\n",
    "\n",
    "# Get the top 10 movies with highest revenue\n",
    "top_revenue_movies = df.sort_values(by='revenue', ascending=False).head(10)\n",
    "\n",
    "# Create a Plotly bar plot\n",
    "fig = px.bar(top_revenue_movies, x='revenue', y='title', orientation='h',\n",
    "             labels={'revenue': 'Revenue (in billions)', 'title': 'Movie Title'},\n",
    "             title='Top 10 Movies with Highest Revenue',\n",
    "             color='revenue',\n",
    "             color_continuous_scale='viridis')\n",
    "\n",
    "# Show the plot\n",
    "fig.show()\n"
   ]
  },
  {
   "cell_type": "markdown",
   "metadata": {},
   "source": [
    "## Top 10 Genres with average votes"
   ]
  },
  {
   "cell_type": "code",
   "execution_count": 61,
   "metadata": {},
   "outputs": [
    {
     "data": {
      "application/vnd.plotly.v1+json": {
       "config": {
        "plotlyServerURL": "https://plot.ly"
       },
       "data": [
        {
         "alignmentgroup": "True",
         "hovertemplate": "Average Vote=%{marker.color}<br>Genre=%{y}<extra></extra>",
         "legendgroup": "",
         "marker": {
          "color": [
           4.329111152520264,
           4.1568666714343605,
           4.1231531159719355,
           4.070906351597811,
           4.065360258095352,
           3.9962619353964923,
           3.959164253206454,
           3.9581321598898667,
           3.953892318613005,
           3.8744122965641954
          ],
          "coloraxis": "coloraxis",
          "pattern": {
           "shape": ""
          }
         },
         "name": "",
         "offsetgroup": "",
         "orientation": "h",
         "showlegend": false,
         "textposition": "auto",
         "type": "bar",
         "x": [
          4.329111152520264,
          4.1568666714343605,
          4.1231531159719355,
          4.070906351597811,
          4.065360258095352,
          3.9962619353964923,
          3.959164253206454,
          3.9581321598898667,
          3.953892318613005,
          3.8744122965641954
         ],
         "xaxis": "x",
         "y": [
          "TV Movie",
          "Thriller",
          "Adventure",
          "Family",
          "Mystery",
          "Crime",
          "War",
          "Action",
          "Romance",
          "History"
         ],
         "yaxis": "y"
        }
       ],
       "layout": {
        "barmode": "relative",
        "coloraxis": {
         "colorbar": {
          "title": {
           "text": "Average Vote"
          }
         },
         "colorscale": [
          [
           0,
           "#440154"
          ],
          [
           0.1111111111111111,
           "#482878"
          ],
          [
           0.2222222222222222,
           "#3e4989"
          ],
          [
           0.3333333333333333,
           "#31688e"
          ],
          [
           0.4444444444444444,
           "#26828e"
          ],
          [
           0.5555555555555556,
           "#1f9e89"
          ],
          [
           0.6666666666666666,
           "#35b779"
          ],
          [
           0.7777777777777778,
           "#6ece58"
          ],
          [
           0.8888888888888888,
           "#b5de2b"
          ],
          [
           1,
           "#fde725"
          ]
         ]
        },
        "legend": {
         "tracegroupgap": 0
        },
        "template": {
         "data": {
          "bar": [
           {
            "error_x": {
             "color": "#2a3f5f"
            },
            "error_y": {
             "color": "#2a3f5f"
            },
            "marker": {
             "line": {
              "color": "#E5ECF6",
              "width": 0.5
             },
             "pattern": {
              "fillmode": "overlay",
              "size": 10,
              "solidity": 0.2
             }
            },
            "type": "bar"
           }
          ],
          "barpolar": [
           {
            "marker": {
             "line": {
              "color": "#E5ECF6",
              "width": 0.5
             },
             "pattern": {
              "fillmode": "overlay",
              "size": 10,
              "solidity": 0.2
             }
            },
            "type": "barpolar"
           }
          ],
          "carpet": [
           {
            "aaxis": {
             "endlinecolor": "#2a3f5f",
             "gridcolor": "white",
             "linecolor": "white",
             "minorgridcolor": "white",
             "startlinecolor": "#2a3f5f"
            },
            "baxis": {
             "endlinecolor": "#2a3f5f",
             "gridcolor": "white",
             "linecolor": "white",
             "minorgridcolor": "white",
             "startlinecolor": "#2a3f5f"
            },
            "type": "carpet"
           }
          ],
          "choropleth": [
           {
            "colorbar": {
             "outlinewidth": 0,
             "ticks": ""
            },
            "type": "choropleth"
           }
          ],
          "contour": [
           {
            "colorbar": {
             "outlinewidth": 0,
             "ticks": ""
            },
            "colorscale": [
             [
              0,
              "#0d0887"
             ],
             [
              0.1111111111111111,
              "#46039f"
             ],
             [
              0.2222222222222222,
              "#7201a8"
             ],
             [
              0.3333333333333333,
              "#9c179e"
             ],
             [
              0.4444444444444444,
              "#bd3786"
             ],
             [
              0.5555555555555556,
              "#d8576b"
             ],
             [
              0.6666666666666666,
              "#ed7953"
             ],
             [
              0.7777777777777778,
              "#fb9f3a"
             ],
             [
              0.8888888888888888,
              "#fdca26"
             ],
             [
              1,
              "#f0f921"
             ]
            ],
            "type": "contour"
           }
          ],
          "contourcarpet": [
           {
            "colorbar": {
             "outlinewidth": 0,
             "ticks": ""
            },
            "type": "contourcarpet"
           }
          ],
          "heatmap": [
           {
            "colorbar": {
             "outlinewidth": 0,
             "ticks": ""
            },
            "colorscale": [
             [
              0,
              "#0d0887"
             ],
             [
              0.1111111111111111,
              "#46039f"
             ],
             [
              0.2222222222222222,
              "#7201a8"
             ],
             [
              0.3333333333333333,
              "#9c179e"
             ],
             [
              0.4444444444444444,
              "#bd3786"
             ],
             [
              0.5555555555555556,
              "#d8576b"
             ],
             [
              0.6666666666666666,
              "#ed7953"
             ],
             [
              0.7777777777777778,
              "#fb9f3a"
             ],
             [
              0.8888888888888888,
              "#fdca26"
             ],
             [
              1,
              "#f0f921"
             ]
            ],
            "type": "heatmap"
           }
          ],
          "heatmapgl": [
           {
            "colorbar": {
             "outlinewidth": 0,
             "ticks": ""
            },
            "colorscale": [
             [
              0,
              "#0d0887"
             ],
             [
              0.1111111111111111,
              "#46039f"
             ],
             [
              0.2222222222222222,
              "#7201a8"
             ],
             [
              0.3333333333333333,
              "#9c179e"
             ],
             [
              0.4444444444444444,
              "#bd3786"
             ],
             [
              0.5555555555555556,
              "#d8576b"
             ],
             [
              0.6666666666666666,
              "#ed7953"
             ],
             [
              0.7777777777777778,
              "#fb9f3a"
             ],
             [
              0.8888888888888888,
              "#fdca26"
             ],
             [
              1,
              "#f0f921"
             ]
            ],
            "type": "heatmapgl"
           }
          ],
          "histogram": [
           {
            "marker": {
             "pattern": {
              "fillmode": "overlay",
              "size": 10,
              "solidity": 0.2
             }
            },
            "type": "histogram"
           }
          ],
          "histogram2d": [
           {
            "colorbar": {
             "outlinewidth": 0,
             "ticks": ""
            },
            "colorscale": [
             [
              0,
              "#0d0887"
             ],
             [
              0.1111111111111111,
              "#46039f"
             ],
             [
              0.2222222222222222,
              "#7201a8"
             ],
             [
              0.3333333333333333,
              "#9c179e"
             ],
             [
              0.4444444444444444,
              "#bd3786"
             ],
             [
              0.5555555555555556,
              "#d8576b"
             ],
             [
              0.6666666666666666,
              "#ed7953"
             ],
             [
              0.7777777777777778,
              "#fb9f3a"
             ],
             [
              0.8888888888888888,
              "#fdca26"
             ],
             [
              1,
              "#f0f921"
             ]
            ],
            "type": "histogram2d"
           }
          ],
          "histogram2dcontour": [
           {
            "colorbar": {
             "outlinewidth": 0,
             "ticks": ""
            },
            "colorscale": [
             [
              0,
              "#0d0887"
             ],
             [
              0.1111111111111111,
              "#46039f"
             ],
             [
              0.2222222222222222,
              "#7201a8"
             ],
             [
              0.3333333333333333,
              "#9c179e"
             ],
             [
              0.4444444444444444,
              "#bd3786"
             ],
             [
              0.5555555555555556,
              "#d8576b"
             ],
             [
              0.6666666666666666,
              "#ed7953"
             ],
             [
              0.7777777777777778,
              "#fb9f3a"
             ],
             [
              0.8888888888888888,
              "#fdca26"
             ],
             [
              1,
              "#f0f921"
             ]
            ],
            "type": "histogram2dcontour"
           }
          ],
          "mesh3d": [
           {
            "colorbar": {
             "outlinewidth": 0,
             "ticks": ""
            },
            "type": "mesh3d"
           }
          ],
          "parcoords": [
           {
            "line": {
             "colorbar": {
              "outlinewidth": 0,
              "ticks": ""
             }
            },
            "type": "parcoords"
           }
          ],
          "pie": [
           {
            "automargin": true,
            "type": "pie"
           }
          ],
          "scatter": [
           {
            "fillpattern": {
             "fillmode": "overlay",
             "size": 10,
             "solidity": 0.2
            },
            "type": "scatter"
           }
          ],
          "scatter3d": [
           {
            "line": {
             "colorbar": {
              "outlinewidth": 0,
              "ticks": ""
             }
            },
            "marker": {
             "colorbar": {
              "outlinewidth": 0,
              "ticks": ""
             }
            },
            "type": "scatter3d"
           }
          ],
          "scattercarpet": [
           {
            "marker": {
             "colorbar": {
              "outlinewidth": 0,
              "ticks": ""
             }
            },
            "type": "scattercarpet"
           }
          ],
          "scattergeo": [
           {
            "marker": {
             "colorbar": {
              "outlinewidth": 0,
              "ticks": ""
             }
            },
            "type": "scattergeo"
           }
          ],
          "scattergl": [
           {
            "marker": {
             "colorbar": {
              "outlinewidth": 0,
              "ticks": ""
             }
            },
            "type": "scattergl"
           }
          ],
          "scattermapbox": [
           {
            "marker": {
             "colorbar": {
              "outlinewidth": 0,
              "ticks": ""
             }
            },
            "type": "scattermapbox"
           }
          ],
          "scatterpolar": [
           {
            "marker": {
             "colorbar": {
              "outlinewidth": 0,
              "ticks": ""
             }
            },
            "type": "scatterpolar"
           }
          ],
          "scatterpolargl": [
           {
            "marker": {
             "colorbar": {
              "outlinewidth": 0,
              "ticks": ""
             }
            },
            "type": "scatterpolargl"
           }
          ],
          "scatterternary": [
           {
            "marker": {
             "colorbar": {
              "outlinewidth": 0,
              "ticks": ""
             }
            },
            "type": "scatterternary"
           }
          ],
          "surface": [
           {
            "colorbar": {
             "outlinewidth": 0,
             "ticks": ""
            },
            "colorscale": [
             [
              0,
              "#0d0887"
             ],
             [
              0.1111111111111111,
              "#46039f"
             ],
             [
              0.2222222222222222,
              "#7201a8"
             ],
             [
              0.3333333333333333,
              "#9c179e"
             ],
             [
              0.4444444444444444,
              "#bd3786"
             ],
             [
              0.5555555555555556,
              "#d8576b"
             ],
             [
              0.6666666666666666,
              "#ed7953"
             ],
             [
              0.7777777777777778,
              "#fb9f3a"
             ],
             [
              0.8888888888888888,
              "#fdca26"
             ],
             [
              1,
              "#f0f921"
             ]
            ],
            "type": "surface"
           }
          ],
          "table": [
           {
            "cells": {
             "fill": {
              "color": "#EBF0F8"
             },
             "line": {
              "color": "white"
             }
            },
            "header": {
             "fill": {
              "color": "#C8D4E3"
             },
             "line": {
              "color": "white"
             }
            },
            "type": "table"
           }
          ]
         },
         "layout": {
          "annotationdefaults": {
           "arrowcolor": "#2a3f5f",
           "arrowhead": 0,
           "arrowwidth": 1
          },
          "autotypenumbers": "strict",
          "coloraxis": {
           "colorbar": {
            "outlinewidth": 0,
            "ticks": ""
           }
          },
          "colorscale": {
           "diverging": [
            [
             0,
             "#8e0152"
            ],
            [
             0.1,
             "#c51b7d"
            ],
            [
             0.2,
             "#de77ae"
            ],
            [
             0.3,
             "#f1b6da"
            ],
            [
             0.4,
             "#fde0ef"
            ],
            [
             0.5,
             "#f7f7f7"
            ],
            [
             0.6,
             "#e6f5d0"
            ],
            [
             0.7,
             "#b8e186"
            ],
            [
             0.8,
             "#7fbc41"
            ],
            [
             0.9,
             "#4d9221"
            ],
            [
             1,
             "#276419"
            ]
           ],
           "sequential": [
            [
             0,
             "#0d0887"
            ],
            [
             0.1111111111111111,
             "#46039f"
            ],
            [
             0.2222222222222222,
             "#7201a8"
            ],
            [
             0.3333333333333333,
             "#9c179e"
            ],
            [
             0.4444444444444444,
             "#bd3786"
            ],
            [
             0.5555555555555556,
             "#d8576b"
            ],
            [
             0.6666666666666666,
             "#ed7953"
            ],
            [
             0.7777777777777778,
             "#fb9f3a"
            ],
            [
             0.8888888888888888,
             "#fdca26"
            ],
            [
             1,
             "#f0f921"
            ]
           ],
           "sequentialminus": [
            [
             0,
             "#0d0887"
            ],
            [
             0.1111111111111111,
             "#46039f"
            ],
            [
             0.2222222222222222,
             "#7201a8"
            ],
            [
             0.3333333333333333,
             "#9c179e"
            ],
            [
             0.4444444444444444,
             "#bd3786"
            ],
            [
             0.5555555555555556,
             "#d8576b"
            ],
            [
             0.6666666666666666,
             "#ed7953"
            ],
            [
             0.7777777777777778,
             "#fb9f3a"
            ],
            [
             0.8888888888888888,
             "#fdca26"
            ],
            [
             1,
             "#f0f921"
            ]
           ]
          },
          "colorway": [
           "#636efa",
           "#EF553B",
           "#00cc96",
           "#ab63fa",
           "#FFA15A",
           "#19d3f3",
           "#FF6692",
           "#B6E880",
           "#FF97FF",
           "#FECB52"
          ],
          "font": {
           "color": "#2a3f5f"
          },
          "geo": {
           "bgcolor": "white",
           "lakecolor": "white",
           "landcolor": "#E5ECF6",
           "showlakes": true,
           "showland": true,
           "subunitcolor": "white"
          },
          "hoverlabel": {
           "align": "left"
          },
          "hovermode": "closest",
          "mapbox": {
           "style": "light"
          },
          "paper_bgcolor": "white",
          "plot_bgcolor": "#E5ECF6",
          "polar": {
           "angularaxis": {
            "gridcolor": "white",
            "linecolor": "white",
            "ticks": ""
           },
           "bgcolor": "#E5ECF6",
           "radialaxis": {
            "gridcolor": "white",
            "linecolor": "white",
            "ticks": ""
           }
          },
          "scene": {
           "xaxis": {
            "backgroundcolor": "#E5ECF6",
            "gridcolor": "white",
            "gridwidth": 2,
            "linecolor": "white",
            "showbackground": true,
            "ticks": "",
            "zerolinecolor": "white"
           },
           "yaxis": {
            "backgroundcolor": "#E5ECF6",
            "gridcolor": "white",
            "gridwidth": 2,
            "linecolor": "white",
            "showbackground": true,
            "ticks": "",
            "zerolinecolor": "white"
           },
           "zaxis": {
            "backgroundcolor": "#E5ECF6",
            "gridcolor": "white",
            "gridwidth": 2,
            "linecolor": "white",
            "showbackground": true,
            "ticks": "",
            "zerolinecolor": "white"
           }
          },
          "shapedefaults": {
           "line": {
            "color": "#2a3f5f"
           }
          },
          "ternary": {
           "aaxis": {
            "gridcolor": "white",
            "linecolor": "white",
            "ticks": ""
           },
           "baxis": {
            "gridcolor": "white",
            "linecolor": "white",
            "ticks": ""
           },
           "bgcolor": "#E5ECF6",
           "caxis": {
            "gridcolor": "white",
            "linecolor": "white",
            "ticks": ""
           }
          },
          "title": {
           "x": 0.05
          },
          "xaxis": {
           "automargin": true,
           "gridcolor": "white",
           "linecolor": "white",
           "ticks": "",
           "title": {
            "standoff": 15
           },
           "zerolinecolor": "white",
           "zerolinewidth": 2
          },
          "yaxis": {
           "automargin": true,
           "gridcolor": "white",
           "linecolor": "white",
           "ticks": "",
           "title": {
            "standoff": 15
           },
           "zerolinecolor": "white",
           "zerolinewidth": 2
          }
         }
        },
        "title": {
         "text": "Top 10 Genres by Average Vote"
        },
        "xaxis": {
         "anchor": "y",
         "domain": [
          0,
          1
         ],
         "title": {
          "text": "Average Vote"
         }
        },
        "yaxis": {
         "anchor": "x",
         "domain": [
          0,
          1
         ],
         "title": {
          "text": "Genre"
         }
        }
       }
      }
     },
     "metadata": {},
     "output_type": "display_data"
    }
   ],
   "source": [
    "# Split genres into a list\n",
    "df['genre_list'] = df['genres'].str.split('-')\n",
    "\n",
    "# Explode the list to create separate rows for each genre\n",
    "df_exploded = df.explode('genre_list')\n",
    "\n",
    "# Group by genre and calculate the average vote\n",
    "genre_avg_vote = df_exploded.groupby('genre_list')['vote_average'].mean().reset_index()\n",
    "\n",
    "# Sort by average vote in descending order\n",
    "top_genres = genre_avg_vote.sort_values(by='vote_average', ascending=False).head(10)\n",
    "\n",
    "# Create a Plotly bar plot\n",
    "fig = px.bar(top_genres, x='vote_average', y='genre_list', orientation='h',\n",
    "             labels={'vote_average': 'Average Vote', 'genre_list': 'Genre'},\n",
    "             title='Top 10 Genres by Average Vote',\n",
    "             color='vote_average',\n",
    "             color_continuous_scale='viridis')\n",
    "\n",
    "# Show the plot\n",
    "fig.show()"
   ]
  },
  {
   "cell_type": "markdown",
   "metadata": {},
   "source": [
    "## average popularity for each genre"
   ]
  },
  {
   "cell_type": "code",
   "execution_count": 62,
   "metadata": {},
   "outputs": [
    {
     "data": {
      "application/vnd.plotly.v1+json": {
       "config": {
        "plotlyServerURL": "https://plot.ly"
       },
       "data": [
        {
         "alignmentgroup": "True",
         "hovertemplate": "Average Popularity=%{marker.color}<br>Genre=%{y}<extra></extra>",
         "legendgroup": "",
         "marker": {
          "color": [
           8.153145733021507,
           7.1021630082179925,
           6.721296401002999,
           6.536650415215644,
           5.250970178073375,
           5.134572793592895,
           4.232787907754809,
           3.9830685394947873,
           3.8856126498273174,
           3.518545392569026
          ],
          "coloraxis": "coloraxis",
          "pattern": {
           "shape": ""
          }
         },
         "name": "",
         "offsetgroup": "",
         "orientation": "h",
         "showlegend": false,
         "textposition": "auto",
         "type": "bar",
         "x": [
          8.153145733021507,
          7.1021630082179925,
          6.721296401002999,
          6.536650415215644,
          5.250970178073375,
          5.134572793592895,
          4.232787907754809,
          3.9830685394947873,
          3.8856126498273174,
          3.518545392569026
         ],
         "xaxis": "x",
         "y": [
          "Adventure",
          "Fantasy",
          "Action",
          "Science Fiction",
          "Thriller",
          "Family",
          "Mystery",
          "Horror",
          "Crime",
          "Animation"
         ],
         "yaxis": "y"
        }
       ],
       "layout": {
        "barmode": "relative",
        "coloraxis": {
         "colorbar": {
          "title": {
           "text": "Average Popularity"
          }
         },
         "colorscale": [
          [
           0,
           "#440154"
          ],
          [
           0.1111111111111111,
           "#482878"
          ],
          [
           0.2222222222222222,
           "#3e4989"
          ],
          [
           0.3333333333333333,
           "#31688e"
          ],
          [
           0.4444444444444444,
           "#26828e"
          ],
          [
           0.5555555555555556,
           "#1f9e89"
          ],
          [
           0.6666666666666666,
           "#35b779"
          ],
          [
           0.7777777777777778,
           "#6ece58"
          ],
          [
           0.8888888888888888,
           "#b5de2b"
          ],
          [
           1,
           "#fde725"
          ]
         ]
        },
        "legend": {
         "tracegroupgap": 0
        },
        "template": {
         "data": {
          "bar": [
           {
            "error_x": {
             "color": "#2a3f5f"
            },
            "error_y": {
             "color": "#2a3f5f"
            },
            "marker": {
             "line": {
              "color": "#E5ECF6",
              "width": 0.5
             },
             "pattern": {
              "fillmode": "overlay",
              "size": 10,
              "solidity": 0.2
             }
            },
            "type": "bar"
           }
          ],
          "barpolar": [
           {
            "marker": {
             "line": {
              "color": "#E5ECF6",
              "width": 0.5
             },
             "pattern": {
              "fillmode": "overlay",
              "size": 10,
              "solidity": 0.2
             }
            },
            "type": "barpolar"
           }
          ],
          "carpet": [
           {
            "aaxis": {
             "endlinecolor": "#2a3f5f",
             "gridcolor": "white",
             "linecolor": "white",
             "minorgridcolor": "white",
             "startlinecolor": "#2a3f5f"
            },
            "baxis": {
             "endlinecolor": "#2a3f5f",
             "gridcolor": "white",
             "linecolor": "white",
             "minorgridcolor": "white",
             "startlinecolor": "#2a3f5f"
            },
            "type": "carpet"
           }
          ],
          "choropleth": [
           {
            "colorbar": {
             "outlinewidth": 0,
             "ticks": ""
            },
            "type": "choropleth"
           }
          ],
          "contour": [
           {
            "colorbar": {
             "outlinewidth": 0,
             "ticks": ""
            },
            "colorscale": [
             [
              0,
              "#0d0887"
             ],
             [
              0.1111111111111111,
              "#46039f"
             ],
             [
              0.2222222222222222,
              "#7201a8"
             ],
             [
              0.3333333333333333,
              "#9c179e"
             ],
             [
              0.4444444444444444,
              "#bd3786"
             ],
             [
              0.5555555555555556,
              "#d8576b"
             ],
             [
              0.6666666666666666,
              "#ed7953"
             ],
             [
              0.7777777777777778,
              "#fb9f3a"
             ],
             [
              0.8888888888888888,
              "#fdca26"
             ],
             [
              1,
              "#f0f921"
             ]
            ],
            "type": "contour"
           }
          ],
          "contourcarpet": [
           {
            "colorbar": {
             "outlinewidth": 0,
             "ticks": ""
            },
            "type": "contourcarpet"
           }
          ],
          "heatmap": [
           {
            "colorbar": {
             "outlinewidth": 0,
             "ticks": ""
            },
            "colorscale": [
             [
              0,
              "#0d0887"
             ],
             [
              0.1111111111111111,
              "#46039f"
             ],
             [
              0.2222222222222222,
              "#7201a8"
             ],
             [
              0.3333333333333333,
              "#9c179e"
             ],
             [
              0.4444444444444444,
              "#bd3786"
             ],
             [
              0.5555555555555556,
              "#d8576b"
             ],
             [
              0.6666666666666666,
              "#ed7953"
             ],
             [
              0.7777777777777778,
              "#fb9f3a"
             ],
             [
              0.8888888888888888,
              "#fdca26"
             ],
             [
              1,
              "#f0f921"
             ]
            ],
            "type": "heatmap"
           }
          ],
          "heatmapgl": [
           {
            "colorbar": {
             "outlinewidth": 0,
             "ticks": ""
            },
            "colorscale": [
             [
              0,
              "#0d0887"
             ],
             [
              0.1111111111111111,
              "#46039f"
             ],
             [
              0.2222222222222222,
              "#7201a8"
             ],
             [
              0.3333333333333333,
              "#9c179e"
             ],
             [
              0.4444444444444444,
              "#bd3786"
             ],
             [
              0.5555555555555556,
              "#d8576b"
             ],
             [
              0.6666666666666666,
              "#ed7953"
             ],
             [
              0.7777777777777778,
              "#fb9f3a"
             ],
             [
              0.8888888888888888,
              "#fdca26"
             ],
             [
              1,
              "#f0f921"
             ]
            ],
            "type": "heatmapgl"
           }
          ],
          "histogram": [
           {
            "marker": {
             "pattern": {
              "fillmode": "overlay",
              "size": 10,
              "solidity": 0.2
             }
            },
            "type": "histogram"
           }
          ],
          "histogram2d": [
           {
            "colorbar": {
             "outlinewidth": 0,
             "ticks": ""
            },
            "colorscale": [
             [
              0,
              "#0d0887"
             ],
             [
              0.1111111111111111,
              "#46039f"
             ],
             [
              0.2222222222222222,
              "#7201a8"
             ],
             [
              0.3333333333333333,
              "#9c179e"
             ],
             [
              0.4444444444444444,
              "#bd3786"
             ],
             [
              0.5555555555555556,
              "#d8576b"
             ],
             [
              0.6666666666666666,
              "#ed7953"
             ],
             [
              0.7777777777777778,
              "#fb9f3a"
             ],
             [
              0.8888888888888888,
              "#fdca26"
             ],
             [
              1,
              "#f0f921"
             ]
            ],
            "type": "histogram2d"
           }
          ],
          "histogram2dcontour": [
           {
            "colorbar": {
             "outlinewidth": 0,
             "ticks": ""
            },
            "colorscale": [
             [
              0,
              "#0d0887"
             ],
             [
              0.1111111111111111,
              "#46039f"
             ],
             [
              0.2222222222222222,
              "#7201a8"
             ],
             [
              0.3333333333333333,
              "#9c179e"
             ],
             [
              0.4444444444444444,
              "#bd3786"
             ],
             [
              0.5555555555555556,
              "#d8576b"
             ],
             [
              0.6666666666666666,
              "#ed7953"
             ],
             [
              0.7777777777777778,
              "#fb9f3a"
             ],
             [
              0.8888888888888888,
              "#fdca26"
             ],
             [
              1,
              "#f0f921"
             ]
            ],
            "type": "histogram2dcontour"
           }
          ],
          "mesh3d": [
           {
            "colorbar": {
             "outlinewidth": 0,
             "ticks": ""
            },
            "type": "mesh3d"
           }
          ],
          "parcoords": [
           {
            "line": {
             "colorbar": {
              "outlinewidth": 0,
              "ticks": ""
             }
            },
            "type": "parcoords"
           }
          ],
          "pie": [
           {
            "automargin": true,
            "type": "pie"
           }
          ],
          "scatter": [
           {
            "fillpattern": {
             "fillmode": "overlay",
             "size": 10,
             "solidity": 0.2
            },
            "type": "scatter"
           }
          ],
          "scatter3d": [
           {
            "line": {
             "colorbar": {
              "outlinewidth": 0,
              "ticks": ""
             }
            },
            "marker": {
             "colorbar": {
              "outlinewidth": 0,
              "ticks": ""
             }
            },
            "type": "scatter3d"
           }
          ],
          "scattercarpet": [
           {
            "marker": {
             "colorbar": {
              "outlinewidth": 0,
              "ticks": ""
             }
            },
            "type": "scattercarpet"
           }
          ],
          "scattergeo": [
           {
            "marker": {
             "colorbar": {
              "outlinewidth": 0,
              "ticks": ""
             }
            },
            "type": "scattergeo"
           }
          ],
          "scattergl": [
           {
            "marker": {
             "colorbar": {
              "outlinewidth": 0,
              "ticks": ""
             }
            },
            "type": "scattergl"
           }
          ],
          "scattermapbox": [
           {
            "marker": {
             "colorbar": {
              "outlinewidth": 0,
              "ticks": ""
             }
            },
            "type": "scattermapbox"
           }
          ],
          "scatterpolar": [
           {
            "marker": {
             "colorbar": {
              "outlinewidth": 0,
              "ticks": ""
             }
            },
            "type": "scatterpolar"
           }
          ],
          "scatterpolargl": [
           {
            "marker": {
             "colorbar": {
              "outlinewidth": 0,
              "ticks": ""
             }
            },
            "type": "scatterpolargl"
           }
          ],
          "scatterternary": [
           {
            "marker": {
             "colorbar": {
              "outlinewidth": 0,
              "ticks": ""
             }
            },
            "type": "scatterternary"
           }
          ],
          "surface": [
           {
            "colorbar": {
             "outlinewidth": 0,
             "ticks": ""
            },
            "colorscale": [
             [
              0,
              "#0d0887"
             ],
             [
              0.1111111111111111,
              "#46039f"
             ],
             [
              0.2222222222222222,
              "#7201a8"
             ],
             [
              0.3333333333333333,
              "#9c179e"
             ],
             [
              0.4444444444444444,
              "#bd3786"
             ],
             [
              0.5555555555555556,
              "#d8576b"
             ],
             [
              0.6666666666666666,
              "#ed7953"
             ],
             [
              0.7777777777777778,
              "#fb9f3a"
             ],
             [
              0.8888888888888888,
              "#fdca26"
             ],
             [
              1,
              "#f0f921"
             ]
            ],
            "type": "surface"
           }
          ],
          "table": [
           {
            "cells": {
             "fill": {
              "color": "#EBF0F8"
             },
             "line": {
              "color": "white"
             }
            },
            "header": {
             "fill": {
              "color": "#C8D4E3"
             },
             "line": {
              "color": "white"
             }
            },
            "type": "table"
           }
          ]
         },
         "layout": {
          "annotationdefaults": {
           "arrowcolor": "#2a3f5f",
           "arrowhead": 0,
           "arrowwidth": 1
          },
          "autotypenumbers": "strict",
          "coloraxis": {
           "colorbar": {
            "outlinewidth": 0,
            "ticks": ""
           }
          },
          "colorscale": {
           "diverging": [
            [
             0,
             "#8e0152"
            ],
            [
             0.1,
             "#c51b7d"
            ],
            [
             0.2,
             "#de77ae"
            ],
            [
             0.3,
             "#f1b6da"
            ],
            [
             0.4,
             "#fde0ef"
            ],
            [
             0.5,
             "#f7f7f7"
            ],
            [
             0.6,
             "#e6f5d0"
            ],
            [
             0.7,
             "#b8e186"
            ],
            [
             0.8,
             "#7fbc41"
            ],
            [
             0.9,
             "#4d9221"
            ],
            [
             1,
             "#276419"
            ]
           ],
           "sequential": [
            [
             0,
             "#0d0887"
            ],
            [
             0.1111111111111111,
             "#46039f"
            ],
            [
             0.2222222222222222,
             "#7201a8"
            ],
            [
             0.3333333333333333,
             "#9c179e"
            ],
            [
             0.4444444444444444,
             "#bd3786"
            ],
            [
             0.5555555555555556,
             "#d8576b"
            ],
            [
             0.6666666666666666,
             "#ed7953"
            ],
            [
             0.7777777777777778,
             "#fb9f3a"
            ],
            [
             0.8888888888888888,
             "#fdca26"
            ],
            [
             1,
             "#f0f921"
            ]
           ],
           "sequentialminus": [
            [
             0,
             "#0d0887"
            ],
            [
             0.1111111111111111,
             "#46039f"
            ],
            [
             0.2222222222222222,
             "#7201a8"
            ],
            [
             0.3333333333333333,
             "#9c179e"
            ],
            [
             0.4444444444444444,
             "#bd3786"
            ],
            [
             0.5555555555555556,
             "#d8576b"
            ],
            [
             0.6666666666666666,
             "#ed7953"
            ],
            [
             0.7777777777777778,
             "#fb9f3a"
            ],
            [
             0.8888888888888888,
             "#fdca26"
            ],
            [
             1,
             "#f0f921"
            ]
           ]
          },
          "colorway": [
           "#636efa",
           "#EF553B",
           "#00cc96",
           "#ab63fa",
           "#FFA15A",
           "#19d3f3",
           "#FF6692",
           "#B6E880",
           "#FF97FF",
           "#FECB52"
          ],
          "font": {
           "color": "#2a3f5f"
          },
          "geo": {
           "bgcolor": "white",
           "lakecolor": "white",
           "landcolor": "#E5ECF6",
           "showlakes": true,
           "showland": true,
           "subunitcolor": "white"
          },
          "hoverlabel": {
           "align": "left"
          },
          "hovermode": "closest",
          "mapbox": {
           "style": "light"
          },
          "paper_bgcolor": "white",
          "plot_bgcolor": "#E5ECF6",
          "polar": {
           "angularaxis": {
            "gridcolor": "white",
            "linecolor": "white",
            "ticks": ""
           },
           "bgcolor": "#E5ECF6",
           "radialaxis": {
            "gridcolor": "white",
            "linecolor": "white",
            "ticks": ""
           }
          },
          "scene": {
           "xaxis": {
            "backgroundcolor": "#E5ECF6",
            "gridcolor": "white",
            "gridwidth": 2,
            "linecolor": "white",
            "showbackground": true,
            "ticks": "",
            "zerolinecolor": "white"
           },
           "yaxis": {
            "backgroundcolor": "#E5ECF6",
            "gridcolor": "white",
            "gridwidth": 2,
            "linecolor": "white",
            "showbackground": true,
            "ticks": "",
            "zerolinecolor": "white"
           },
           "zaxis": {
            "backgroundcolor": "#E5ECF6",
            "gridcolor": "white",
            "gridwidth": 2,
            "linecolor": "white",
            "showbackground": true,
            "ticks": "",
            "zerolinecolor": "white"
           }
          },
          "shapedefaults": {
           "line": {
            "color": "#2a3f5f"
           }
          },
          "ternary": {
           "aaxis": {
            "gridcolor": "white",
            "linecolor": "white",
            "ticks": ""
           },
           "baxis": {
            "gridcolor": "white",
            "linecolor": "white",
            "ticks": ""
           },
           "bgcolor": "#E5ECF6",
           "caxis": {
            "gridcolor": "white",
            "linecolor": "white",
            "ticks": ""
           }
          },
          "title": {
           "x": 0.05
          },
          "xaxis": {
           "automargin": true,
           "gridcolor": "white",
           "linecolor": "white",
           "ticks": "",
           "title": {
            "standoff": 15
           },
           "zerolinecolor": "white",
           "zerolinewidth": 2
          },
          "yaxis": {
           "automargin": true,
           "gridcolor": "white",
           "linecolor": "white",
           "ticks": "",
           "title": {
            "standoff": 15
           },
           "zerolinecolor": "white",
           "zerolinewidth": 2
          }
         }
        },
        "title": {
         "text": "Top 10 Popular Genres by Average Popularity"
        },
        "xaxis": {
         "anchor": "y",
         "domain": [
          0,
          1
         ],
         "title": {
          "text": "Average Popularity"
         }
        },
        "yaxis": {
         "anchor": "x",
         "domain": [
          0,
          1
         ],
         "title": {
          "text": "Genre"
         }
        }
       }
      }
     },
     "metadata": {},
     "output_type": "display_data"
    }
   ],
   "source": [
    "# Split genres into a list\n",
    "df['genre_list'] = df['genres'].str.split('-')\n",
    "\n",
    "# Explode the list to create separate rows for each genre\n",
    "df_exploded = df.explode('genre_list')\n",
    "\n",
    "# Group by genre and calculate the average popularity\n",
    "genre_avg_popularity = df_exploded.groupby('genre_list')['popularity'].mean().reset_index()\n",
    "\n",
    "# Sort by average popularity in descending order\n",
    "top_popular_genres = genre_avg_popularity.sort_values(by='popularity', ascending=False).head(10)\n",
    "\n",
    "# Create a Plotly bar plot\n",
    "fig = px.bar(top_popular_genres, x='popularity', y='genre_list', orientation='h',\n",
    "             labels={'popularity': 'Average Popularity', 'genre_list': 'Genre'},\n",
    "             title='Top 10 Popular Genres by Average Popularity',\n",
    "             color='popularity',\n",
    "             color_continuous_scale='viridis')\n",
    "\n",
    "# Show the plot\n",
    "fig.show()"
   ]
  },
  {
   "cell_type": "code",
   "execution_count": 63,
   "metadata": {},
   "outputs": [
    {
     "data": {
      "text/html": [
       "<div>\n",
       "<style scoped>\n",
       "    .dataframe tbody tr th:only-of-type {\n",
       "        vertical-align: middle;\n",
       "    }\n",
       "\n",
       "    .dataframe tbody tr th {\n",
       "        vertical-align: top;\n",
       "    }\n",
       "\n",
       "    .dataframe thead th {\n",
       "        text-align: right;\n",
       "    }\n",
       "</style>\n",
       "<table border=\"1\" class=\"dataframe\">\n",
       "  <thead>\n",
       "    <tr style=\"text-align: right;\">\n",
       "      <th></th>\n",
       "      <th>id</th>\n",
       "      <th>title</th>\n",
       "      <th>genres</th>\n",
       "      <th>original_language</th>\n",
       "      <th>overview</th>\n",
       "      <th>popularity</th>\n",
       "      <th>production_companies</th>\n",
       "      <th>release_date</th>\n",
       "      <th>budget</th>\n",
       "      <th>revenue</th>\n",
       "      <th>...</th>\n",
       "      <th>status</th>\n",
       "      <th>tagline</th>\n",
       "      <th>vote_average</th>\n",
       "      <th>vote_count</th>\n",
       "      <th>credits</th>\n",
       "      <th>keywords</th>\n",
       "      <th>profit</th>\n",
       "      <th>release_year</th>\n",
       "      <th>release_month</th>\n",
       "      <th>genre_list</th>\n",
       "    </tr>\n",
       "  </thead>\n",
       "  <tbody>\n",
       "    <tr>\n",
       "      <th>0</th>\n",
       "      <td>675353</td>\n",
       "      <td>Sonic the Hedgehog 2</td>\n",
       "      <td>Action-Science Fiction-Comedy-Family-Adventure</td>\n",
       "      <td>en</td>\n",
       "      <td>After settling in Green Hills Sonic is eager t...</td>\n",
       "      <td>6852.303</td>\n",
       "      <td>SEGA-Original Film-Blur Studios-Marza Animatio...</td>\n",
       "      <td>2022-03-30</td>\n",
       "      <td>110000000</td>\n",
       "      <td>355200000</td>\n",
       "      <td>...</td>\n",
       "      <td>Released</td>\n",
       "      <td>Welcome to the next level.</td>\n",
       "      <td>7.7</td>\n",
       "      <td>1465</td>\n",
       "      <td>Ben Schwartz-Idris Elba-Colleen O'Shaughnessey...</td>\n",
       "      <td>sequel-based on video game-hedgehog-live actio...</td>\n",
       "      <td>245200000</td>\n",
       "      <td>2022</td>\n",
       "      <td>March</td>\n",
       "      <td>[Action, Science Fiction, Comedy, Family, Adve...</td>\n",
       "    </tr>\n",
       "    <tr>\n",
       "      <th>1</th>\n",
       "      <td>752623</td>\n",
       "      <td>The Lost City</td>\n",
       "      <td>Action-Adventure-Comedy-Romance</td>\n",
       "      <td>en</td>\n",
       "      <td>A reclusive romance novelist who was sure noth...</td>\n",
       "      <td>5805.799</td>\n",
       "      <td>Paramount-Fortis Films-3dot Productions-Exhibi...</td>\n",
       "      <td>2022-03-24</td>\n",
       "      <td>74000000</td>\n",
       "      <td>164289828</td>\n",
       "      <td>...</td>\n",
       "      <td>Released</td>\n",
       "      <td>The adventure is real. The heroes are not.</td>\n",
       "      <td>6.7</td>\n",
       "      <td>604</td>\n",
       "      <td>Sandra Bullock-Channing Tatum-Daniel Radcliffe...</td>\n",
       "      <td>duringcreditsstinger</td>\n",
       "      <td>90289828</td>\n",
       "      <td>2022</td>\n",
       "      <td>March</td>\n",
       "      <td>[Action, Adventure, Comedy, Romance]</td>\n",
       "    </tr>\n",
       "  </tbody>\n",
       "</table>\n",
       "<p>2 rows × 21 columns</p>\n",
       "</div>"
      ],
      "text/plain": [
       "       id                 title  \\\n",
       "0  675353  Sonic the Hedgehog 2   \n",
       "1  752623         The Lost City   \n",
       "\n",
       "                                           genres original_language  \\\n",
       "0  Action-Science Fiction-Comedy-Family-Adventure                en   \n",
       "1                 Action-Adventure-Comedy-Romance                en   \n",
       "\n",
       "                                            overview  popularity  \\\n",
       "0  After settling in Green Hills Sonic is eager t...    6852.303   \n",
       "1  A reclusive romance novelist who was sure noth...    5805.799   \n",
       "\n",
       "                                production_companies release_date     budget  \\\n",
       "0  SEGA-Original Film-Blur Studios-Marza Animatio...   2022-03-30  110000000   \n",
       "1  Paramount-Fortis Films-3dot Productions-Exhibi...   2022-03-24   74000000   \n",
       "\n",
       "     revenue  ...    status                                     tagline  \\\n",
       "0  355200000  ...  Released                  Welcome to the next level.   \n",
       "1  164289828  ...  Released  The adventure is real. The heroes are not.   \n",
       "\n",
       "  vote_average  vote_count                                            credits  \\\n",
       "0          7.7        1465  Ben Schwartz-Idris Elba-Colleen O'Shaughnessey...   \n",
       "1          6.7         604  Sandra Bullock-Channing Tatum-Daniel Radcliffe...   \n",
       "\n",
       "                                            keywords     profit  release_year  \\\n",
       "0  sequel-based on video game-hedgehog-live actio...  245200000          2022   \n",
       "1                               duringcreditsstinger   90289828          2022   \n",
       "\n",
       "   release_month                                         genre_list  \n",
       "0          March  [Action, Science Fiction, Comedy, Family, Adve...  \n",
       "1          March               [Action, Adventure, Comedy, Romance]  \n",
       "\n",
       "[2 rows x 21 columns]"
      ]
     },
     "execution_count": 63,
     "metadata": {},
     "output_type": "execute_result"
    }
   ],
   "source": [
    "df.head(2)"
   ]
  },
  {
   "cell_type": "markdown",
   "metadata": {},
   "source": [
    "## movie with the highest popularity and its genre"
   ]
  },
  {
   "cell_type": "code",
   "execution_count": 64,
   "metadata": {},
   "outputs": [
    {
     "name": "stdout",
     "output_type": "stream",
     "text": [
      "The movie with the highest popularity is 'Sonic the Hedgehog 2' with genres: Action-Science Fiction-Comedy-Family-Adventure\n"
     ]
    }
   ],
   "source": [
    "# Find the row with the highest popularity\n",
    "highest_popularity_movie = df[df['popularity'] == df['popularity'].max()]\n",
    "\n",
    "# Extract the title and genres of the highest popularity movie\n",
    "highest_popularity_title = highest_popularity_movie['title'].values[0]\n",
    "highest_popularity_genres = highest_popularity_movie['genres'].values[0]\n",
    "\n",
    "print(f\"The movie with the highest popularity is '{highest_popularity_title}' with genres: {highest_popularity_genres}\")\n"
   ]
  },
  {
   "cell_type": "markdown",
   "metadata": {},
   "source": [
    "______________________________"
   ]
  },
  {
   "cell_type": "markdown",
   "metadata": {},
   "source": [
    "# Exploratory Data Analysis (EDA) Summary: Movies Dataset\n",
    "\n",
    "In our comprehensive EDA of a movies dataset containing 780,113 entries and 17 columns, we uncovered valuable insights and patterns across various dimensions. The dataset, encompassing details such as movie title, genres, popularity, budget, and revenue, presented both challenges and opportunities for exploration.\n",
    "\n",
    "## Key Findings:\n",
    "\n",
    "### 1. Missing Values:\n",
    "\n",
    "The dataset exhibited missing values in several columns, notably in 'tagline' and 'keywords.'\n",
    "Other columns like 'genres,' 'overview,' 'production_companies,' 'release_date,' and 'credits' also had missing values.\n",
    "### 2. Statistical Analysis:\n",
    "\n",
    "Descriptive statistics revealed a wide range in the 'budget,' 'popularity,' and 'vote_count,' indicating significant variability among movies.\n",
    "Central tendency measures provided insights into the distribution of values across numeric columns.\n",
    "### 3. Distribution Analysis:\n",
    "\n",
    "Visualizing the distribution of key features such as 'popularity,' 'budget,' 'revenue,' and 'vote_count' showcased interesting patterns.\n",
    "Right-skewed distributions indicated varying degrees of success, with a few movies standing out in terms of popularity, budget, and revenue.\n",
    "### 4. Genre Analysis:\n",
    "\n",
    "The analysis of movie genres unveiled a diverse landscape, with 'Action,' 'Drama,' and 'Comedy' emerging as predominant genres.\n",
    "A bar plot illustrated the frequency distribution of genres in the dataset.\n",
    "### 5. Correlation Analysis:\n",
    "\n",
    "The correlation heatmap provided insights into the relationships between numeric variables.\n",
    "Strong positive correlations were observed between 'Budget' and 'Revenue,' as well as between 'Popularity' and 'Vote Count.'\n",
    "\n",
    "\n",
    "## Conclusion:\n",
    "Our EDA laid the foundation for a deeper understanding of the movies dataset, guiding future analyses and decision-making processes. The exploration of missing values, statistical measures, and visualizations allowed us to grasp the intricacies of the data, providing a basis for further feature engineering and modeling endeavors. The insights gained will inform subsequent steps in leveraging this dataset for more advanced analytics and decision support in the realm of movie industry studies."
   ]
  }
 ],
 "metadata": {
  "kernelspec": {
   "display_name": "analysis",
   "language": "python",
   "name": "python3"
  },
  "language_info": {
   "codemirror_mode": {
    "name": "ipython",
    "version": 3
   },
   "file_extension": ".py",
   "mimetype": "text/x-python",
   "name": "python",
   "nbconvert_exporter": "python",
   "pygments_lexer": "ipython3",
   "version": "3.10.5"
  }
 },
 "nbformat": 4,
 "nbformat_minor": 2
}
